{
  "nbformat": 4,
  "nbformat_minor": 0,
  "metadata": {
    "kernelspec": {
      "display_name": "Python 3",
      "language": "python",
      "name": "python3"
    },
    "language_info": {
      "codemirror_mode": {
        "name": "ipython",
        "version": 3
      },
      "file_extension": ".py",
      "mimetype": "text/x-python",
      "name": "python",
      "nbconvert_exporter": "python",
      "pygments_lexer": "ipython3",
      "version": "3.7.6"
    },
    "colab": {
      "name": "Copy of Copy of maruti_stockPrice_LSTM.ipynb",
      "provenance": [],
      "collapsed_sections": [],
      "toc_visible": true,
      "include_colab_link": true
    },
    "accelerator": "GPU"
  },
  "cells": [
    {
      "cell_type": "markdown",
      "metadata": {
        "id": "view-in-github",
        "colab_type": "text"
      },
      "source": [
        "<a href=\"https://colab.research.google.com/github/appydam/-appydam-.github.io/blob/master/maruti_stockPrice_LSTM_GRU.ipynb\" target=\"_parent\"><img src=\"https://colab.research.google.com/assets/colab-badge.svg\" alt=\"Open In Colab\"/></a>"
      ]
    },
    {
      "cell_type": "markdown",
      "metadata": {
        "id": "B9Uvfq6IqIbN"
      },
      "source": [
        "## Part-1 Data Preprocessing"
      ]
    },
    {
      "cell_type": "markdown",
      "metadata": {
        "id": "HOoKXGpnaC7f"
      },
      "source": [
        "Importing Liibraries\n"
      ]
    },
    {
      "cell_type": "code",
      "metadata": {
        "id": "UxcRsDhRNAN2"
      },
      "source": [
        "import numpy as np\n",
        "import matplotlib.pyplot as plt\n",
        "import pandas as pd\n",
        "chutiyapa\n"
      ],
      "execution_count": null,
      "outputs": []
    },
    {
      "cell_type": "markdown",
      "metadata": {
        "id": "F8jyel-YaKel"
      },
      "source": [
        "Importing dataset and creating training set(stocks till september 2020)"
      ]
    },
    {
      "cell_type": "code",
      "metadata": {
        "id": "aprtcxkuNAN6",
        "colab": {
          "base_uri": "https://localhost:8080/",
          "height": 195
        },
        "outputId": "4859106f-d05f-476c-c8af-c37d723dd48c"
      },
      "source": [
        "dataset = pd.read_csv('MARUTI.csv')\n",
        "training_set = dataset.iloc[0:4284, 8:9].values   # till 31st august, test set me september ka month hoga\n",
        "\n",
        "dataset.head()"
      ],
      "execution_count": null,
      "outputs": [
        {
          "output_type": "execute_result",
          "data": {
            "text/html": [
              "<div>\n",
              "<style scoped>\n",
              "    .dataframe tbody tr th:only-of-type {\n",
              "        vertical-align: middle;\n",
              "    }\n",
              "\n",
              "    .dataframe tbody tr th {\n",
              "        vertical-align: top;\n",
              "    }\n",
              "\n",
              "    .dataframe thead th {\n",
              "        text-align: right;\n",
              "    }\n",
              "</style>\n",
              "<table border=\"1\" class=\"dataframe\">\n",
              "  <thead>\n",
              "    <tr style=\"text-align: right;\">\n",
              "      <th></th>\n",
              "      <th>Date</th>\n",
              "      <th>Symbol</th>\n",
              "      <th>Series</th>\n",
              "      <th>Prev Close</th>\n",
              "      <th>Open</th>\n",
              "      <th>High</th>\n",
              "      <th>Low</th>\n",
              "      <th>Last</th>\n",
              "      <th>Close</th>\n",
              "      <th>VWAP</th>\n",
              "      <th>Volume</th>\n",
              "      <th>Turnover</th>\n",
              "      <th>Trades</th>\n",
              "      <th>Deliverable Volume</th>\n",
              "      <th>%Deliverble</th>\n",
              "    </tr>\n",
              "  </thead>\n",
              "  <tbody>\n",
              "    <tr>\n",
              "      <th>0</th>\n",
              "      <td>2003-07-09</td>\n",
              "      <td>MARUTI</td>\n",
              "      <td>EQ</td>\n",
              "      <td>125.00</td>\n",
              "      <td>164.90</td>\n",
              "      <td>170.40</td>\n",
              "      <td>155.00</td>\n",
              "      <td>164.0</td>\n",
              "      <td>164.30</td>\n",
              "      <td>165.95</td>\n",
              "      <td>35164283</td>\n",
              "      <td>5.835528e+14</td>\n",
              "      <td>NaN</td>\n",
              "      <td>8537695.0</td>\n",
              "      <td>0.2428</td>\n",
              "    </tr>\n",
              "    <tr>\n",
              "      <th>1</th>\n",
              "      <td>2003-07-10</td>\n",
              "      <td>MARUTI</td>\n",
              "      <td>EQ</td>\n",
              "      <td>164.30</td>\n",
              "      <td>167.00</td>\n",
              "      <td>168.70</td>\n",
              "      <td>164.50</td>\n",
              "      <td>167.0</td>\n",
              "      <td>167.00</td>\n",
              "      <td>166.74</td>\n",
              "      <td>10464179</td>\n",
              "      <td>1.744820e+14</td>\n",
              "      <td>NaN</td>\n",
              "      <td>4363947.0</td>\n",
              "      <td>0.4170</td>\n",
              "    </tr>\n",
              "    <tr>\n",
              "      <th>2</th>\n",
              "      <td>2003-07-11</td>\n",
              "      <td>MARUTI</td>\n",
              "      <td>EQ</td>\n",
              "      <td>167.00</td>\n",
              "      <td>167.75</td>\n",
              "      <td>174.85</td>\n",
              "      <td>166.25</td>\n",
              "      <td>173.6</td>\n",
              "      <td>173.35</td>\n",
              "      <td>172.45</td>\n",
              "      <td>11740117</td>\n",
              "      <td>2.024622e+14</td>\n",
              "      <td>NaN</td>\n",
              "      <td>3014852.0</td>\n",
              "      <td>0.2568</td>\n",
              "    </tr>\n",
              "    <tr>\n",
              "      <th>3</th>\n",
              "      <td>2003-07-14</td>\n",
              "      <td>MARUTI</td>\n",
              "      <td>EQ</td>\n",
              "      <td>173.35</td>\n",
              "      <td>174.25</td>\n",
              "      <td>179.25</td>\n",
              "      <td>174.25</td>\n",
              "      <td>178.6</td>\n",
              "      <td>177.95</td>\n",
              "      <td>177.91</td>\n",
              "      <td>5982324</td>\n",
              "      <td>1.064313e+14</td>\n",
              "      <td>NaN</td>\n",
              "      <td>1949217.0</td>\n",
              "      <td>0.3258</td>\n",
              "    </tr>\n",
              "    <tr>\n",
              "      <th>4</th>\n",
              "      <td>2003-07-15</td>\n",
              "      <td>MARUTI</td>\n",
              "      <td>EQ</td>\n",
              "      <td>177.95</td>\n",
              "      <td>200.00</td>\n",
              "      <td>200.00</td>\n",
              "      <td>173.00</td>\n",
              "      <td>176.3</td>\n",
              "      <td>176.20</td>\n",
              "      <td>176.88</td>\n",
              "      <td>6173689</td>\n",
              "      <td>1.092001e+14</td>\n",
              "      <td>NaN</td>\n",
              "      <td>1307694.0</td>\n",
              "      <td>0.2118</td>\n",
              "    </tr>\n",
              "  </tbody>\n",
              "</table>\n",
              "</div>"
            ],
            "text/plain": [
              "         Date  Symbol Series  ...  Trades  Deliverable Volume  %Deliverble\n",
              "0  2003-07-09  MARUTI     EQ  ...     NaN           8537695.0       0.2428\n",
              "1  2003-07-10  MARUTI     EQ  ...     NaN           4363947.0       0.4170\n",
              "2  2003-07-11  MARUTI     EQ  ...     NaN           3014852.0       0.2568\n",
              "3  2003-07-14  MARUTI     EQ  ...     NaN           1949217.0       0.3258\n",
              "4  2003-07-15  MARUTI     EQ  ...     NaN           1307694.0       0.2118\n",
              "\n",
              "[5 rows x 15 columns]"
            ]
          },
          "metadata": {
            "tags": []
          },
          "execution_count": 113
        }
      ]
    },
    {
      "cell_type": "code",
      "metadata": {
        "id": "hqpRVF-RQwPc"
      },
      "source": [
        "plt.style.use(\"seaborn-talk\")"
      ],
      "execution_count": null,
      "outputs": []
    },
    {
      "cell_type": "code",
      "metadata": {
        "id": "k78PU5D6NAN9",
        "colab": {
          "base_uri": "https://localhost:8080/"
        },
        "outputId": "54a94700-5aeb-44ef-e7d4-19b8fe57f996"
      },
      "source": [
        "training_set"
      ],
      "execution_count": null,
      "outputs": [
        {
          "output_type": "execute_result",
          "data": {
            "text/plain": [
              "array([[ 164.3 ],\n",
              "       [ 167.  ],\n",
              "       [ 173.35],\n",
              "       ...,\n",
              "       [6703.  ],\n",
              "       [6742.75],\n",
              "       [6743.45]])"
            ]
          },
          "metadata": {
            "tags": []
          },
          "execution_count": 115
        }
      ]
    },
    {
      "cell_type": "code",
      "metadata": {
        "id": "WlOX2kmXNAN_",
        "colab": {
          "base_uri": "https://localhost:8080/",
          "height": 462
        },
        "outputId": "263a3036-91cb-414e-9aff-61034b92fbb7"
      },
      "source": [
        "# plot of training set\n",
        "plt.plot(training_set)"
      ],
      "execution_count": null,
      "outputs": [
        {
          "output_type": "execute_result",
          "data": {
            "text/plain": [
              "[<matplotlib.lines.Line2D at 0x7f55fff41e80>]"
            ]
          },
          "metadata": {
            "tags": []
          },
          "execution_count": 116
        },
        {
          "output_type": "display_data",
          "data": {
            "image/png": "[encoded data removed]",
            "text/plain": [
              "<Figure size 748.8x514.8 with 1 Axes>"
            ]
          },
          "metadata": {
            "tags": [],
            "needs_background": "light"
          }
        }
      ]
    },
    {
      "cell_type": "code",
      "metadata": {
        "id": "_wjJ9hnXaXzm",
        "colab": {
          "base_uri": "https://localhost:8080/",
          "height": 462
        },
        "outputId": "d353c42c-4deb-4d22-fa6b-651e0d8223b1"
      },
      "source": [
        "# plot of the dataset (stocks till october 2020)\n",
        "plt.plot(dataset.iloc[:,8:9].values)"
      ],
      "execution_count": null,
      "outputs": [
        {
          "output_type": "execute_result",
          "data": {
            "text/plain": [
              "[<matplotlib.lines.Line2D at 0x7f55ffe83710>]"
            ]
          },
          "metadata": {
            "tags": []
          },
          "execution_count": 117
        },
        {
          "output_type": "display_data",
          "data": {
            "image/png": "[encoded data removed]",
            "text/plain": [
              "<Figure size 748.8x514.8 with 1 Axes>"
            ]
          },
          "metadata": {
            "tags": [],
            "needs_background": "light"
          }
        }
      ]
    },
    {
      "cell_type": "code",
      "metadata": {
        "id": "KiMWmKuEOccX"
      },
      "source": [
        "plt.style.use(\"seaborn-talk\")"
      ],
      "execution_count": null,
      "outputs": []
    },
    {
      "cell_type": "code",
      "metadata": {
        "id": "8krPX-PHOmuP",
        "colab": {
          "base_uri": "https://localhost:8080/",
          "height": 462
        },
        "outputId": "428a9c0f-b05c-49ce-d43a-e27fafb77820"
      },
      "source": [
        "plt.plot(training_set, c='b')"
      ],
      "execution_count": null,
      "outputs": [
        {
          "output_type": "execute_result",
          "data": {
            "text/plain": [
              "[<matplotlib.lines.Line2D at 0x7f55ffe59d68>]"
            ]
          },
          "metadata": {
            "tags": []
          },
          "execution_count": 119
        },
        {
          "output_type": "display_data",
          "data": {
            "image/png": "[encoded data removed]",
            "text/plain": [
              "<Figure size 748.8x514.8 with 1 Axes>"
            ]
          },
          "metadata": {
            "tags": [],
            "needs_background": "light"
          }
        }
      ]
    },
    {
      "cell_type": "markdown",
      "metadata": {
        "id": "vT4MhdEVbK2Y"
      },
      "source": [
        "Creating Test set (stocks of *October* 2020)"
      ]
    },
    {
      "cell_type": "code",
      "metadata": {
        "id": "XY9PgqG1NAOB"
      },
      "source": [
        "testing_set = dataset.iloc[4284:, 8:9].values"
      ],
      "execution_count": null,
      "outputs": []
    },
    {
      "cell_type": "code",
      "metadata": {
        "id": "D38PjMvgNAOE",
        "colab": {
          "base_uri": "https://localhost:8080/"
        },
        "outputId": "c965af3f-c182-4f0a-def0-da49fbfa7307"
      },
      "source": [
        "testing_set"
      ],
      "execution_count": null,
      "outputs": [
        {
          "output_type": "execute_result",
          "data": {
            "text/plain": [
              "array([[6796.3 ],\n",
              "       [6818.85],\n",
              "       [6892.4 ],\n",
              "       [7046.9 ],\n",
              "       [7079.85],\n",
              "       [7062.4 ],\n",
              "       [7136.65],\n",
              "       [7032.9 ],\n",
              "       [7002.35],\n",
              "       [6892.6 ],\n",
              "       [6894.9 ],\n",
              "       [6851.95],\n",
              "       [6844.6 ],\n",
              "       [6861.85],\n",
              "       [6811.55],\n",
              "       [7103.25],\n",
              "       [7054.8 ],\n",
              "       [7158.4 ],\n",
              "       [7186.05],\n",
              "       [7117.7 ],\n",
              "       [6965.15]])"
            ]
          },
          "metadata": {
            "tags": []
          },
          "execution_count": 121
        }
      ]
    },
    {
      "cell_type": "code",
      "metadata": {
        "id": "vM5rnnWzNAOG",
        "colab": {
          "base_uri": "https://localhost:8080/"
        },
        "outputId": "ff70f1dc-9349-441e-9326-8db100af6f36"
      },
      "source": [
        "testing_set.shape      # 21 trading days in october"
      ],
      "execution_count": null,
      "outputs": [
        {
          "output_type": "execute_result",
          "data": {
            "text/plain": [
              "(21, 1)"
            ]
          },
          "metadata": {
            "tags": []
          },
          "execution_count": 122
        }
      ]
    },
    {
      "cell_type": "code",
      "metadata": {
        "id": "qrhgH8PuNAOJ",
        "colab": {
          "base_uri": "https://localhost:8080/",
          "height": 462
        },
        "outputId": "548f61ad-0c18-47c8-ea4b-fdeedb8c124a"
      },
      "source": [
        "#ploting the test Set (october 2020)\n",
        "plt.plot(testing_set)"
      ],
      "execution_count": null,
      "outputs": [
        {
          "output_type": "execute_result",
          "data": {
            "text/plain": [
              "[<matplotlib.lines.Line2D at 0x7f55ffe37588>]"
            ]
          },
          "metadata": {
            "tags": []
          },
          "execution_count": 123
        },
        {
          "output_type": "display_data",
          "data": {
            "image/png": "[encoded data removed]",
            "text/plain": [
              "<Figure size 748.8x514.8 with 1 Axes>"
            ]
          },
          "metadata": {
            "tags": [],
            "needs_background": "light"
          }
        }
      ]
    },
    {
      "cell_type": "code",
      "metadata": {
        "id": "pWIolGDqNAOL",
        "colab": {
          "base_uri": "https://localhost:8080/"
        },
        "outputId": "e36c36b4-c400-499b-d6b9-0319187c7674"
      },
      "source": [
        "training_set.shape"
      ],
      "execution_count": null,
      "outputs": [
        {
          "output_type": "execute_result",
          "data": {
            "text/plain": [
              "(4284, 1)"
            ]
          },
          "metadata": {
            "tags": []
          },
          "execution_count": 124
        }
      ]
    },
    {
      "cell_type": "code",
      "metadata": {
        "id": "UKVZWa_jNAON",
        "colab": {
          "base_uri": "https://localhost:8080/"
        },
        "outputId": "ad426558-2b8d-459e-b154-080414c73540"
      },
      "source": [
        "testing_set.shape"
      ],
      "execution_count": null,
      "outputs": [
        {
          "output_type": "execute_result",
          "data": {
            "text/plain": [
              "(21, 1)"
            ]
          },
          "metadata": {
            "tags": []
          },
          "execution_count": 125
        }
      ]
    },
    {
      "cell_type": "markdown",
      "metadata": {
        "id": "HDLzgFhUpMSU"
      },
      "source": [
        "## Checking for Missing data"
      ]
    },
    {
      "cell_type": "markdown",
      "metadata": {
        "id": "9QIJLKgmpYkm"
      },
      "source": [
        "\n",
        "- Identify missing data in dataframes\n",
        "- Treat (delete or impute) missing values if found"
      ]
    },
    {
      "cell_type": "code",
      "metadata": {
        "id": "rRPRWTpMpWNF",
        "colab": {
          "base_uri": "https://localhost:8080/"
        },
        "outputId": "7613c553-db7a-4d89-84f2-8471dba241a8"
      },
      "source": [
        "print(dataset.shape)\n",
        "print(dataset.info())"
      ],
      "execution_count": null,
      "outputs": [
        {
          "output_type": "stream",
          "text": [
            "(4305, 15)\n",
            "<class 'pandas.core.frame.DataFrame'>\n",
            "RangeIndex: 4305 entries, 0 to 4304\n",
            "Data columns (total 15 columns):\n",
            " #   Column              Non-Null Count  Dtype  \n",
            "---  ------              --------------  -----  \n",
            " 0   Date                4305 non-null   object \n",
            " 1   Symbol              4305 non-null   object \n",
            " 2   Series              4305 non-null   object \n",
            " 3   Prev Close          4305 non-null   float64\n",
            " 4   Open                4305 non-null   float64\n",
            " 5   High                4305 non-null   float64\n",
            " 6   Low                 4305 non-null   float64\n",
            " 7   Last                4305 non-null   float64\n",
            " 8   Close               4305 non-null   float64\n",
            " 9   VWAP                4305 non-null   float64\n",
            " 10  Volume              4305 non-null   int64  \n",
            " 11  Turnover            4305 non-null   float64\n",
            " 12  Trades              2334 non-null   float64\n",
            " 13  Deliverable Volume  4304 non-null   float64\n",
            " 14  %Deliverble         4304 non-null   float64\n",
            "dtypes: float64(11), int64(1), object(3)\n",
            "memory usage: 504.6+ KB\n",
            "None\n"
          ],
          "name": "stdout"
        }
      ]
    },
    {
      "cell_type": "code",
      "metadata": {
        "id": "YFBAx5lKqjx4",
        "colab": {
          "base_uri": "https://localhost:8080/",
          "height": 321
        },
        "outputId": "76dbd422-c447-48e7-cbe0-bdffcc6a29f6"
      },
      "source": [
        "dataset.describe()"
      ],
      "execution_count": null,
      "outputs": [
        {
          "output_type": "execute_result",
          "data": {
            "text/html": [
              "<div>\n",
              "<style scoped>\n",
              "    .dataframe tbody tr th:only-of-type {\n",
              "        vertical-align: middle;\n",
              "    }\n",
              "\n",
              "    .dataframe tbody tr th {\n",
              "        vertical-align: top;\n",
              "    }\n",
              "\n",
              "    .dataframe thead th {\n",
              "        text-align: right;\n",
              "    }\n",
              "</style>\n",
              "<table border=\"1\" class=\"dataframe\">\n",
              "  <thead>\n",
              "    <tr style=\"text-align: right;\">\n",
              "      <th></th>\n",
              "      <th>Prev Close</th>\n",
              "      <th>Open</th>\n",
              "      <th>High</th>\n",
              "      <th>Low</th>\n",
              "      <th>Last</th>\n",
              "      <th>Close</th>\n",
              "      <th>VWAP</th>\n",
              "      <th>Volume</th>\n",
              "      <th>Turnover</th>\n",
              "      <th>Trades</th>\n",
              "      <th>Deliverable Volume</th>\n",
              "      <th>%Deliverble</th>\n",
              "    </tr>\n",
              "  </thead>\n",
              "  <tbody>\n",
              "    <tr>\n",
              "      <th>count</th>\n",
              "      <td>4305.000000</td>\n",
              "      <td>4305.000000</td>\n",
              "      <td>4305.000000</td>\n",
              "      <td>4305.000000</td>\n",
              "      <td>4305.000000</td>\n",
              "      <td>4305.000000</td>\n",
              "      <td>4305.00000</td>\n",
              "      <td>4.305000e+03</td>\n",
              "      <td>4.305000e+03</td>\n",
              "      <td>2334.000000</td>\n",
              "      <td>4.304000e+03</td>\n",
              "      <td>4304.000000</td>\n",
              "    </tr>\n",
              "    <tr>\n",
              "      <th>mean</th>\n",
              "      <td>2800.152033</td>\n",
              "      <td>2803.934472</td>\n",
              "      <td>2837.747433</td>\n",
              "      <td>2767.077549</td>\n",
              "      <td>2801.459350</td>\n",
              "      <td>2801.740918</td>\n",
              "      <td>2802.90236</td>\n",
              "      <td>1.197402e+06</td>\n",
              "      <td>2.235933e+14</td>\n",
              "      <td>53090.723650</td>\n",
              "      <td>3.630305e+05</td>\n",
              "      <td>0.389290</td>\n",
              "    </tr>\n",
              "    <tr>\n",
              "      <th>std</th>\n",
              "      <td>2676.753584</td>\n",
              "      <td>2681.161552</td>\n",
              "      <td>2704.761111</td>\n",
              "      <td>2652.623803</td>\n",
              "      <td>2677.026421</td>\n",
              "      <td>2677.195355</td>\n",
              "      <td>2678.71221</td>\n",
              "      <td>1.658447e+06</td>\n",
              "      <td>2.733701e+14</td>\n",
              "      <td>43157.684861</td>\n",
              "      <td>3.716069e+05</td>\n",
              "      <td>0.158008</td>\n",
              "    </tr>\n",
              "    <tr>\n",
              "      <th>min</th>\n",
              "      <td>125.000000</td>\n",
              "      <td>164.000000</td>\n",
              "      <td>168.700000</td>\n",
              "      <td>155.000000</td>\n",
              "      <td>164.000000</td>\n",
              "      <td>164.300000</td>\n",
              "      <td>165.06000</td>\n",
              "      <td>2.279600e+04</td>\n",
              "      <td>2.131518e+12</td>\n",
              "      <td>1096.000000</td>\n",
              "      <td>4.896000e+03</td>\n",
              "      <td>0.034300</td>\n",
              "    </tr>\n",
              "    <tr>\n",
              "      <th>25%</th>\n",
              "      <td>811.250000</td>\n",
              "      <td>815.000000</td>\n",
              "      <td>829.950000</td>\n",
              "      <td>796.250000</td>\n",
              "      <td>812.200000</td>\n",
              "      <td>812.450000</td>\n",
              "      <td>813.51000</td>\n",
              "      <td>4.216340e+05</td>\n",
              "      <td>6.139924e+13</td>\n",
              "      <td>22120.500000</td>\n",
              "      <td>1.604108e+05</td>\n",
              "      <td>0.269275</td>\n",
              "    </tr>\n",
              "    <tr>\n",
              "      <th>50%</th>\n",
              "      <td>1390.700000</td>\n",
              "      <td>1391.550000</td>\n",
              "      <td>1412.000000</td>\n",
              "      <td>1370.250000</td>\n",
              "      <td>1390.000000</td>\n",
              "      <td>1390.800000</td>\n",
              "      <td>1391.64000</td>\n",
              "      <td>6.831620e+05</td>\n",
              "      <td>1.081276e+14</td>\n",
              "      <td>41441.500000</td>\n",
              "      <td>2.695125e+05</td>\n",
              "      <td>0.393250</td>\n",
              "    </tr>\n",
              "    <tr>\n",
              "      <th>75%</th>\n",
              "      <td>4606.550000</td>\n",
              "      <td>4600.000000</td>\n",
              "      <td>4645.950000</td>\n",
              "      <td>4557.250000</td>\n",
              "      <td>4612.650000</td>\n",
              "      <td>4606.900000</td>\n",
              "      <td>4602.97000</td>\n",
              "      <td>1.204104e+06</td>\n",
              "      <td>2.902756e+14</td>\n",
              "      <td>68543.250000</td>\n",
              "      <td>4.482765e+05</td>\n",
              "      <td>0.503725</td>\n",
              "    </tr>\n",
              "    <tr>\n",
              "      <th>max</th>\n",
              "      <td>9832.450000</td>\n",
              "      <td>9966.000000</td>\n",
              "      <td>9996.400000</td>\n",
              "      <td>9725.000000</td>\n",
              "      <td>9846.000000</td>\n",
              "      <td>9832.450000</td>\n",
              "      <td>9850.96000</td>\n",
              "      <td>3.516428e+07</td>\n",
              "      <td>4.878992e+15</td>\n",
              "      <td>407715.000000</td>\n",
              "      <td>8.537695e+06</td>\n",
              "      <td>1.000000</td>\n",
              "    </tr>\n",
              "  </tbody>\n",
              "</table>\n",
              "</div>"
            ],
            "text/plain": [
              "        Prev Close         Open  ...  Deliverable Volume  %Deliverble\n",
              "count  4305.000000  4305.000000  ...        4.304000e+03  4304.000000\n",
              "mean   2800.152033  2803.934472  ...        3.630305e+05     0.389290\n",
              "std    2676.753584  2681.161552  ...        3.716069e+05     0.158008\n",
              "min     125.000000   164.000000  ...        4.896000e+03     0.034300\n",
              "25%     811.250000   815.000000  ...        1.604108e+05     0.269275\n",
              "50%    1390.700000  1391.550000  ...        2.695125e+05     0.393250\n",
              "75%    4606.550000  4600.000000  ...        4.482765e+05     0.503725\n",
              "max    9832.450000  9966.000000  ...        8.537695e+06     1.000000\n",
              "\n",
              "[8 rows x 12 columns]"
            ]
          },
          "metadata": {
            "tags": []
          },
          "execution_count": 127
        }
      ]
    },
    {
      "cell_type": "markdown",
      "metadata": {
        "id": "mWV8NV1Sqt9Q"
      },
      "source": [
        "Identifying Missing Values\n",
        "\n",
        "---\n",
        "\n",
        "\n",
        "compute the total number of missing values in the data frame. You can calculate the number of missing values in each column by df.isnull().sum()"
      ]
    },
    {
      "cell_type": "code",
      "metadata": {
        "id": "P7OpxpeRqktc",
        "colab": {
          "base_uri": "https://localhost:8080/",
          "height": 402
        },
        "outputId": "af4f5ad7-d0b9-4fea-96d8-d9b9249ab211"
      },
      "source": [
        "dataset.isnull()"
      ],
      "execution_count": null,
      "outputs": [
        {
          "output_type": "execute_result",
          "data": {
            "text/html": [
              "<div>\n",
              "<style scoped>\n",
              "    .dataframe tbody tr th:only-of-type {\n",
              "        vertical-align: middle;\n",
              "    }\n",
              "\n",
              "    .dataframe tbody tr th {\n",
              "        vertical-align: top;\n",
              "    }\n",
              "\n",
              "    .dataframe thead th {\n",
              "        text-align: right;\n",
              "    }\n",
              "</style>\n",
              "<table border=\"1\" class=\"dataframe\">\n",
              "  <thead>\n",
              "    <tr style=\"text-align: right;\">\n",
              "      <th></th>\n",
              "      <th>Date</th>\n",
              "      <th>Symbol</th>\n",
              "      <th>Series</th>\n",
              "      <th>Prev Close</th>\n",
              "      <th>Open</th>\n",
              "      <th>High</th>\n",
              "      <th>Low</th>\n",
              "      <th>Last</th>\n",
              "      <th>Close</th>\n",
              "      <th>VWAP</th>\n",
              "      <th>Volume</th>\n",
              "      <th>Turnover</th>\n",
              "      <th>Trades</th>\n",
              "      <th>Deliverable Volume</th>\n",
              "      <th>%Deliverble</th>\n",
              "    </tr>\n",
              "  </thead>\n",
              "  <tbody>\n",
              "    <tr>\n",
              "      <th>0</th>\n",
              "      <td>False</td>\n",
              "      <td>False</td>\n",
              "      <td>False</td>\n",
              "      <td>False</td>\n",
              "      <td>False</td>\n",
              "      <td>False</td>\n",
              "      <td>False</td>\n",
              "      <td>False</td>\n",
              "      <td>False</td>\n",
              "      <td>False</td>\n",
              "      <td>False</td>\n",
              "      <td>False</td>\n",
              "      <td>True</td>\n",
              "      <td>False</td>\n",
              "      <td>False</td>\n",
              "    </tr>\n",
              "    <tr>\n",
              "      <th>1</th>\n",
              "      <td>False</td>\n",
              "      <td>False</td>\n",
              "      <td>False</td>\n",
              "      <td>False</td>\n",
              "      <td>False</td>\n",
              "      <td>False</td>\n",
              "      <td>False</td>\n",
              "      <td>False</td>\n",
              "      <td>False</td>\n",
              "      <td>False</td>\n",
              "      <td>False</td>\n",
              "      <td>False</td>\n",
              "      <td>True</td>\n",
              "      <td>False</td>\n",
              "      <td>False</td>\n",
              "    </tr>\n",
              "    <tr>\n",
              "      <th>2</th>\n",
              "      <td>False</td>\n",
              "      <td>False</td>\n",
              "      <td>False</td>\n",
              "      <td>False</td>\n",
              "      <td>False</td>\n",
              "      <td>False</td>\n",
              "      <td>False</td>\n",
              "      <td>False</td>\n",
              "      <td>False</td>\n",
              "      <td>False</td>\n",
              "      <td>False</td>\n",
              "      <td>False</td>\n",
              "      <td>True</td>\n",
              "      <td>False</td>\n",
              "      <td>False</td>\n",
              "    </tr>\n",
              "    <tr>\n",
              "      <th>3</th>\n",
              "      <td>False</td>\n",
              "      <td>False</td>\n",
              "      <td>False</td>\n",
              "      <td>False</td>\n",
              "      <td>False</td>\n",
              "      <td>False</td>\n",
              "      <td>False</td>\n",
              "      <td>False</td>\n",
              "      <td>False</td>\n",
              "      <td>False</td>\n",
              "      <td>False</td>\n",
              "      <td>False</td>\n",
              "      <td>True</td>\n",
              "      <td>False</td>\n",
              "      <td>False</td>\n",
              "    </tr>\n",
              "    <tr>\n",
              "      <th>4</th>\n",
              "      <td>False</td>\n",
              "      <td>False</td>\n",
              "      <td>False</td>\n",
              "      <td>False</td>\n",
              "      <td>False</td>\n",
              "      <td>False</td>\n",
              "      <td>False</td>\n",
              "      <td>False</td>\n",
              "      <td>False</td>\n",
              "      <td>False</td>\n",
              "      <td>False</td>\n",
              "      <td>False</td>\n",
              "      <td>True</td>\n",
              "      <td>False</td>\n",
              "      <td>False</td>\n",
              "    </tr>\n",
              "    <tr>\n",
              "      <th>...</th>\n",
              "      <td>...</td>\n",
              "      <td>...</td>\n",
              "      <td>...</td>\n",
              "      <td>...</td>\n",
              "      <td>...</td>\n",
              "      <td>...</td>\n",
              "      <td>...</td>\n",
              "      <td>...</td>\n",
              "      <td>...</td>\n",
              "      <td>...</td>\n",
              "      <td>...</td>\n",
              "      <td>...</td>\n",
              "      <td>...</td>\n",
              "      <td>...</td>\n",
              "      <td>...</td>\n",
              "    </tr>\n",
              "    <tr>\n",
              "      <th>4300</th>\n",
              "      <td>False</td>\n",
              "      <td>False</td>\n",
              "      <td>False</td>\n",
              "      <td>False</td>\n",
              "      <td>False</td>\n",
              "      <td>False</td>\n",
              "      <td>False</td>\n",
              "      <td>False</td>\n",
              "      <td>False</td>\n",
              "      <td>False</td>\n",
              "      <td>False</td>\n",
              "      <td>False</td>\n",
              "      <td>False</td>\n",
              "      <td>False</td>\n",
              "      <td>False</td>\n",
              "    </tr>\n",
              "    <tr>\n",
              "      <th>4301</th>\n",
              "      <td>False</td>\n",
              "      <td>False</td>\n",
              "      <td>False</td>\n",
              "      <td>False</td>\n",
              "      <td>False</td>\n",
              "      <td>False</td>\n",
              "      <td>False</td>\n",
              "      <td>False</td>\n",
              "      <td>False</td>\n",
              "      <td>False</td>\n",
              "      <td>False</td>\n",
              "      <td>False</td>\n",
              "      <td>False</td>\n",
              "      <td>False</td>\n",
              "      <td>False</td>\n",
              "    </tr>\n",
              "    <tr>\n",
              "      <th>4302</th>\n",
              "      <td>False</td>\n",
              "      <td>False</td>\n",
              "      <td>False</td>\n",
              "      <td>False</td>\n",
              "      <td>False</td>\n",
              "      <td>False</td>\n",
              "      <td>False</td>\n",
              "      <td>False</td>\n",
              "      <td>False</td>\n",
              "      <td>False</td>\n",
              "      <td>False</td>\n",
              "      <td>False</td>\n",
              "      <td>False</td>\n",
              "      <td>False</td>\n",
              "      <td>False</td>\n",
              "    </tr>\n",
              "    <tr>\n",
              "      <th>4303</th>\n",
              "      <td>False</td>\n",
              "      <td>False</td>\n",
              "      <td>False</td>\n",
              "      <td>False</td>\n",
              "      <td>False</td>\n",
              "      <td>False</td>\n",
              "      <td>False</td>\n",
              "      <td>False</td>\n",
              "      <td>False</td>\n",
              "      <td>False</td>\n",
              "      <td>False</td>\n",
              "      <td>False</td>\n",
              "      <td>False</td>\n",
              "      <td>False</td>\n",
              "      <td>False</td>\n",
              "    </tr>\n",
              "    <tr>\n",
              "      <th>4304</th>\n",
              "      <td>False</td>\n",
              "      <td>False</td>\n",
              "      <td>False</td>\n",
              "      <td>False</td>\n",
              "      <td>False</td>\n",
              "      <td>False</td>\n",
              "      <td>False</td>\n",
              "      <td>False</td>\n",
              "      <td>False</td>\n",
              "      <td>False</td>\n",
              "      <td>False</td>\n",
              "      <td>False</td>\n",
              "      <td>False</td>\n",
              "      <td>False</td>\n",
              "      <td>False</td>\n",
              "    </tr>\n",
              "  </tbody>\n",
              "</table>\n",
              "<p>4305 rows × 15 columns</p>\n",
              "</div>"
            ],
            "text/plain": [
              "       Date  Symbol  Series  ...  Trades  Deliverable Volume  %Deliverble\n",
              "0     False   False   False  ...    True               False        False\n",
              "1     False   False   False  ...    True               False        False\n",
              "2     False   False   False  ...    True               False        False\n",
              "3     False   False   False  ...    True               False        False\n",
              "4     False   False   False  ...    True               False        False\n",
              "...     ...     ...     ...  ...     ...                 ...          ...\n",
              "4300  False   False   False  ...   False               False        False\n",
              "4301  False   False   False  ...   False               False        False\n",
              "4302  False   False   False  ...   False               False        False\n",
              "4303  False   False   False  ...   False               False        False\n",
              "4304  False   False   False  ...   False               False        False\n",
              "\n",
              "[4305 rows x 15 columns]"
            ]
          },
          "metadata": {
            "tags": []
          },
          "execution_count": 128
        }
      ]
    },
    {
      "cell_type": "code",
      "metadata": {
        "id": "7OFy8EGpqlbL",
        "colab": {
          "base_uri": "https://localhost:8080/"
        },
        "outputId": "aae67cb1-8c47-4db9-c62a-6c1bbef4e293"
      },
      "source": [
        "# summing up the missing values (column-wise)\n",
        "dataset.isnull().sum()"
      ],
      "execution_count": null,
      "outputs": [
        {
          "output_type": "execute_result",
          "data": {
            "text/plain": [
              "Date                     0\n",
              "Symbol                   0\n",
              "Series                   0\n",
              "Prev Close               0\n",
              "Open                     0\n",
              "High                     0\n",
              "Low                      0\n",
              "Last                     0\n",
              "Close                    0\n",
              "VWAP                     0\n",
              "Volume                   0\n",
              "Turnover                 0\n",
              "Trades                1971\n",
              "Deliverable Volume       1\n",
              "%Deliverble              1\n",
              "dtype: int64"
            ]
          },
          "metadata": {
            "tags": []
          },
          "execution_count": 129
        }
      ]
    },
    {
      "cell_type": "markdown",
      "metadata": {
        "id": "eP12Fe0crrGT"
      },
      "source": [
        "There is no need to handle missing values, as there is only \"Trades\" whose all values are not in our dataset but we actually dont need Trade values as of now as our prediction is not dependent on Trade values. \n",
        "So, Just ignore handling this missing data"
      ]
    },
    {
      "cell_type": "markdown",
      "metadata": {
        "id": "EFAPx64GNAOP"
      },
      "source": [
        "## Feature Scaling"
      ]
    },
    {
      "cell_type": "code",
      "metadata": {
        "id": "G6CpDhpxNAOP"
      },
      "source": [
        "from sklearn.preprocessing import MinMaxScaler\n",
        "sc = MinMaxScaler(feature_range = (0, 1))\n",
        "training_set_scaled = sc.fit_transform(training_set)"
      ],
      "execution_count": null,
      "outputs": []
    },
    {
      "cell_type": "markdown",
      "metadata": {
        "id": "gKhptojejmeG"
      },
      "source": [
        "training_set_scaled - it contains the new scaled training set whose values are between 0 and 1.\n",
        "We have done normalisation \n",
        "![image.png](data:image/png;base64,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)"
      ]
    },
    {
      "cell_type": "code",
      "metadata": {
        "id": "Wgsw-b_TNAOR",
        "colab": {
          "base_uri": "https://localhost:8080/"
        },
        "outputId": "b0bb5012-7b60-439c-f6a4-5761d36bfb1b"
      },
      "source": [
        "training_set_scaled"
      ],
      "execution_count": null,
      "outputs": [
        {
          "output_type": "execute_result",
          "data": {
            "text/plain": [
              "array([[0.00000000e+00],\n",
              "       [2.79267492e-04],\n",
              "       [9.36063259e-04],\n",
              "       ...,\n",
              "       [6.76313462e-01],\n",
              "       [6.80424900e-01],\n",
              "       [6.80497303e-01]])"
            ]
          },
          "metadata": {
            "tags": []
          },
          "execution_count": 131
        }
      ]
    },
    {
      "cell_type": "markdown",
      "metadata": {
        "id": "z1vabCSiNAOT"
      },
      "source": [
        "## Creating a data structure with 80 timesteps and 1 output"
      ]
    },
    {
      "cell_type": "markdown",
      "metadata": {
        "id": "fRPY93_rkmAa"
      },
      "source": [
        "Creating a data structure with 80 timesteps and 1 output. Model learns from past 80 days (appx 4 months) and predict the 81th day stock price by seeing the trends, model will basically create a pattern like what gonna happen after certain movements in stock market.\n",
        "It is like doing the technical analysis of the stock."
      ]
    },
    {
      "cell_type": "code",
      "metadata": {
        "id": "03LVSzCdNAOU"
      },
      "source": [
        "X_train = []\n",
        "Y_train = []\n",
        "for i in range(80, 4284):\n",
        "    X_train.append(training_set_scaled[i-80:i, 0])\n",
        "    Y_train.append(training_set_scaled[i, 0])\n",
        "X_train, Y_train = np.array(X_train), np.array(Y_train)"
      ],
      "execution_count": null,
      "outputs": []
    },
    {
      "cell_type": "code",
      "metadata": {
        "id": "tcbOb4LyNAOX",
        "colab": {
          "base_uri": "https://localhost:8080/"
        },
        "outputId": "ae91269f-dedd-49b2-e8cb-ad6c214367cf"
      },
      "source": [
        "X_train.shape"
      ],
      "execution_count": null,
      "outputs": [
        {
          "output_type": "execute_result",
          "data": {
            "text/plain": [
              "(4204, 80)"
            ]
          },
          "metadata": {
            "tags": []
          },
          "execution_count": 133
        }
      ]
    },
    {
      "cell_type": "code",
      "metadata": {
        "id": "Fqlf0rPaNAOZ",
        "colab": {
          "base_uri": "https://localhost:8080/"
        },
        "outputId": "1f4c9dbd-c783-4baf-8522-8ae6ba9c2859"
      },
      "source": [
        "Y_train.shape"
      ],
      "execution_count": null,
      "outputs": [
        {
          "output_type": "execute_result",
          "data": {
            "text/plain": [
              "(4204,)"
            ]
          },
          "metadata": {
            "tags": []
          },
          "execution_count": 134
        }
      ]
    },
    {
      "cell_type": "code",
      "metadata": {
        "id": "W-XH2G9BNAOb",
        "colab": {
          "base_uri": "https://localhost:8080/"
        },
        "outputId": "b36ebbd1-227d-4f85-d378-b5cc0c9bdf0b"
      },
      "source": [
        "X_train.shape[0], X_train.shape[1]       # rows and columns"
      ],
      "execution_count": null,
      "outputs": [
        {
          "output_type": "execute_result",
          "data": {
            "text/plain": [
              "(4204, 80)"
            ]
          },
          "metadata": {
            "tags": []
          },
          "execution_count": 135
        }
      ]
    },
    {
      "cell_type": "markdown",
      "metadata": {
        "id": "c-eWDbysNAOd"
      },
      "source": [
        "## Reshaping"
      ]
    },
    {
      "cell_type": "markdown",
      "metadata": {
        "id": "a_52i-0qldJP"
      },
      "source": [
        "Adding some more dimentionality to this data-structure (X-train) and that dimension is a unit, that is nuumber of predictors we can use to predict what we want. These predictors are **indicators**, like if we take only 1 indicator, as this financial problem has 'open prices' as a indicator which also defines the 'close prices' , so add dimension=1 to X_train.\n",
        "\n",
        "Parameters of reshape function\n",
        "\n",
        "X_train.shape[0] = no. of stocks / Batch Size\n",
        "\n",
        "\n",
        "---\n",
        "\n",
        "\n",
        "X_train.shape[1] = timesteps\n",
        "\n",
        "\n",
        "---\n",
        "\n",
        "\n",
        "1 = no. of indicators\n",
        "\n",
        "\n",
        "\n",
        "\n",
        "\n",
        "\n"
      ]
    },
    {
      "cell_type": "code",
      "metadata": {
        "id": "6SksscNRNAOd"
      },
      "source": [
        "X_train = np.reshape(X_train, (X_train.shape[0], X_train.shape[1], 1))"
      ],
      "execution_count": null,
      "outputs": []
    },
    {
      "cell_type": "code",
      "metadata": {
        "id": "ZpSNfe-2NAOf",
        "colab": {
          "base_uri": "https://localhost:8080/"
        },
        "outputId": "0423e54c-2c14-4010-ff20-5b122cedb399"
      },
      "source": [
        "X_train.shape[0] , X_train.shape[1] , X_train.shape[2]   "
      ],
      "execution_count": null,
      "outputs": [
        {
          "output_type": "execute_result",
          "data": {
            "text/plain": [
              "(4204, 80, 1)"
            ]
          },
          "metadata": {
            "tags": []
          },
          "execution_count": 137
        }
      ]
    },
    {
      "cell_type": "markdown",
      "metadata": {
        "id": "5orkzOHnNAOh"
      },
      "source": [
        "# Part 2 - Building and Training the RNN"
      ]
    },
    {
      "cell_type": "markdown",
      "metadata": {
        "id": "HqX82aljNAOh"
      },
      "source": [
        "## Importing the Keras libraries and packages"
      ]
    },
    {
      "cell_type": "code",
      "metadata": {
        "id": "PNB-pNKONAOi"
      },
      "source": [
        "from keras.models import Sequential\n",
        "from keras.layers import Dense\n",
        "from keras.layers import LSTM\n",
        "from keras.layers import Dropout\n",
        "from keras.layers import GRU\n",
        "import keras"
      ],
      "execution_count": null,
      "outputs": []
    },
    {
      "cell_type": "code",
      "metadata": {
        "id": "O8x-Dg1-NAOk",
        "colab": {
          "base_uri": "https://localhost:8080/",
          "height": 35
        },
        "outputId": "3564e2cd-f991-4500-a8f7-b47bf6a4e1c4"
      },
      "source": [
        "keras.__version__"
      ],
      "execution_count": null,
      "outputs": [
        {
          "output_type": "execute_result",
          "data": {
            "application/vnd.google.colaboratory.intrinsic+json": {
              "type": "string"
            },
            "text/plain": [
              "'2.4.3'"
            ]
          },
          "metadata": {
            "tags": []
          },
          "execution_count": 139
        }
      ]
    },
    {
      "cell_type": "code",
      "metadata": {
        "id": "jA1yLLWDNAOm"
      },
      "source": [
        "import tensorflow as tf"
      ],
      "execution_count": null,
      "outputs": []
    },
    {
      "cell_type": "code",
      "metadata": {
        "id": "rryFp-VXNAOo",
        "colab": {
          "base_uri": "https://localhost:8080/",
          "height": 35
        },
        "outputId": "253fb569-e581-47c2-8b67-3b37fa615994"
      },
      "source": [
        "tf.__version__"
      ],
      "execution_count": null,
      "outputs": [
        {
          "output_type": "execute_result",
          "data": {
            "application/vnd.google.colaboratory.intrinsic+json": {
              "type": "string"
            },
            "text/plain": [
              "'2.3.0'"
            ]
          },
          "metadata": {
            "tags": []
          },
          "execution_count": 141
        }
      ]
    },
    {
      "cell_type": "markdown",
      "metadata": {
        "id": "g-AzBy78NAOq"
      },
      "source": [
        "## Initialising the RNN"
      ]
    },
    {
      "cell_type": "code",
      "metadata": {
        "id": "I2KVbgwUNAOq"
      },
      "source": [
        "regressor = Sequential()"
      ],
      "execution_count": null,
      "outputs": []
    },
    {
      "cell_type": "markdown",
      "metadata": {
        "id": "C8jKTn_FNAOs"
      },
      "source": [
        "## Adding the first LSTM layer and some Dropout regularisation"
      ]
    },
    {
      "cell_type": "code",
      "metadata": {
        "id": "YqB5JcmvNAOs"
      },
      "source": [
        "regressor.add(LSTM(units = 140,\n",
        "                   return_sequences = True, \n",
        "                   input_shape = (X_train.shape[1], 1)\n",
        "                   ))\n",
        "regressor.add(Dropout(0.2))"
      ],
      "execution_count": null,
      "outputs": []
    },
    {
      "cell_type": "markdown",
      "metadata": {
        "id": "aNReTCIgNAOv"
      },
      "source": [
        "## Adding a second LSTM layer and some Dropout regularisation"
      ]
    },
    {
      "cell_type": "code",
      "metadata": {
        "id": "cB3ZaGeaNAOv"
      },
      "source": [
        "regressor.add(LSTM(\n",
        "    units = 140, \n",
        "    return_sequences = True\n",
        "    ))\n",
        "regressor.add(Dropout(0.2))"
      ],
      "execution_count": null,
      "outputs": []
    },
    {
      "cell_type": "markdown",
      "metadata": {
        "id": "Y4mn9nVXNAOy"
      },
      "source": [
        "## Adding a third LSTM layer and some Dropout regularisation "
      ]
    },
    {
      "cell_type": "code",
      "metadata": {
        "id": "ASZSYd2MNAOy"
      },
      "source": [
        "regressor.add(LSTM(\n",
        "    units = 140,\n",
        "    return_sequences = True\n",
        "    ))\n",
        "regressor.add(Dropout(0.2))"
      ],
      "execution_count": null,
      "outputs": []
    },
    {
      "cell_type": "markdown",
      "metadata": {
        "id": "H7aUbZysNAO0"
      },
      "source": [
        "\n",
        "\n",
        "```\n",
        "# This is formatted as code\n",
        "```\n",
        "\n",
        "## Adding a forth LSTM layer and some Dropout regularisation"
      ]
    },
    {
      "cell_type": "code",
      "metadata": {
        "id": "lAzR_MzcNAO1"
      },
      "source": [
        "regressor.add(LSTM(units = 140))\n",
        "regressor.add(Dropout(0.2))"
      ],
      "execution_count": null,
      "outputs": []
    },
    {
      "cell_type": "markdown",
      "metadata": {
        "id": "u95fbqmxNAO2"
      },
      "source": [
        "## Adding the output layer "
      ]
    },
    {
      "cell_type": "code",
      "metadata": {
        "id": "yJLQLqwmNAO3"
      },
      "source": [
        "regressor.add(Dense(units = 1))"
      ],
      "execution_count": null,
      "outputs": []
    },
    {
      "cell_type": "markdown",
      "metadata": {
        "id": "RE62J6c0NAO5"
      },
      "source": [
        "## Compiling the RNN"
      ]
    },
    {
      "cell_type": "code",
      "metadata": {
        "id": "32p7kacmNAO5"
      },
      "source": [
        "regressor.compile(\n",
        "    optimizer = 'adam',\n",
        "    loss = 'mean_squared_error',\n",
        "    metrics=['accuracy']\n",
        "    )"
      ],
      "execution_count": null,
      "outputs": []
    },
    {
      "cell_type": "code",
      "metadata": {
        "id": "uX8YbazrNAO9",
        "colab": {
          "base_uri": "https://localhost:8080/"
        },
        "outputId": "f8194515-2ce1-4128-cd17-bc6a7bdaef79"
      },
      "source": [
        "Y_train.shape"
      ],
      "execution_count": null,
      "outputs": [
        {
          "output_type": "execute_result",
          "data": {
            "text/plain": [
              "(4204,)"
            ]
          },
          "metadata": {
            "tags": []
          },
          "execution_count": 149
        }
      ]
    },
    {
      "cell_type": "markdown",
      "metadata": {
        "id": "JyfScAs7NAO_"
      },
      "source": [
        "## Fitting the RNN to the Training set "
      ]
    },
    {
      "cell_type": "code",
      "metadata": {
        "id": "fehzdCHfNAO_",
        "colab": {
          "base_uri": "https://localhost:8080/"
        },
        "outputId": "1cc544f9-7149-43b8-e41b-eff4c72078f2"
      },
      "source": [
        "regressor.fit(X_train, Y_train, epochs =1000, batch_size = 32)"
      ],
      "execution_count": null,
      "outputs": [
        {
          "output_type": "stream",
          "text": [
            "Epoch 1/1000\n",
            "132/132 [==============================] - 2s 19ms/step - loss: 0.0087 - accuracy: 2.3787e-04\n",
            "Epoch 2/1000\n",
            "132/132 [==============================] - 2s 18ms/step - loss: 0.0012 - accuracy: 2.3787e-04\n",
            "Epoch 3/1000\n",
            "132/132 [==============================] - 2s 19ms/step - loss: 0.0010 - accuracy: 2.3787e-04\n",
            "Epoch 4/1000\n",
            "132/132 [==============================] - 2s 18ms/step - loss: 0.0011 - accuracy: 2.3787e-04\n",
            "Epoch 5/1000\n",
            "132/132 [==============================] - 2s 18ms/step - loss: 0.0010 - accuracy: 2.3787e-04\n",
            "Epoch 6/1000\n",
            "132/132 [==============================] - 2s 18ms/step - loss: 9.5349e-04 - accuracy: 2.3787e-04\n",
            "Epoch 7/1000\n",
            "132/132 [==============================] - 2s 18ms/step - loss: 8.7864e-04 - accuracy: 2.3787e-04\n",
            "Epoch 8/1000\n",
            "132/132 [==============================] - 2s 18ms/step - loss: 9.5696e-04 - accuracy: 2.3787e-04\n",
            "Epoch 9/1000\n",
            "132/132 [==============================] - 2s 18ms/step - loss: 7.7242e-04 - accuracy: 2.3787e-04\n",
            "Epoch 10/1000\n",
            "132/132 [==============================] - 2s 18ms/step - loss: 7.9426e-04 - accuracy: 2.3787e-04\n",
            "Epoch 11/1000\n",
            "132/132 [==============================] - 2s 18ms/step - loss: 8.9725e-04 - accuracy: 2.3787e-04\n",
            "Epoch 12/1000\n",
            "132/132 [==============================] - 2s 18ms/step - loss: 7.4085e-04 - accuracy: 2.3787e-04\n",
            "Epoch 13/1000\n",
            "132/132 [==============================] - 2s 18ms/step - loss: 9.1271e-04 - accuracy: 2.3787e-04\n",
            "Epoch 14/1000\n",
            "132/132 [==============================] - 2s 18ms/step - loss: 9.0930e-04 - accuracy: 2.3787e-04\n",
            "Epoch 15/1000\n",
            "132/132 [==============================] - 2s 18ms/step - loss: 6.9699e-04 - accuracy: 2.3787e-04\n",
            "Epoch 16/1000\n",
            "132/132 [==============================] - 2s 18ms/step - loss: 0.0011 - accuracy: 2.3787e-04\n",
            "Epoch 17/1000\n",
            "132/132 [==============================] - 2s 17ms/step - loss: 7.2080e-04 - accuracy: 2.3787e-04\n",
            "Epoch 18/1000\n",
            "132/132 [==============================] - 2s 17ms/step - loss: 6.7430e-04 - accuracy: 2.3787e-04\n",
            "Epoch 19/1000\n",
            "132/132 [==============================] - 2s 18ms/step - loss: 7.1220e-04 - accuracy: 2.3787e-04\n",
            "Epoch 20/1000\n",
            "132/132 [==============================] - 2s 18ms/step - loss: 6.2669e-04 - accuracy: 2.3787e-04\n",
            "Epoch 21/1000\n",
            "132/132 [==============================] - 2s 18ms/step - loss: 6.7209e-04 - accuracy: 2.3787e-04\n",
            "Epoch 22/1000\n",
            "132/132 [==============================] - 2s 18ms/step - loss: 6.2325e-04 - accuracy: 2.3787e-04\n",
            "Epoch 23/1000\n",
            "132/132 [==============================] - 2s 18ms/step - loss: 6.4004e-04 - accuracy: 2.3787e-04\n",
            "Epoch 24/1000\n",
            "132/132 [==============================] - 2s 18ms/step - loss: 8.2093e-04 - accuracy: 2.3787e-04\n",
            "Epoch 25/1000\n",
            "132/132 [==============================] - 2s 17ms/step - loss: 5.2195e-04 - accuracy: 2.3787e-04\n",
            "Epoch 26/1000\n",
            "132/132 [==============================] - 2s 18ms/step - loss: 5.7443e-04 - accuracy: 2.3787e-04\n",
            "Epoch 27/1000\n",
            "132/132 [==============================] - 2s 18ms/step - loss: 5.8404e-04 - accuracy: 2.3787e-04\n",
            "Epoch 28/1000\n",
            "132/132 [==============================] - 2s 18ms/step - loss: 6.3295e-04 - accuracy: 2.3787e-04\n",
            "Epoch 29/1000\n",
            "132/132 [==============================] - 2s 18ms/step - loss: 8.7383e-04 - accuracy: 2.3787e-04\n",
            "Epoch 30/1000\n",
            "132/132 [==============================] - 2s 18ms/step - loss: 7.9475e-04 - accuracy: 2.3787e-04\n",
            "Epoch 31/1000\n",
            "132/132 [==============================] - 2s 18ms/step - loss: 5.9882e-04 - accuracy: 2.3787e-04\n",
            "Epoch 32/1000\n",
            "132/132 [==============================] - 2s 18ms/step - loss: 5.5768e-04 - accuracy: 2.3787e-04\n",
            "Epoch 33/1000\n",
            "132/132 [==============================] - 2s 18ms/step - loss: 5.6444e-04 - accuracy: 2.3787e-04\n",
            "Epoch 34/1000\n",
            "132/132 [==============================] - 2s 17ms/step - loss: 5.2909e-04 - accuracy: 2.3787e-04\n",
            "Epoch 35/1000\n",
            "132/132 [==============================] - 2s 18ms/step - loss: 5.4515e-04 - accuracy: 2.3787e-04\n",
            "Epoch 36/1000\n",
            "132/132 [==============================] - 2s 18ms/step - loss: 5.5160e-04 - accuracy: 2.3787e-04\n",
            "Epoch 37/1000\n",
            "132/132 [==============================] - 2s 18ms/step - loss: 6.2836e-04 - accuracy: 2.3787e-04\n",
            "Epoch 38/1000\n",
            "132/132 [==============================] - 2s 17ms/step - loss: 5.5987e-04 - accuracy: 2.3787e-04\n",
            "Epoch 39/1000\n",
            "132/132 [==============================] - 2s 17ms/step - loss: 5.7185e-04 - accuracy: 2.3787e-04\n",
            "Epoch 40/1000\n",
            "132/132 [==============================] - 2s 18ms/step - loss: 6.4522e-04 - accuracy: 2.3787e-04\n",
            "Epoch 41/1000\n",
            "132/132 [==============================] - 2s 17ms/step - loss: 5.3864e-04 - accuracy: 2.3787e-04\n",
            "Epoch 42/1000\n",
            "132/132 [==============================] - 2s 18ms/step - loss: 5.0477e-04 - accuracy: 2.3787e-04\n",
            "Epoch 43/1000\n",
            "132/132 [==============================] - 2s 18ms/step - loss: 5.7384e-04 - accuracy: 2.3787e-04\n",
            "Epoch 44/1000\n",
            "132/132 [==============================] - 2s 17ms/step - loss: 5.3169e-04 - accuracy: 2.3787e-04\n",
            "Epoch 45/1000\n",
            "132/132 [==============================] - 2s 18ms/step - loss: 5.1858e-04 - accuracy: 2.3787e-04\n",
            "Epoch 46/1000\n",
            "132/132 [==============================] - 2s 18ms/step - loss: 4.8600e-04 - accuracy: 2.3787e-04\n",
            "Epoch 47/1000\n",
            "132/132 [==============================] - 2s 18ms/step - loss: 5.4097e-04 - accuracy: 2.3787e-04\n",
            "Epoch 48/1000\n",
            "132/132 [==============================] - 2s 18ms/step - loss: 5.4908e-04 - accuracy: 2.3787e-04\n",
            "Epoch 49/1000\n",
            "132/132 [==============================] - 2s 18ms/step - loss: 4.7223e-04 - accuracy: 2.3787e-04\n",
            "Epoch 50/1000\n",
            "132/132 [==============================] - 2s 18ms/step - loss: 5.1512e-04 - accuracy: 2.3787e-04\n",
            "Epoch 51/1000\n",
            "132/132 [==============================] - 2s 18ms/step - loss: 4.6429e-04 - accuracy: 2.3787e-04\n",
            "Epoch 52/1000\n",
            "132/132 [==============================] - 2s 17ms/step - loss: 5.4304e-04 - accuracy: 2.3787e-04\n",
            "Epoch 53/1000\n",
            "132/132 [==============================] - 2s 17ms/step - loss: 4.6642e-04 - accuracy: 2.3787e-04\n",
            "Epoch 54/1000\n",
            "132/132 [==============================] - 2s 17ms/step - loss: 4.9394e-04 - accuracy: 2.3787e-04\n",
            "Epoch 55/1000\n",
            "132/132 [==============================] - 2s 18ms/step - loss: 4.8022e-04 - accuracy: 2.3787e-04\n",
            "Epoch 56/1000\n",
            "132/132 [==============================] - 2s 17ms/step - loss: 4.6627e-04 - accuracy: 2.3787e-04\n",
            "Epoch 57/1000\n",
            "132/132 [==============================] - 2s 18ms/step - loss: 4.5380e-04 - accuracy: 2.3787e-04\n",
            "Epoch 58/1000\n",
            "132/132 [==============================] - 2s 18ms/step - loss: 4.4884e-04 - accuracy: 2.3787e-04\n",
            "Epoch 59/1000\n",
            "132/132 [==============================] - 2s 18ms/step - loss: 4.4204e-04 - accuracy: 2.3787e-04\n",
            "Epoch 60/1000\n",
            "132/132 [==============================] - 2s 17ms/step - loss: 5.2497e-04 - accuracy: 2.3787e-04\n",
            "Epoch 61/1000\n",
            "132/132 [==============================] - 2s 17ms/step - loss: 4.4989e-04 - accuracy: 2.3787e-04\n",
            "Epoch 62/1000\n",
            "132/132 [==============================] - 2s 18ms/step - loss: 4.1122e-04 - accuracy: 2.3787e-04\n",
            "Epoch 63/1000\n",
            "132/132 [==============================] - 2s 17ms/step - loss: 4.6873e-04 - accuracy: 2.3787e-04\n",
            "Epoch 64/1000\n",
            "132/132 [==============================] - 2s 18ms/step - loss: 4.1251e-04 - accuracy: 2.3787e-04\n",
            "Epoch 65/1000\n",
            "132/132 [==============================] - 2s 18ms/step - loss: 4.0133e-04 - accuracy: 2.3787e-04\n",
            "Epoch 66/1000\n",
            "132/132 [==============================] - 2s 18ms/step - loss: 4.0862e-04 - accuracy: 2.3787e-04\n",
            "Epoch 67/1000\n",
            "132/132 [==============================] - 2s 18ms/step - loss: 4.3728e-04 - accuracy: 2.3787e-04\n",
            "Epoch 68/1000\n",
            "132/132 [==============================] - 2s 18ms/step - loss: 4.1623e-04 - accuracy: 2.3787e-04\n",
            "Epoch 69/1000\n",
            "132/132 [==============================] - 2s 18ms/step - loss: 4.0260e-04 - accuracy: 2.3787e-04\n",
            "Epoch 70/1000\n",
            "132/132 [==============================] - 2s 18ms/step - loss: 4.1884e-04 - accuracy: 2.3787e-04\n",
            "Epoch 71/1000\n",
            "132/132 [==============================] - 2s 18ms/step - loss: 4.4263e-04 - accuracy: 2.3787e-04\n",
            "Epoch 72/1000\n",
            "132/132 [==============================] - 2s 18ms/step - loss: 4.1649e-04 - accuracy: 2.3787e-04\n",
            "Epoch 73/1000\n",
            "132/132 [==============================] - 2s 18ms/step - loss: 4.9138e-04 - accuracy: 2.3787e-04\n",
            "Epoch 74/1000\n",
            "132/132 [==============================] - 2s 18ms/step - loss: 3.5910e-04 - accuracy: 2.3787e-04\n",
            "Epoch 75/1000\n",
            "132/132 [==============================] - 2s 18ms/step - loss: 4.4901e-04 - accuracy: 2.3787e-04\n",
            "Epoch 76/1000\n",
            "132/132 [==============================] - 2s 18ms/step - loss: 3.8582e-04 - accuracy: 2.3787e-04\n",
            "Epoch 77/1000\n",
            "132/132 [==============================] - 2s 18ms/step - loss: 3.7737e-04 - accuracy: 2.3787e-04\n",
            "Epoch 78/1000\n",
            "132/132 [==============================] - 2s 18ms/step - loss: 4.4268e-04 - accuracy: 2.3787e-04\n",
            "Epoch 79/1000\n",
            "132/132 [==============================] - 2s 18ms/step - loss: 5.1992e-04 - accuracy: 2.3787e-04\n",
            "Epoch 80/1000\n",
            "132/132 [==============================] - 2s 18ms/step - loss: 3.9929e-04 - accuracy: 2.3787e-04\n",
            "Epoch 81/1000\n",
            "132/132 [==============================] - 2s 19ms/step - loss: 3.9126e-04 - accuracy: 2.3787e-04\n",
            "Epoch 82/1000\n",
            "132/132 [==============================] - 2s 19ms/step - loss: 3.5594e-04 - accuracy: 2.3787e-04\n",
            "Epoch 83/1000\n",
            "132/132 [==============================] - 2s 18ms/step - loss: 3.9467e-04 - accuracy: 2.3787e-04\n",
            "Epoch 84/1000\n",
            "132/132 [==============================] - 2s 18ms/step - loss: 4.0599e-04 - accuracy: 2.3787e-04\n",
            "Epoch 85/1000\n",
            "132/132 [==============================] - 2s 18ms/step - loss: 3.6634e-04 - accuracy: 2.3787e-04\n",
            "Epoch 86/1000\n",
            "132/132 [==============================] - 2s 18ms/step - loss: 3.9815e-04 - accuracy: 2.3787e-04\n",
            "Epoch 87/1000\n",
            "132/132 [==============================] - 2s 19ms/step - loss: 3.7951e-04 - accuracy: 2.3787e-04\n",
            "Epoch 88/1000\n",
            "132/132 [==============================] - 2s 18ms/step - loss: 3.6400e-04 - accuracy: 2.3787e-04\n",
            "Epoch 89/1000\n",
            "132/132 [==============================] - 2s 18ms/step - loss: 3.5244e-04 - accuracy: 2.3787e-04\n",
            "Epoch 90/1000\n",
            "132/132 [==============================] - 2s 18ms/step - loss: 3.8935e-04 - accuracy: 2.3787e-04\n",
            "Epoch 91/1000\n",
            "132/132 [==============================] - 2s 18ms/step - loss: 4.1287e-04 - accuracy: 2.3787e-04\n",
            "Epoch 92/1000\n",
            "132/132 [==============================] - 2s 18ms/step - loss: 3.3890e-04 - accuracy: 2.3787e-04\n",
            "Epoch 93/1000\n",
            "132/132 [==============================] - 2s 18ms/step - loss: 3.8213e-04 - accuracy: 2.3787e-04\n",
            "Epoch 94/1000\n",
            "132/132 [==============================] - 2s 18ms/step - loss: 3.9582e-04 - accuracy: 2.3787e-04\n",
            "Epoch 95/1000\n",
            "132/132 [==============================] - 2s 18ms/step - loss: 3.6020e-04 - accuracy: 2.3787e-04\n",
            "Epoch 96/1000\n",
            "132/132 [==============================] - 2s 18ms/step - loss: 3.6320e-04 - accuracy: 2.3787e-04\n",
            "Epoch 97/1000\n",
            "132/132 [==============================] - 2s 18ms/step - loss: 3.9917e-04 - accuracy: 2.3787e-04\n",
            "Epoch 98/1000\n",
            "132/132 [==============================] - 2s 19ms/step - loss: 3.4842e-04 - accuracy: 2.3787e-04\n",
            "Epoch 99/1000\n",
            "132/132 [==============================] - 2s 18ms/step - loss: 4.2911e-04 - accuracy: 2.3787e-04\n",
            "Epoch 100/1000\n",
            "132/132 [==============================] - 2s 18ms/step - loss: 3.3702e-04 - accuracy: 2.3787e-04\n",
            "Epoch 101/1000\n",
            "132/132 [==============================] - 2s 18ms/step - loss: 3.6436e-04 - accuracy: 2.3787e-04\n",
            "Epoch 102/1000\n",
            "132/132 [==============================] - 2s 18ms/step - loss: 3.9793e-04 - accuracy: 2.3787e-04\n",
            "Epoch 103/1000\n",
            "132/132 [==============================] - 2s 18ms/step - loss: 3.5105e-04 - accuracy: 2.3787e-04\n",
            "Epoch 104/1000\n",
            "132/132 [==============================] - 2s 18ms/step - loss: 3.6590e-04 - accuracy: 2.3787e-04\n",
            "Epoch 105/1000\n",
            "132/132 [==============================] - 2s 18ms/step - loss: 3.4649e-04 - accuracy: 2.3787e-04\n",
            "Epoch 106/1000\n",
            "132/132 [==============================] - 2s 18ms/step - loss: 3.2231e-04 - accuracy: 2.3787e-04\n",
            "Epoch 107/1000\n",
            "132/132 [==============================] - 2s 18ms/step - loss: 3.2310e-04 - accuracy: 2.3787e-04\n",
            "Epoch 108/1000\n",
            "132/132 [==============================] - 2s 18ms/step - loss: 4.2277e-04 - accuracy: 2.3787e-04\n",
            "Epoch 109/1000\n",
            "132/132 [==============================] - 2s 18ms/step - loss: 3.4377e-04 - accuracy: 2.3787e-04\n",
            "Epoch 110/1000\n",
            "132/132 [==============================] - 2s 18ms/step - loss: 3.4446e-04 - accuracy: 2.3787e-04\n",
            "Epoch 111/1000\n",
            "132/132 [==============================] - 2s 18ms/step - loss: 3.1715e-04 - accuracy: 2.3787e-04\n",
            "Epoch 112/1000\n",
            "132/132 [==============================] - 2s 18ms/step - loss: 3.7916e-04 - accuracy: 2.3787e-04\n",
            "Epoch 113/1000\n",
            "132/132 [==============================] - 2s 18ms/step - loss: 3.4242e-04 - accuracy: 2.3787e-04\n",
            "Epoch 114/1000\n",
            "132/132 [==============================] - 2s 18ms/step - loss: 3.2929e-04 - accuracy: 2.3787e-04\n",
            "Epoch 115/1000\n",
            "132/132 [==============================] - 2s 18ms/step - loss: 3.3300e-04 - accuracy: 2.3787e-04\n",
            "Epoch 116/1000\n",
            "132/132 [==============================] - 2s 18ms/step - loss: 3.6157e-04 - accuracy: 2.3787e-04\n",
            "Epoch 117/1000\n",
            "132/132 [==============================] - 2s 18ms/step - loss: 3.2078e-04 - accuracy: 2.3787e-04\n",
            "Epoch 118/1000\n",
            "132/132 [==============================] - 2s 18ms/step - loss: 2.9912e-04 - accuracy: 2.3787e-04\n",
            "Epoch 119/1000\n",
            "132/132 [==============================] - 2s 18ms/step - loss: 3.6066e-04 - accuracy: 2.3787e-04\n",
            "Epoch 120/1000\n",
            "132/132 [==============================] - 2s 18ms/step - loss: 3.3510e-04 - accuracy: 2.3787e-04\n",
            "Epoch 121/1000\n",
            "132/132 [==============================] - 2s 18ms/step - loss: 3.0527e-04 - accuracy: 2.3787e-04\n",
            "Epoch 122/1000\n",
            "132/132 [==============================] - 2s 18ms/step - loss: 3.4940e-04 - accuracy: 2.3787e-04\n",
            "Epoch 123/1000\n",
            "132/132 [==============================] - 2s 18ms/step - loss: 3.3291e-04 - accuracy: 2.3787e-04\n",
            "Epoch 124/1000\n",
            "132/132 [==============================] - 2s 19ms/step - loss: 3.5290e-04 - accuracy: 2.3787e-04\n",
            "Epoch 125/1000\n",
            "132/132 [==============================] - 2s 18ms/step - loss: 3.1530e-04 - accuracy: 2.3787e-04\n",
            "Epoch 126/1000\n",
            "132/132 [==============================] - 2s 18ms/step - loss: 3.3428e-04 - accuracy: 2.3787e-04\n",
            "Epoch 127/1000\n",
            "132/132 [==============================] - 2s 18ms/step - loss: 3.7509e-04 - accuracy: 2.3787e-04\n",
            "Epoch 128/1000\n",
            "132/132 [==============================] - 2s 18ms/step - loss: 3.1640e-04 - accuracy: 2.3787e-04\n",
            "Epoch 129/1000\n",
            "132/132 [==============================] - 2s 19ms/step - loss: 3.4978e-04 - accuracy: 2.3787e-04\n",
            "Epoch 130/1000\n",
            "132/132 [==============================] - 2s 19ms/step - loss: 3.3287e-04 - accuracy: 2.3787e-04\n",
            "Epoch 131/1000\n",
            "132/132 [==============================] - 2s 18ms/step - loss: 3.0750e-04 - accuracy: 2.3787e-04\n",
            "Epoch 132/1000\n",
            "132/132 [==============================] - 2s 18ms/step - loss: 2.9763e-04 - accuracy: 2.3787e-04\n",
            "Epoch 133/1000\n",
            "132/132 [==============================] - 2s 18ms/step - loss: 3.7205e-04 - accuracy: 2.3787e-04\n",
            "Epoch 134/1000\n",
            "132/132 [==============================] - 2s 18ms/step - loss: 3.1616e-04 - accuracy: 2.3787e-04\n",
            "Epoch 135/1000\n",
            "132/132 [==============================] - 2s 18ms/step - loss: 3.1785e-04 - accuracy: 2.3787e-04\n",
            "Epoch 136/1000\n",
            "132/132 [==============================] - 2s 19ms/step - loss: 3.2125e-04 - accuracy: 2.3787e-04\n",
            "Epoch 137/1000\n",
            "132/132 [==============================] - 2s 18ms/step - loss: 3.2728e-04 - accuracy: 2.3787e-04\n",
            "Epoch 138/1000\n",
            "132/132 [==============================] - 2s 18ms/step - loss: 3.7540e-04 - accuracy: 2.3787e-04\n",
            "Epoch 139/1000\n",
            "132/132 [==============================] - 2s 18ms/step - loss: 3.5260e-04 - accuracy: 2.3787e-04\n",
            "Epoch 140/1000\n",
            "132/132 [==============================] - 2s 18ms/step - loss: 3.9246e-04 - accuracy: 2.3787e-04\n",
            "Epoch 141/1000\n",
            "132/132 [==============================] - 2s 18ms/step - loss: 3.2653e-04 - accuracy: 2.3787e-04\n",
            "Epoch 142/1000\n",
            "132/132 [==============================] - 2s 18ms/step - loss: 3.3342e-04 - accuracy: 2.3787e-04\n",
            "Epoch 143/1000\n",
            "132/132 [==============================] - 2s 18ms/step - loss: 2.8356e-04 - accuracy: 2.3787e-04\n",
            "Epoch 144/1000\n",
            "132/132 [==============================] - 2s 18ms/step - loss: 3.0085e-04 - accuracy: 2.3787e-04\n",
            "Epoch 145/1000\n",
            "132/132 [==============================] - 2s 19ms/step - loss: 3.2042e-04 - accuracy: 2.3787e-04\n",
            "Epoch 146/1000\n",
            "132/132 [==============================] - 3s 19ms/step - loss: 3.2553e-04 - accuracy: 2.3787e-04\n",
            "Epoch 147/1000\n",
            "132/132 [==============================] - 2s 18ms/step - loss: 3.1331e-04 - accuracy: 2.3787e-04\n",
            "Epoch 148/1000\n",
            "132/132 [==============================] - 2s 18ms/step - loss: 3.2323e-04 - accuracy: 2.3787e-04\n",
            "Epoch 149/1000\n",
            "132/132 [==============================] - 2s 18ms/step - loss: 2.9745e-04 - accuracy: 2.3787e-04\n",
            "Epoch 150/1000\n",
            "132/132 [==============================] - 2s 18ms/step - loss: 3.2358e-04 - accuracy: 2.3787e-04\n",
            "Epoch 151/1000\n",
            "132/132 [==============================] - 2s 19ms/step - loss: 3.2126e-04 - accuracy: 2.3787e-04\n",
            "Epoch 152/1000\n",
            "132/132 [==============================] - 2s 18ms/step - loss: 3.2505e-04 - accuracy: 2.3787e-04\n",
            "Epoch 153/1000\n",
            "132/132 [==============================] - 2s 18ms/step - loss: 2.9508e-04 - accuracy: 2.3787e-04\n",
            "Epoch 154/1000\n",
            "132/132 [==============================] - 2s 18ms/step - loss: 3.1647e-04 - accuracy: 2.3787e-04\n",
            "Epoch 155/1000\n",
            "132/132 [==============================] - 3s 19ms/step - loss: 3.4317e-04 - accuracy: 2.3787e-04\n",
            "Epoch 156/1000\n",
            "132/132 [==============================] - 2s 18ms/step - loss: 2.7815e-04 - accuracy: 2.3787e-04\n",
            "Epoch 157/1000\n",
            "132/132 [==============================] - 2s 18ms/step - loss: 2.7660e-04 - accuracy: 2.3787e-04\n",
            "Epoch 158/1000\n",
            "132/132 [==============================] - 2s 18ms/step - loss: 3.4352e-04 - accuracy: 2.3787e-04\n",
            "Epoch 159/1000\n",
            "132/132 [==============================] - 2s 18ms/step - loss: 2.8799e-04 - accuracy: 2.3787e-04\n",
            "Epoch 160/1000\n",
            "132/132 [==============================] - 2s 18ms/step - loss: 2.9865e-04 - accuracy: 2.3787e-04\n",
            "Epoch 161/1000\n",
            "132/132 [==============================] - 3s 20ms/step - loss: 3.4201e-04 - accuracy: 2.3787e-04\n",
            "Epoch 162/1000\n",
            "132/132 [==============================] - 2s 18ms/step - loss: 3.3902e-04 - accuracy: 2.3787e-04\n",
            "Epoch 163/1000\n",
            "132/132 [==============================] - 2s 18ms/step - loss: 3.3478e-04 - accuracy: 2.3787e-04\n",
            "Epoch 164/1000\n",
            "132/132 [==============================] - 2s 18ms/step - loss: 3.4064e-04 - accuracy: 2.3787e-04\n",
            "Epoch 165/1000\n",
            "132/132 [==============================] - 2s 18ms/step - loss: 2.8606e-04 - accuracy: 2.3787e-04\n",
            "Epoch 166/1000\n",
            "132/132 [==============================] - 2s 18ms/step - loss: 3.0622e-04 - accuracy: 2.3787e-04\n",
            "Epoch 167/1000\n",
            "132/132 [==============================] - 2s 18ms/step - loss: 2.9155e-04 - accuracy: 2.3787e-04\n",
            "Epoch 168/1000\n",
            "132/132 [==============================] - 2s 18ms/step - loss: 2.9181e-04 - accuracy: 2.3787e-04\n",
            "Epoch 169/1000\n",
            "132/132 [==============================] - 2s 18ms/step - loss: 3.1001e-04 - accuracy: 2.3787e-04\n",
            "Epoch 170/1000\n",
            "132/132 [==============================] - 3s 20ms/step - loss: 2.9504e-04 - accuracy: 2.3787e-04\n",
            "Epoch 171/1000\n",
            "132/132 [==============================] - 2s 18ms/step - loss: 3.1024e-04 - accuracy: 2.3787e-04\n",
            "Epoch 172/1000\n",
            "132/132 [==============================] - 2s 18ms/step - loss: 3.2001e-04 - accuracy: 2.3787e-04\n",
            "Epoch 173/1000\n",
            "132/132 [==============================] - 2s 18ms/step - loss: 3.0307e-04 - accuracy: 2.3787e-04\n",
            "Epoch 174/1000\n",
            "132/132 [==============================] - 2s 18ms/step - loss: 3.0132e-04 - accuracy: 2.3787e-04\n",
            "Epoch 175/1000\n",
            "132/132 [==============================] - 3s 19ms/step - loss: 2.9556e-04 - accuracy: 2.3787e-04\n",
            "Epoch 176/1000\n",
            "132/132 [==============================] - 2s 18ms/step - loss: 2.8672e-04 - accuracy: 2.3787e-04\n",
            "Epoch 177/1000\n",
            "132/132 [==============================] - 3s 19ms/step - loss: 2.9598e-04 - accuracy: 2.3787e-04\n",
            "Epoch 178/1000\n",
            "132/132 [==============================] - 2s 18ms/step - loss: 2.7959e-04 - accuracy: 2.3787e-04\n",
            "Epoch 179/1000\n",
            "132/132 [==============================] - 2s 18ms/step - loss: 3.1408e-04 - accuracy: 2.3787e-04\n",
            "Epoch 180/1000\n",
            "132/132 [==============================] - 2s 19ms/step - loss: 3.2231e-04 - accuracy: 2.3787e-04\n",
            "Epoch 181/1000\n",
            "132/132 [==============================] - 2s 18ms/step - loss: 2.9775e-04 - accuracy: 2.3787e-04\n",
            "Epoch 182/1000\n",
            "132/132 [==============================] - 2s 18ms/step - loss: 2.8098e-04 - accuracy: 2.3787e-04\n",
            "Epoch 183/1000\n",
            "132/132 [==============================] - 2s 18ms/step - loss: 3.0225e-04 - accuracy: 2.3787e-04\n",
            "Epoch 184/1000\n",
            "132/132 [==============================] - 2s 18ms/step - loss: 2.9365e-04 - accuracy: 2.3787e-04\n",
            "Epoch 185/1000\n",
            "132/132 [==============================] - 2s 18ms/step - loss: 3.2104e-04 - accuracy: 2.3787e-04\n",
            "Epoch 186/1000\n",
            "132/132 [==============================] - 2s 19ms/step - loss: 3.0080e-04 - accuracy: 2.3787e-04\n",
            "Epoch 187/1000\n",
            "132/132 [==============================] - 2s 19ms/step - loss: 3.2362e-04 - accuracy: 2.3787e-04\n",
            "Epoch 188/1000\n",
            "132/132 [==============================] - 2s 19ms/step - loss: 2.7393e-04 - accuracy: 2.3787e-04\n",
            "Epoch 189/1000\n",
            "132/132 [==============================] - 2s 18ms/step - loss: 3.0130e-04 - accuracy: 2.3787e-04\n",
            "Epoch 190/1000\n",
            "132/132 [==============================] - 2s 18ms/step - loss: 2.9555e-04 - accuracy: 2.3787e-04\n",
            "Epoch 191/1000\n",
            "132/132 [==============================] - 2s 18ms/step - loss: 3.2195e-04 - accuracy: 2.3787e-04\n",
            "Epoch 192/1000\n",
            "132/132 [==============================] - 2s 18ms/step - loss: 2.8563e-04 - accuracy: 2.3787e-04\n",
            "Epoch 193/1000\n",
            "132/132 [==============================] - 2s 18ms/step - loss: 2.8244e-04 - accuracy: 2.3787e-04\n",
            "Epoch 194/1000\n",
            "132/132 [==============================] - 2s 18ms/step - loss: 2.8892e-04 - accuracy: 2.3787e-04\n",
            "Epoch 195/1000\n",
            "132/132 [==============================] - 2s 18ms/step - loss: 3.5704e-04 - accuracy: 2.3787e-04\n",
            "Epoch 196/1000\n",
            "132/132 [==============================] - 2s 19ms/step - loss: 3.0266e-04 - accuracy: 2.3787e-04\n",
            "Epoch 197/1000\n",
            "132/132 [==============================] - 2s 18ms/step - loss: 2.5787e-04 - accuracy: 2.3787e-04\n",
            "Epoch 198/1000\n",
            "132/132 [==============================] - 2s 19ms/step - loss: 2.8849e-04 - accuracy: 2.3787e-04\n",
            "Epoch 199/1000\n",
            "132/132 [==============================] - 2s 19ms/step - loss: 3.2262e-04 - accuracy: 2.3787e-04\n",
            "Epoch 200/1000\n",
            "132/132 [==============================] - 2s 18ms/step - loss: 2.7018e-04 - accuracy: 2.3787e-04\n",
            "Epoch 201/1000\n",
            "132/132 [==============================] - 2s 18ms/step - loss: 2.8502e-04 - accuracy: 2.3787e-04\n",
            "Epoch 202/1000\n",
            "132/132 [==============================] - 2s 18ms/step - loss: 2.9119e-04 - accuracy: 2.3787e-04\n",
            "Epoch 203/1000\n",
            "132/132 [==============================] - 2s 18ms/step - loss: 2.7486e-04 - accuracy: 2.3787e-04\n",
            "Epoch 204/1000\n",
            "132/132 [==============================] - 2s 18ms/step - loss: 2.9666e-04 - accuracy: 2.3787e-04\n",
            "Epoch 205/1000\n",
            "132/132 [==============================] - 2s 18ms/step - loss: 2.8529e-04 - accuracy: 2.3787e-04\n",
            "Epoch 206/1000\n",
            "132/132 [==============================] - 2s 19ms/step - loss: 3.0330e-04 - accuracy: 2.3787e-04\n",
            "Epoch 207/1000\n",
            "132/132 [==============================] - 2s 19ms/step - loss: 2.9451e-04 - accuracy: 2.3787e-04\n",
            "Epoch 208/1000\n",
            "132/132 [==============================] - 2s 19ms/step - loss: 2.9506e-04 - accuracy: 2.3787e-04\n",
            "Epoch 209/1000\n",
            "132/132 [==============================] - 3s 19ms/step - loss: 2.9600e-04 - accuracy: 2.3787e-04\n",
            "Epoch 210/1000\n",
            "132/132 [==============================] - 2s 18ms/step - loss: 2.9728e-04 - accuracy: 2.3787e-04\n",
            "Epoch 211/1000\n",
            "132/132 [==============================] - 2s 18ms/step - loss: 3.3926e-04 - accuracy: 2.3787e-04\n",
            "Epoch 212/1000\n",
            "132/132 [==============================] - 2s 18ms/step - loss: 3.1077e-04 - accuracy: 2.3787e-04\n",
            "Epoch 213/1000\n",
            "132/132 [==============================] - 2s 18ms/step - loss: 2.6662e-04 - accuracy: 2.3787e-04\n",
            "Epoch 214/1000\n",
            "132/132 [==============================] - 2s 19ms/step - loss: 2.9755e-04 - accuracy: 2.3787e-04\n",
            "Epoch 215/1000\n",
            "132/132 [==============================] - 2s 18ms/step - loss: 3.3178e-04 - accuracy: 2.3787e-04\n",
            "Epoch 216/1000\n",
            "132/132 [==============================] - 2s 18ms/step - loss: 2.6142e-04 - accuracy: 2.3787e-04\n",
            "Epoch 217/1000\n",
            "132/132 [==============================] - 2s 18ms/step - loss: 2.7759e-04 - accuracy: 2.3787e-04\n",
            "Epoch 218/1000\n",
            "132/132 [==============================] - 2s 18ms/step - loss: 2.9480e-04 - accuracy: 2.3787e-04\n",
            "Epoch 219/1000\n",
            "132/132 [==============================] - 2s 19ms/step - loss: 3.0393e-04 - accuracy: 2.3787e-04\n",
            "Epoch 220/1000\n",
            "132/132 [==============================] - 2s 18ms/step - loss: 2.5716e-04 - accuracy: 2.3787e-04\n",
            "Epoch 221/1000\n",
            "132/132 [==============================] - 2s 18ms/step - loss: 2.8556e-04 - accuracy: 2.3787e-04\n",
            "Epoch 222/1000\n",
            "132/132 [==============================] - 2s 18ms/step - loss: 2.7705e-04 - accuracy: 2.3787e-04\n",
            "Epoch 223/1000\n",
            "132/132 [==============================] - 2s 18ms/step - loss: 2.7901e-04 - accuracy: 2.3787e-04\n",
            "Epoch 224/1000\n",
            "132/132 [==============================] - 2s 18ms/step - loss: 2.6840e-04 - accuracy: 2.3787e-04\n",
            "Epoch 225/1000\n",
            "132/132 [==============================] - 2s 18ms/step - loss: 2.8608e-04 - accuracy: 2.3787e-04\n",
            "Epoch 226/1000\n",
            "132/132 [==============================] - 2s 18ms/step - loss: 2.7968e-04 - accuracy: 2.3787e-04\n",
            "Epoch 227/1000\n",
            "132/132 [==============================] - 2s 18ms/step - loss: 2.8804e-04 - accuracy: 2.3787e-04\n",
            "Epoch 228/1000\n",
            "132/132 [==============================] - 2s 18ms/step - loss: 2.6146e-04 - accuracy: 2.3787e-04\n",
            "Epoch 229/1000\n",
            "132/132 [==============================] - 2s 18ms/step - loss: 2.7075e-04 - accuracy: 2.3787e-04\n",
            "Epoch 230/1000\n",
            "132/132 [==============================] - 2s 18ms/step - loss: 2.4744e-04 - accuracy: 2.3787e-04\n",
            "Epoch 231/1000\n",
            "132/132 [==============================] - 2s 18ms/step - loss: 2.7395e-04 - accuracy: 2.3787e-04\n",
            "Epoch 232/1000\n",
            "132/132 [==============================] - 3s 19ms/step - loss: 2.8443e-04 - accuracy: 2.3787e-04\n",
            "Epoch 233/1000\n",
            "132/132 [==============================] - 2s 18ms/step - loss: 2.7431e-04 - accuracy: 2.3787e-04\n",
            "Epoch 234/1000\n",
            "132/132 [==============================] - 2s 18ms/step - loss: 3.0365e-04 - accuracy: 2.3787e-04\n",
            "Epoch 235/1000\n",
            "132/132 [==============================] - 2s 18ms/step - loss: 3.1684e-04 - accuracy: 2.3787e-04\n",
            "Epoch 236/1000\n",
            "132/132 [==============================] - 2s 18ms/step - loss: 2.8148e-04 - accuracy: 2.3787e-04\n",
            "Epoch 237/1000\n",
            "132/132 [==============================] - 2s 18ms/step - loss: 2.9822e-04 - accuracy: 2.3787e-04\n",
            "Epoch 238/1000\n",
            "132/132 [==============================] - 2s 18ms/step - loss: 2.8704e-04 - accuracy: 2.3787e-04\n",
            "Epoch 239/1000\n",
            "132/132 [==============================] - 2s 18ms/step - loss: 2.6646e-04 - accuracy: 2.3787e-04\n",
            "Epoch 240/1000\n",
            "132/132 [==============================] - 2s 18ms/step - loss: 2.6249e-04 - accuracy: 2.3787e-04\n",
            "Epoch 241/1000\n",
            "132/132 [==============================] - 2s 19ms/step - loss: 3.1004e-04 - accuracy: 2.3787e-04\n",
            "Epoch 242/1000\n",
            "132/132 [==============================] - 2s 18ms/step - loss: 2.5186e-04 - accuracy: 2.3787e-04\n",
            "Epoch 243/1000\n",
            "132/132 [==============================] - 2s 19ms/step - loss: 3.0529e-04 - accuracy: 2.3787e-04\n",
            "Epoch 244/1000\n",
            "132/132 [==============================] - 2s 18ms/step - loss: 2.7560e-04 - accuracy: 2.3787e-04\n",
            "Epoch 245/1000\n",
            "132/132 [==============================] - 2s 18ms/step - loss: 2.7387e-04 - accuracy: 2.3787e-04\n",
            "Epoch 246/1000\n",
            "132/132 [==============================] - 2s 18ms/step - loss: 2.8576e-04 - accuracy: 2.3787e-04\n",
            "Epoch 247/1000\n",
            "132/132 [==============================] - 2s 18ms/step - loss: 2.8104e-04 - accuracy: 2.3787e-04\n",
            "Epoch 248/1000\n",
            "132/132 [==============================] - 2s 18ms/step - loss: 2.7633e-04 - accuracy: 2.3787e-04\n",
            "Epoch 249/1000\n",
            "132/132 [==============================] - 2s 18ms/step - loss: 2.6431e-04 - accuracy: 2.3787e-04\n",
            "Epoch 250/1000\n",
            "132/132 [==============================] - 2s 18ms/step - loss: 2.8114e-04 - accuracy: 2.3787e-04\n",
            "Epoch 251/1000\n",
            "132/132 [==============================] - 3s 19ms/step - loss: 2.8985e-04 - accuracy: 2.3787e-04\n",
            "Epoch 252/1000\n",
            "132/132 [==============================] - 2s 18ms/step - loss: 3.0598e-04 - accuracy: 2.3787e-04\n",
            "Epoch 253/1000\n",
            "132/132 [==============================] - 2s 18ms/step - loss: 2.9533e-04 - accuracy: 2.3787e-04\n",
            "Epoch 254/1000\n",
            "132/132 [==============================] - 2s 18ms/step - loss: 2.4675e-04 - accuracy: 2.3787e-04\n",
            "Epoch 255/1000\n",
            "132/132 [==============================] - 3s 19ms/step - loss: 2.6243e-04 - accuracy: 2.3787e-04\n",
            "Epoch 256/1000\n",
            "132/132 [==============================] - 2s 18ms/step - loss: 2.6380e-04 - accuracy: 2.3787e-04\n",
            "Epoch 257/1000\n",
            "132/132 [==============================] - 2s 18ms/step - loss: 2.7846e-04 - accuracy: 2.3787e-04\n",
            "Epoch 258/1000\n",
            "132/132 [==============================] - 2s 18ms/step - loss: 2.5802e-04 - accuracy: 2.3787e-04\n",
            "Epoch 259/1000\n",
            "132/132 [==============================] - 2s 18ms/step - loss: 2.5694e-04 - accuracy: 2.3787e-04\n",
            "Epoch 260/1000\n",
            "132/132 [==============================] - 2s 18ms/step - loss: 2.4161e-04 - accuracy: 2.3787e-04\n",
            "Epoch 261/1000\n",
            "132/132 [==============================] - 2s 18ms/step - loss: 2.7687e-04 - accuracy: 2.3787e-04\n",
            "Epoch 262/1000\n",
            "132/132 [==============================] - 2s 18ms/step - loss: 2.4469e-04 - accuracy: 2.3787e-04\n",
            "Epoch 263/1000\n",
            "132/132 [==============================] - 2s 18ms/step - loss: 2.7186e-04 - accuracy: 2.3787e-04\n",
            "Epoch 264/1000\n",
            "132/132 [==============================] - 3s 19ms/step - loss: 2.9557e-04 - accuracy: 2.3787e-04\n",
            "Epoch 265/1000\n",
            "132/132 [==============================] - 2s 19ms/step - loss: 2.8023e-04 - accuracy: 2.3787e-04\n",
            "Epoch 266/1000\n",
            "132/132 [==============================] - 2s 18ms/step - loss: 2.8424e-04 - accuracy: 2.3787e-04\n",
            "Epoch 267/1000\n",
            "132/132 [==============================] - 2s 18ms/step - loss: 2.9857e-04 - accuracy: 2.3787e-04\n",
            "Epoch 268/1000\n",
            "132/132 [==============================] - 2s 18ms/step - loss: 2.8032e-04 - accuracy: 2.3787e-04\n",
            "Epoch 269/1000\n",
            "132/132 [==============================] - 2s 18ms/step - loss: 2.6349e-04 - accuracy: 2.3787e-04\n",
            "Epoch 270/1000\n",
            "132/132 [==============================] - 2s 18ms/step - loss: 2.8381e-04 - accuracy: 2.3787e-04\n",
            "Epoch 271/1000\n",
            "132/132 [==============================] - 2s 18ms/step - loss: 2.9640e-04 - accuracy: 2.3787e-04\n",
            "Epoch 272/1000\n",
            "132/132 [==============================] - 2s 18ms/step - loss: 2.6989e-04 - accuracy: 2.3787e-04\n",
            "Epoch 273/1000\n",
            "132/132 [==============================] - 2s 18ms/step - loss: 2.7749e-04 - accuracy: 2.3787e-04\n",
            "Epoch 274/1000\n",
            "132/132 [==============================] - 2s 19ms/step - loss: 2.6766e-04 - accuracy: 2.3787e-04\n",
            "Epoch 275/1000\n",
            "132/132 [==============================] - 2s 18ms/step - loss: 2.5978e-04 - accuracy: 2.3787e-04\n",
            "Epoch 276/1000\n",
            "132/132 [==============================] - 2s 19ms/step - loss: 2.7947e-04 - accuracy: 2.3787e-04\n",
            "Epoch 277/1000\n",
            "132/132 [==============================] - 2s 18ms/step - loss: 2.8224e-04 - accuracy: 2.3787e-04\n",
            "Epoch 278/1000\n",
            "132/132 [==============================] - 2s 18ms/step - loss: 2.9949e-04 - accuracy: 2.3787e-04\n",
            "Epoch 279/1000\n",
            "132/132 [==============================] - 2s 18ms/step - loss: 2.8029e-04 - accuracy: 2.3787e-04\n",
            "Epoch 280/1000\n",
            "132/132 [==============================] - 2s 19ms/step - loss: 2.6829e-04 - accuracy: 2.3787e-04\n",
            "Epoch 281/1000\n",
            "132/132 [==============================] - 2s 18ms/step - loss: 2.6577e-04 - accuracy: 2.3787e-04\n",
            "Epoch 282/1000\n",
            "132/132 [==============================] - 2s 18ms/step - loss: 2.5832e-04 - accuracy: 2.3787e-04\n",
            "Epoch 283/1000\n",
            "132/132 [==============================] - 2s 18ms/step - loss: 2.6761e-04 - accuracy: 2.3787e-04\n",
            "Epoch 284/1000\n",
            "132/132 [==============================] - 3s 19ms/step - loss: 2.5364e-04 - accuracy: 2.3787e-04\n",
            "Epoch 285/1000\n",
            "132/132 [==============================] - 2s 19ms/step - loss: 2.5545e-04 - accuracy: 2.3787e-04\n",
            "Epoch 286/1000\n",
            "132/132 [==============================] - 2s 18ms/step - loss: 2.9557e-04 - accuracy: 2.3787e-04\n",
            "Epoch 287/1000\n",
            "132/132 [==============================] - 2s 18ms/step - loss: 2.5352e-04 - accuracy: 2.3787e-04\n",
            "Epoch 288/1000\n",
            "132/132 [==============================] - 3s 20ms/step - loss: 2.5356e-04 - accuracy: 2.3787e-04\n",
            "Epoch 289/1000\n",
            "132/132 [==============================] - 2s 18ms/step - loss: 2.6375e-04 - accuracy: 2.3787e-04\n",
            "Epoch 290/1000\n",
            "132/132 [==============================] - 2s 18ms/step - loss: 2.6220e-04 - accuracy: 2.3787e-04\n",
            "Epoch 291/1000\n",
            "132/132 [==============================] - 2s 18ms/step - loss: 2.8961e-04 - accuracy: 2.3787e-04\n",
            "Epoch 292/1000\n",
            "132/132 [==============================] - 2s 18ms/step - loss: 2.6230e-04 - accuracy: 2.3787e-04\n",
            "Epoch 293/1000\n",
            "132/132 [==============================] - 2s 18ms/step - loss: 2.6739e-04 - accuracy: 2.3787e-04\n",
            "Epoch 294/1000\n",
            "132/132 [==============================] - 2s 18ms/step - loss: 2.3238e-04 - accuracy: 2.3787e-04\n",
            "Epoch 295/1000\n",
            "132/132 [==============================] - 2s 18ms/step - loss: 2.9947e-04 - accuracy: 2.3787e-04\n",
            "Epoch 296/1000\n",
            "132/132 [==============================] - 2s 18ms/step - loss: 2.6027e-04 - accuracy: 2.3787e-04\n",
            "Epoch 297/1000\n",
            "132/132 [==============================] - 2s 18ms/step - loss: 2.7477e-04 - accuracy: 2.3787e-04\n",
            "Epoch 298/1000\n",
            "132/132 [==============================] - 2s 19ms/step - loss: 2.6005e-04 - accuracy: 2.3787e-04\n",
            "Epoch 299/1000\n",
            "132/132 [==============================] - 2s 18ms/step - loss: 2.4999e-04 - accuracy: 2.3787e-04\n",
            "Epoch 300/1000\n",
            "132/132 [==============================] - 3s 19ms/step - loss: 2.5994e-04 - accuracy: 2.3787e-04\n",
            "Epoch 301/1000\n",
            "132/132 [==============================] - 2s 19ms/step - loss: 2.6985e-04 - accuracy: 2.3787e-04\n",
            "Epoch 302/1000\n",
            "132/132 [==============================] - 2s 18ms/step - loss: 2.8585e-04 - accuracy: 2.3787e-04\n",
            "Epoch 303/1000\n",
            "132/132 [==============================] - 2s 18ms/step - loss: 2.5281e-04 - accuracy: 2.3787e-04\n",
            "Epoch 304/1000\n",
            "132/132 [==============================] - 2s 18ms/step - loss: 2.5086e-04 - accuracy: 2.3787e-04\n",
            "Epoch 305/1000\n",
            "132/132 [==============================] - 2s 18ms/step - loss: 2.8549e-04 - accuracy: 2.3787e-04\n",
            "Epoch 306/1000\n",
            "132/132 [==============================] - 2s 18ms/step - loss: 2.3347e-04 - accuracy: 2.3787e-04\n",
            "Epoch 307/1000\n",
            "132/132 [==============================] - 2s 18ms/step - loss: 2.5432e-04 - accuracy: 2.3787e-04\n",
            "Epoch 308/1000\n",
            "132/132 [==============================] - 2s 18ms/step - loss: 2.6598e-04 - accuracy: 2.3787e-04\n",
            "Epoch 309/1000\n",
            "132/132 [==============================] - 2s 18ms/step - loss: 2.6186e-04 - accuracy: 2.3787e-04\n",
            "Epoch 310/1000\n",
            "132/132 [==============================] - 2s 18ms/step - loss: 2.5321e-04 - accuracy: 2.3787e-04\n",
            "Epoch 311/1000\n",
            "132/132 [==============================] - 2s 19ms/step - loss: 2.5673e-04 - accuracy: 2.3787e-04\n",
            "Epoch 312/1000\n",
            "132/132 [==============================] - 3s 19ms/step - loss: 2.6978e-04 - accuracy: 2.3787e-04\n",
            "Epoch 313/1000\n",
            "132/132 [==============================] - 2s 18ms/step - loss: 2.4835e-04 - accuracy: 2.3787e-04\n",
            "Epoch 314/1000\n",
            "132/132 [==============================] - 2s 18ms/step - loss: 2.8119e-04 - accuracy: 2.3787e-04\n",
            "Epoch 315/1000\n",
            "132/132 [==============================] - 2s 18ms/step - loss: 2.3379e-04 - accuracy: 2.3787e-04\n",
            "Epoch 316/1000\n",
            "132/132 [==============================] - 2s 18ms/step - loss: 2.7213e-04 - accuracy: 2.3787e-04\n",
            "Epoch 317/1000\n",
            "132/132 [==============================] - 2s 18ms/step - loss: 2.7876e-04 - accuracy: 2.3787e-04\n",
            "Epoch 318/1000\n",
            "132/132 [==============================] - 2s 18ms/step - loss: 2.6859e-04 - accuracy: 2.3787e-04\n",
            "Epoch 319/1000\n",
            "132/132 [==============================] - 2s 18ms/step - loss: 2.5195e-04 - accuracy: 2.3787e-04\n",
            "Epoch 320/1000\n",
            "132/132 [==============================] - 2s 18ms/step - loss: 2.7277e-04 - accuracy: 2.3787e-04\n",
            "Epoch 321/1000\n",
            "132/132 [==============================] - 2s 19ms/step - loss: 2.4123e-04 - accuracy: 2.3787e-04\n",
            "Epoch 322/1000\n",
            "132/132 [==============================] - 2s 18ms/step - loss: 2.4686e-04 - accuracy: 2.3787e-04\n",
            "Epoch 323/1000\n",
            "132/132 [==============================] - 2s 18ms/step - loss: 2.6183e-04 - accuracy: 2.3787e-04\n",
            "Epoch 324/1000\n",
            "132/132 [==============================] - 2s 18ms/step - loss: 2.7372e-04 - accuracy: 2.3787e-04\n",
            "Epoch 325/1000\n",
            "132/132 [==============================] - 2s 19ms/step - loss: 2.6398e-04 - accuracy: 2.3787e-04\n",
            "Epoch 326/1000\n",
            "132/132 [==============================] - 3s 21ms/step - loss: 2.5917e-04 - accuracy: 2.3787e-04\n",
            "Epoch 327/1000\n",
            "132/132 [==============================] - 2s 19ms/step - loss: 2.4985e-04 - accuracy: 2.3787e-04\n",
            "Epoch 328/1000\n",
            "132/132 [==============================] - 3s 19ms/step - loss: 2.7387e-04 - accuracy: 2.3787e-04\n",
            "Epoch 329/1000\n",
            "132/132 [==============================] - 2s 19ms/step - loss: 2.4045e-04 - accuracy: 2.3787e-04\n",
            "Epoch 330/1000\n",
            "132/132 [==============================] - 2s 18ms/step - loss: 2.5443e-04 - accuracy: 2.3787e-04\n",
            "Epoch 331/1000\n",
            "132/132 [==============================] - 2s 18ms/step - loss: 2.5678e-04 - accuracy: 2.3787e-04\n",
            "Epoch 332/1000\n",
            "132/132 [==============================] - 2s 18ms/step - loss: 3.1061e-04 - accuracy: 2.3787e-04\n",
            "Epoch 333/1000\n",
            "132/132 [==============================] - 2s 19ms/step - loss: 2.8655e-04 - accuracy: 2.3787e-04\n",
            "Epoch 334/1000\n",
            "132/132 [==============================] - 2s 18ms/step - loss: 2.5557e-04 - accuracy: 2.3787e-04\n",
            "Epoch 335/1000\n",
            "132/132 [==============================] - 2s 18ms/step - loss: 2.6439e-04 - accuracy: 2.3787e-04\n",
            "Epoch 336/1000\n",
            "132/132 [==============================] - 2s 18ms/step - loss: 2.4149e-04 - accuracy: 2.3787e-04\n",
            "Epoch 337/1000\n",
            "132/132 [==============================] - 2s 19ms/step - loss: 2.4740e-04 - accuracy: 2.3787e-04\n",
            "Epoch 338/1000\n",
            "132/132 [==============================] - 2s 19ms/step - loss: 2.6400e-04 - accuracy: 2.3787e-04\n",
            "Epoch 339/1000\n",
            "132/132 [==============================] - 2s 19ms/step - loss: 2.6951e-04 - accuracy: 2.3787e-04\n",
            "Epoch 340/1000\n",
            "132/132 [==============================] - 2s 19ms/step - loss: 2.9771e-04 - accuracy: 2.3787e-04\n",
            "Epoch 341/1000\n",
            "132/132 [==============================] - 2s 18ms/step - loss: 2.9351e-04 - accuracy: 2.3787e-04\n",
            "Epoch 342/1000\n",
            "132/132 [==============================] - 2s 18ms/step - loss: 2.8167e-04 - accuracy: 2.3787e-04\n",
            "Epoch 343/1000\n",
            "132/132 [==============================] - 2s 18ms/step - loss: 2.8416e-04 - accuracy: 2.3787e-04\n",
            "Epoch 344/1000\n",
            "132/132 [==============================] - 2s 18ms/step - loss: 2.5427e-04 - accuracy: 2.3787e-04\n",
            "Epoch 345/1000\n",
            "132/132 [==============================] - 2s 19ms/step - loss: 2.5163e-04 - accuracy: 2.3787e-04\n",
            "Epoch 346/1000\n",
            "132/132 [==============================] - 2s 18ms/step - loss: 2.6713e-04 - accuracy: 2.3787e-04\n",
            "Epoch 347/1000\n",
            "132/132 [==============================] - 2s 18ms/step - loss: 2.7590e-04 - accuracy: 2.3787e-04\n",
            "Epoch 348/1000\n",
            "132/132 [==============================] - 2s 18ms/step - loss: 2.5873e-04 - accuracy: 2.3787e-04\n",
            "Epoch 349/1000\n",
            "132/132 [==============================] - 2s 18ms/step - loss: 2.5502e-04 - accuracy: 2.3787e-04\n",
            "Epoch 350/1000\n",
            "132/132 [==============================] - 2s 18ms/step - loss: 2.5222e-04 - accuracy: 2.3787e-04\n",
            "Epoch 351/1000\n",
            "132/132 [==============================] - 3s 19ms/step - loss: 2.5336e-04 - accuracy: 2.3787e-04\n",
            "Epoch 352/1000\n",
            "132/132 [==============================] - 2s 18ms/step - loss: 2.6300e-04 - accuracy: 2.3787e-04\n",
            "Epoch 353/1000\n",
            "132/132 [==============================] - 2s 18ms/step - loss: 2.6502e-04 - accuracy: 2.3787e-04\n",
            "Epoch 354/1000\n",
            "132/132 [==============================] - 2s 18ms/step - loss: 2.8323e-04 - accuracy: 2.3787e-04\n",
            "Epoch 355/1000\n",
            "132/132 [==============================] - 2s 18ms/step - loss: 2.5942e-04 - accuracy: 2.3787e-04\n",
            "Epoch 356/1000\n",
            "132/132 [==============================] - 2s 18ms/step - loss: 2.6829e-04 - accuracy: 2.3787e-04\n",
            "Epoch 357/1000\n",
            "132/132 [==============================] - 2s 18ms/step - loss: 2.3827e-04 - accuracy: 2.3787e-04\n",
            "Epoch 358/1000\n",
            "132/132 [==============================] - 2s 19ms/step - loss: 2.7588e-04 - accuracy: 2.3787e-04\n",
            "Epoch 359/1000\n",
            "132/132 [==============================] - 2s 18ms/step - loss: 2.6100e-04 - accuracy: 2.3787e-04\n",
            "Epoch 360/1000\n",
            "132/132 [==============================] - 2s 18ms/step - loss: 2.5932e-04 - accuracy: 2.3787e-04\n",
            "Epoch 361/1000\n",
            "132/132 [==============================] - 2s 18ms/step - loss: 2.6279e-04 - accuracy: 2.3787e-04\n",
            "Epoch 362/1000\n",
            "132/132 [==============================] - 2s 18ms/step - loss: 2.5101e-04 - accuracy: 2.3787e-04\n",
            "Epoch 363/1000\n",
            "132/132 [==============================] - 2s 18ms/step - loss: 2.4082e-04 - accuracy: 2.3787e-04\n",
            "Epoch 364/1000\n",
            "132/132 [==============================] - 2s 18ms/step - loss: 2.5762e-04 - accuracy: 2.3787e-04\n",
            "Epoch 365/1000\n",
            "132/132 [==============================] - 2s 18ms/step - loss: 2.5050e-04 - accuracy: 2.3787e-04\n",
            "Epoch 366/1000\n",
            "132/132 [==============================] - 2s 18ms/step - loss: 2.4106e-04 - accuracy: 2.3787e-04\n",
            "Epoch 367/1000\n",
            "132/132 [==============================] - 2s 18ms/step - loss: 2.5849e-04 - accuracy: 2.3787e-04\n",
            "Epoch 368/1000\n",
            "132/132 [==============================] - 2s 19ms/step - loss: 2.3586e-04 - accuracy: 2.3787e-04\n",
            "Epoch 369/1000\n",
            "132/132 [==============================] - 2s 18ms/step - loss: 2.5946e-04 - accuracy: 2.3787e-04\n",
            "Epoch 370/1000\n",
            "132/132 [==============================] - 2s 19ms/step - loss: 2.6855e-04 - accuracy: 2.3787e-04\n",
            "Epoch 371/1000\n",
            "132/132 [==============================] - 2s 18ms/step - loss: 2.4146e-04 - accuracy: 2.3787e-04\n",
            "Epoch 372/1000\n",
            "132/132 [==============================] - 2s 18ms/step - loss: 2.5787e-04 - accuracy: 2.3787e-04\n",
            "Epoch 373/1000\n",
            "132/132 [==============================] - 2s 18ms/step - loss: 2.3866e-04 - accuracy: 2.3787e-04\n",
            "Epoch 374/1000\n",
            "132/132 [==============================] - 2s 18ms/step - loss: 2.3757e-04 - accuracy: 2.3787e-04\n",
            "Epoch 375/1000\n",
            "132/132 [==============================] - 2s 19ms/step - loss: 2.6411e-04 - accuracy: 2.3787e-04\n",
            "Epoch 376/1000\n",
            "132/132 [==============================] - 2s 18ms/step - loss: 2.8507e-04 - accuracy: 2.3787e-04\n",
            "Epoch 377/1000\n",
            "132/132 [==============================] - 3s 19ms/step - loss: 2.4420e-04 - accuracy: 2.3787e-04\n",
            "Epoch 378/1000\n",
            "132/132 [==============================] - 3s 20ms/step - loss: 2.6020e-04 - accuracy: 2.3787e-04\n",
            "Epoch 379/1000\n",
            "132/132 [==============================] - 2s 19ms/step - loss: 2.4832e-04 - accuracy: 2.3787e-04\n",
            "Epoch 380/1000\n",
            "132/132 [==============================] - 2s 18ms/step - loss: 2.5475e-04 - accuracy: 2.3787e-04\n",
            "Epoch 381/1000\n",
            "132/132 [==============================] - 2s 18ms/step - loss: 2.5722e-04 - accuracy: 2.3787e-04\n",
            "Epoch 382/1000\n",
            "132/132 [==============================] - 3s 19ms/step - loss: 2.4040e-04 - accuracy: 2.3787e-04\n",
            "Epoch 383/1000\n",
            "132/132 [==============================] - 3s 19ms/step - loss: 2.7096e-04 - accuracy: 2.3787e-04\n",
            "Epoch 384/1000\n",
            "132/132 [==============================] - 2s 18ms/step - loss: 2.7087e-04 - accuracy: 2.3787e-04\n",
            "Epoch 385/1000\n",
            "132/132 [==============================] - 2s 19ms/step - loss: 2.5215e-04 - accuracy: 2.3787e-04\n",
            "Epoch 386/1000\n",
            "132/132 [==============================] - 2s 19ms/step - loss: 2.4688e-04 - accuracy: 2.3787e-04\n",
            "Epoch 387/1000\n",
            "132/132 [==============================] - 2s 18ms/step - loss: 2.7414e-04 - accuracy: 2.3787e-04\n",
            "Epoch 388/1000\n",
            "132/132 [==============================] - 2s 18ms/step - loss: 2.5232e-04 - accuracy: 2.3787e-04\n",
            "Epoch 389/1000\n",
            "132/132 [==============================] - 2s 18ms/step - loss: 3.1401e-04 - accuracy: 2.3787e-04\n",
            "Epoch 390/1000\n",
            "132/132 [==============================] - 2s 18ms/step - loss: 2.6929e-04 - accuracy: 2.3787e-04\n",
            "Epoch 391/1000\n",
            "132/132 [==============================] - 2s 18ms/step - loss: 2.6744e-04 - accuracy: 2.3787e-04\n",
            "Epoch 392/1000\n",
            "132/132 [==============================] - 2s 18ms/step - loss: 2.5768e-04 - accuracy: 2.3787e-04\n",
            "Epoch 393/1000\n",
            "132/132 [==============================] - 3s 19ms/step - loss: 2.4896e-04 - accuracy: 2.3787e-04\n",
            "Epoch 394/1000\n",
            "132/132 [==============================] - 3s 19ms/step - loss: 2.4691e-04 - accuracy: 2.3787e-04\n",
            "Epoch 395/1000\n",
            "132/132 [==============================] - 2s 18ms/step - loss: 2.5112e-04 - accuracy: 2.3787e-04\n",
            "Epoch 396/1000\n",
            "132/132 [==============================] - 3s 19ms/step - loss: 2.5093e-04 - accuracy: 2.3787e-04\n",
            "Epoch 397/1000\n",
            "132/132 [==============================] - 2s 19ms/step - loss: 2.4157e-04 - accuracy: 2.3787e-04\n",
            "Epoch 398/1000\n",
            "132/132 [==============================] - 2s 19ms/step - loss: 2.5243e-04 - accuracy: 2.3787e-04\n",
            "Epoch 399/1000\n",
            "132/132 [==============================] - 2s 18ms/step - loss: 2.6546e-04 - accuracy: 2.3787e-04\n",
            "Epoch 400/1000\n",
            "132/132 [==============================] - 2s 19ms/step - loss: 2.5356e-04 - accuracy: 2.3787e-04\n",
            "Epoch 401/1000\n",
            "132/132 [==============================] - 2s 19ms/step - loss: 2.4941e-04 - accuracy: 2.3787e-04\n",
            "Epoch 402/1000\n",
            "132/132 [==============================] - 2s 19ms/step - loss: 2.3549e-04 - accuracy: 2.3787e-04\n",
            "Epoch 403/1000\n",
            "132/132 [==============================] - 3s 19ms/step - loss: 2.5095e-04 - accuracy: 2.3787e-04\n",
            "Epoch 404/1000\n",
            "132/132 [==============================] - 2s 18ms/step - loss: 2.7807e-04 - accuracy: 2.3787e-04\n",
            "Epoch 405/1000\n",
            "132/132 [==============================] - 2s 19ms/step - loss: 2.4411e-04 - accuracy: 2.3787e-04\n",
            "Epoch 406/1000\n",
            "132/132 [==============================] - 2s 18ms/step - loss: 2.5858e-04 - accuracy: 2.3787e-04\n",
            "Epoch 407/1000\n",
            "132/132 [==============================] - 2s 18ms/step - loss: 2.3852e-04 - accuracy: 2.3787e-04\n",
            "Epoch 408/1000\n",
            "132/132 [==============================] - 2s 19ms/step - loss: 2.3763e-04 - accuracy: 2.3787e-04\n",
            "Epoch 409/1000\n",
            "132/132 [==============================] - 2s 18ms/step - loss: 2.4658e-04 - accuracy: 2.3787e-04\n",
            "Epoch 410/1000\n",
            "132/132 [==============================] - 2s 18ms/step - loss: 2.4904e-04 - accuracy: 2.3787e-04\n",
            "Epoch 411/1000\n",
            "132/132 [==============================] - 2s 19ms/step - loss: 2.6211e-04 - accuracy: 2.3787e-04\n",
            "Epoch 412/1000\n",
            "132/132 [==============================] - 2s 18ms/step - loss: 2.6763e-04 - accuracy: 2.3787e-04\n",
            "Epoch 413/1000\n",
            "132/132 [==============================] - 2s 18ms/step - loss: 2.8452e-04 - accuracy: 2.3787e-04\n",
            "Epoch 414/1000\n",
            "132/132 [==============================] - 2s 18ms/step - loss: 2.7546e-04 - accuracy: 2.3787e-04\n",
            "Epoch 415/1000\n",
            "132/132 [==============================] - 2s 19ms/step - loss: 2.1927e-04 - accuracy: 2.3787e-04\n",
            "Epoch 416/1000\n",
            "132/132 [==============================] - 2s 18ms/step - loss: 2.4235e-04 - accuracy: 2.3787e-04\n",
            "Epoch 417/1000\n",
            "132/132 [==============================] - 2s 19ms/step - loss: 2.6691e-04 - accuracy: 2.3787e-04\n",
            "Epoch 418/1000\n",
            "132/132 [==============================] - 3s 20ms/step - loss: 2.5782e-04 - accuracy: 2.3787e-04\n",
            "Epoch 419/1000\n",
            "132/132 [==============================] - 2s 18ms/step - loss: 2.4508e-04 - accuracy: 2.3787e-04\n",
            "Epoch 420/1000\n",
            "132/132 [==============================] - 2s 19ms/step - loss: 2.2759e-04 - accuracy: 2.3787e-04\n",
            "Epoch 421/1000\n",
            "132/132 [==============================] - 3s 19ms/step - loss: 2.7578e-04 - accuracy: 2.3787e-04\n",
            "Epoch 422/1000\n",
            "132/132 [==============================] - 2s 18ms/step - loss: 2.4112e-04 - accuracy: 2.3787e-04\n",
            "Epoch 423/1000\n",
            "132/132 [==============================] - 2s 19ms/step - loss: 2.6330e-04 - accuracy: 2.3787e-04\n",
            "Epoch 424/1000\n",
            "132/132 [==============================] - 2s 18ms/step - loss: 2.5837e-04 - accuracy: 2.3787e-04\n",
            "Epoch 425/1000\n",
            "132/132 [==============================] - 2s 18ms/step - loss: 2.5810e-04 - accuracy: 2.3787e-04\n",
            "Epoch 426/1000\n",
            "132/132 [==============================] - 2s 19ms/step - loss: 2.5776e-04 - accuracy: 2.3787e-04\n",
            "Epoch 427/1000\n",
            "132/132 [==============================] - 2s 18ms/step - loss: 2.5581e-04 - accuracy: 2.3787e-04\n",
            "Epoch 428/1000\n",
            "132/132 [==============================] - 2s 18ms/step - loss: 2.4658e-04 - accuracy: 2.3787e-04\n",
            "Epoch 429/1000\n",
            "132/132 [==============================] - 2s 19ms/step - loss: 2.5513e-04 - accuracy: 2.3787e-04\n",
            "Epoch 430/1000\n",
            "132/132 [==============================] - 2s 18ms/step - loss: 2.4979e-04 - accuracy: 2.3787e-04\n",
            "Epoch 431/1000\n",
            "132/132 [==============================] - 3s 19ms/step - loss: 2.3846e-04 - accuracy: 2.3787e-04\n",
            "Epoch 432/1000\n",
            "132/132 [==============================] - 3s 19ms/step - loss: 2.4196e-04 - accuracy: 2.3787e-04\n",
            "Epoch 433/1000\n",
            "132/132 [==============================] - 2s 18ms/step - loss: 2.5859e-04 - accuracy: 2.3787e-04\n",
            "Epoch 434/1000\n",
            "132/132 [==============================] - 2s 19ms/step - loss: 2.4370e-04 - accuracy: 2.3787e-04\n",
            "Epoch 435/1000\n",
            "132/132 [==============================] - 2s 19ms/step - loss: 2.6284e-04 - accuracy: 2.3787e-04\n",
            "Epoch 436/1000\n",
            "132/132 [==============================] - 2s 18ms/step - loss: 2.2476e-04 - accuracy: 2.3787e-04\n",
            "Epoch 437/1000\n",
            "132/132 [==============================] - 2s 18ms/step - loss: 2.4149e-04 - accuracy: 2.3787e-04\n",
            "Epoch 438/1000\n",
            "132/132 [==============================] - 2s 19ms/step - loss: 2.3514e-04 - accuracy: 2.3787e-04\n",
            "Epoch 439/1000\n",
            "132/132 [==============================] - 3s 19ms/step - loss: 2.5194e-04 - accuracy: 2.3787e-04\n",
            "Epoch 440/1000\n",
            "132/132 [==============================] - 3s 19ms/step - loss: 2.6246e-04 - accuracy: 2.3787e-04\n",
            "Epoch 441/1000\n",
            "132/132 [==============================] - 3s 19ms/step - loss: 2.4868e-04 - accuracy: 2.3787e-04\n",
            "Epoch 442/1000\n",
            "132/132 [==============================] - 2s 19ms/step - loss: 2.4654e-04 - accuracy: 2.3787e-04\n",
            "Epoch 443/1000\n",
            "132/132 [==============================] - 2s 19ms/step - loss: 2.8389e-04 - accuracy: 2.3787e-04\n",
            "Epoch 444/1000\n",
            "132/132 [==============================] - 2s 19ms/step - loss: 2.8529e-04 - accuracy: 2.3787e-04\n",
            "Epoch 445/1000\n",
            "132/132 [==============================] - 2s 18ms/step - loss: 2.5729e-04 - accuracy: 2.3787e-04\n",
            "Epoch 446/1000\n",
            "132/132 [==============================] - 2s 19ms/step - loss: 2.4346e-04 - accuracy: 2.3787e-04\n",
            "Epoch 447/1000\n",
            "132/132 [==============================] - 2s 19ms/step - loss: 2.3954e-04 - accuracy: 2.3787e-04\n",
            "Epoch 448/1000\n",
            "132/132 [==============================] - 2s 19ms/step - loss: 2.3940e-04 - accuracy: 2.3787e-04\n",
            "Epoch 449/1000\n",
            "132/132 [==============================] - 2s 18ms/step - loss: 2.1920e-04 - accuracy: 2.3787e-04\n",
            "Epoch 450/1000\n",
            "132/132 [==============================] - 2s 19ms/step - loss: 2.1848e-04 - accuracy: 2.3787e-04\n",
            "Epoch 451/1000\n",
            "132/132 [==============================] - 2s 18ms/step - loss: 2.4483e-04 - accuracy: 2.3787e-04\n",
            "Epoch 452/1000\n",
            "132/132 [==============================] - 3s 19ms/step - loss: 2.4697e-04 - accuracy: 2.3787e-04\n",
            "Epoch 453/1000\n",
            "132/132 [==============================] - 2s 19ms/step - loss: 2.5986e-04 - accuracy: 2.3787e-04\n",
            "Epoch 454/1000\n",
            "132/132 [==============================] - 3s 21ms/step - loss: 2.5078e-04 - accuracy: 2.3787e-04\n",
            "Epoch 455/1000\n",
            "132/132 [==============================] - 3s 20ms/step - loss: 2.3435e-04 - accuracy: 2.3787e-04\n",
            "Epoch 456/1000\n",
            "132/132 [==============================] - 3s 19ms/step - loss: 2.4541e-04 - accuracy: 2.3787e-04\n",
            "Epoch 457/1000\n",
            "132/132 [==============================] - 2s 18ms/step - loss: 2.5795e-04 - accuracy: 2.3787e-04\n",
            "Epoch 458/1000\n",
            "132/132 [==============================] - 2s 18ms/step - loss: 2.4755e-04 - accuracy: 2.3787e-04\n",
            "Epoch 459/1000\n",
            "132/132 [==============================] - 2s 19ms/step - loss: 2.3334e-04 - accuracy: 2.3787e-04\n",
            "Epoch 460/1000\n",
            "132/132 [==============================] - 2s 19ms/step - loss: 2.6022e-04 - accuracy: 2.3787e-04\n",
            "Epoch 461/1000\n",
            "132/132 [==============================] - 3s 19ms/step - loss: 2.5664e-04 - accuracy: 2.3787e-04\n",
            "Epoch 462/1000\n",
            "132/132 [==============================] - 2s 18ms/step - loss: 2.4008e-04 - accuracy: 2.3787e-04\n",
            "Epoch 463/1000\n",
            "132/132 [==============================] - 3s 20ms/step - loss: 2.3476e-04 - accuracy: 2.3787e-04\n",
            "Epoch 464/1000\n",
            "132/132 [==============================] - 3s 19ms/step - loss: 2.5468e-04 - accuracy: 2.3787e-04\n",
            "Epoch 465/1000\n",
            "132/132 [==============================] - 3s 19ms/step - loss: 2.5401e-04 - accuracy: 2.3787e-04\n",
            "Epoch 466/1000\n",
            "132/132 [==============================] - 2s 18ms/step - loss: 2.2946e-04 - accuracy: 2.3787e-04\n",
            "Epoch 467/1000\n",
            "132/132 [==============================] - 2s 18ms/step - loss: 2.4051e-04 - accuracy: 2.3787e-04\n",
            "Epoch 468/1000\n",
            "132/132 [==============================] - 2s 18ms/step - loss: 2.7108e-04 - accuracy: 2.3787e-04\n",
            "Epoch 469/1000\n",
            "132/132 [==============================] - 2s 18ms/step - loss: 2.3414e-04 - accuracy: 2.3787e-04\n",
            "Epoch 470/1000\n",
            "132/132 [==============================] - 2s 18ms/step - loss: 2.3819e-04 - accuracy: 2.3787e-04\n",
            "Epoch 471/1000\n",
            "132/132 [==============================] - 2s 19ms/step - loss: 2.5828e-04 - accuracy: 2.3787e-04\n",
            "Epoch 472/1000\n",
            "132/132 [==============================] - 2s 18ms/step - loss: 2.5336e-04 - accuracy: 2.3787e-04\n",
            "Epoch 473/1000\n",
            "132/132 [==============================] - 2s 19ms/step - loss: 2.4365e-04 - accuracy: 2.3787e-04\n",
            "Epoch 474/1000\n",
            "132/132 [==============================] - 2s 19ms/step - loss: 2.5068e-04 - accuracy: 2.3787e-04\n",
            "Epoch 475/1000\n",
            "132/132 [==============================] - 2s 18ms/step - loss: 2.3508e-04 - accuracy: 2.3787e-04\n",
            "Epoch 476/1000\n",
            "132/132 [==============================] - 2s 18ms/step - loss: 2.4554e-04 - accuracy: 2.3787e-04\n",
            "Epoch 477/1000\n",
            "132/132 [==============================] - 2s 18ms/step - loss: 2.3324e-04 - accuracy: 2.3787e-04\n",
            "Epoch 478/1000\n",
            "132/132 [==============================] - 3s 19ms/step - loss: 2.5118e-04 - accuracy: 2.3787e-04\n",
            "Epoch 479/1000\n",
            "132/132 [==============================] - 2s 18ms/step - loss: 2.4970e-04 - accuracy: 2.3787e-04\n",
            "Epoch 480/1000\n",
            "132/132 [==============================] - 2s 18ms/step - loss: 2.5762e-04 - accuracy: 2.3787e-04\n",
            "Epoch 481/1000\n",
            "132/132 [==============================] - 2s 19ms/step - loss: 2.4175e-04 - accuracy: 2.3787e-04\n",
            "Epoch 482/1000\n",
            "132/132 [==============================] - 3s 19ms/step - loss: 2.3163e-04 - accuracy: 2.3787e-04\n",
            "Epoch 483/1000\n",
            "132/132 [==============================] - 2s 18ms/step - loss: 2.3430e-04 - accuracy: 2.3787e-04\n",
            "Epoch 484/1000\n",
            "132/132 [==============================] - 2s 18ms/step - loss: 2.3751e-04 - accuracy: 2.3787e-04\n",
            "Epoch 485/1000\n",
            "132/132 [==============================] - 3s 19ms/step - loss: 2.4205e-04 - accuracy: 2.3787e-04\n",
            "Epoch 486/1000\n",
            "132/132 [==============================] - 2s 19ms/step - loss: 2.4714e-04 - accuracy: 2.3787e-04\n",
            "Epoch 487/1000\n",
            "132/132 [==============================] - 3s 20ms/step - loss: 2.3853e-04 - accuracy: 2.3787e-04\n",
            "Epoch 488/1000\n",
            "132/132 [==============================] - 2s 19ms/step - loss: 2.4298e-04 - accuracy: 2.3787e-04\n",
            "Epoch 489/1000\n",
            "132/132 [==============================] - 2s 19ms/step - loss: 2.5182e-04 - accuracy: 2.3787e-04\n",
            "Epoch 490/1000\n",
            "132/132 [==============================] - 2s 19ms/step - loss: 2.3576e-04 - accuracy: 2.3787e-04\n",
            "Epoch 491/1000\n",
            "132/132 [==============================] - 2s 18ms/step - loss: 2.3811e-04 - accuracy: 2.3787e-04\n",
            "Epoch 492/1000\n",
            "132/132 [==============================] - 2s 18ms/step - loss: 2.4473e-04 - accuracy: 2.3787e-04\n",
            "Epoch 493/1000\n",
            "132/132 [==============================] - 3s 19ms/step - loss: 2.3430e-04 - accuracy: 2.3787e-04\n",
            "Epoch 494/1000\n",
            "132/132 [==============================] - 3s 19ms/step - loss: 2.4610e-04 - accuracy: 2.3787e-04\n",
            "Epoch 495/1000\n",
            "132/132 [==============================] - 3s 19ms/step - loss: 2.3222e-04 - accuracy: 2.3787e-04\n",
            "Epoch 496/1000\n",
            "132/132 [==============================] - 2s 19ms/step - loss: 2.7179e-04 - accuracy: 2.3787e-04\n",
            "Epoch 497/1000\n",
            "132/132 [==============================] - 2s 19ms/step - loss: 2.2913e-04 - accuracy: 2.3787e-04\n",
            "Epoch 498/1000\n",
            "132/132 [==============================] - 3s 20ms/step - loss: 2.1805e-04 - accuracy: 2.3787e-04\n",
            "Epoch 499/1000\n",
            "132/132 [==============================] - 2s 18ms/step - loss: 2.3972e-04 - accuracy: 2.3787e-04\n",
            "Epoch 500/1000\n",
            "132/132 [==============================] - 2s 19ms/step - loss: 2.4197e-04 - accuracy: 2.3787e-04\n",
            "Epoch 501/1000\n",
            "132/132 [==============================] - 3s 19ms/step - loss: 2.3621e-04 - accuracy: 2.3787e-04\n",
            "Epoch 502/1000\n",
            "132/132 [==============================] - 2s 18ms/step - loss: 2.5255e-04 - accuracy: 2.3787e-04\n",
            "Epoch 503/1000\n",
            "132/132 [==============================] - 2s 18ms/step - loss: 2.3754e-04 - accuracy: 2.3787e-04\n",
            "Epoch 504/1000\n",
            "132/132 [==============================] - 2s 18ms/step - loss: 2.5361e-04 - accuracy: 2.3787e-04\n",
            "Epoch 505/1000\n",
            "132/132 [==============================] - 2s 19ms/step - loss: 2.1880e-04 - accuracy: 2.3787e-04\n",
            "Epoch 506/1000\n",
            "132/132 [==============================] - 3s 19ms/step - loss: 2.4350e-04 - accuracy: 2.3787e-04\n",
            "Epoch 507/1000\n",
            "132/132 [==============================] - 2s 18ms/step - loss: 2.3809e-04 - accuracy: 2.3787e-04\n",
            "Epoch 508/1000\n",
            "132/132 [==============================] - 2s 18ms/step - loss: 2.5436e-04 - accuracy: 2.3787e-04\n",
            "Epoch 509/1000\n",
            "132/132 [==============================] - 2s 18ms/step - loss: 2.4938e-04 - accuracy: 2.3787e-04\n",
            "Epoch 510/1000\n",
            "132/132 [==============================] - 2s 19ms/step - loss: 2.2926e-04 - accuracy: 2.3787e-04\n",
            "Epoch 511/1000\n",
            "132/132 [==============================] - 2s 18ms/step - loss: 2.3247e-04 - accuracy: 2.3787e-04\n",
            "Epoch 512/1000\n",
            "132/132 [==============================] - 2s 18ms/step - loss: 2.6520e-04 - accuracy: 2.3787e-04\n",
            "Epoch 513/1000\n",
            "132/132 [==============================] - 2s 18ms/step - loss: 2.4172e-04 - accuracy: 2.3787e-04\n",
            "Epoch 514/1000\n",
            "132/132 [==============================] - 2s 19ms/step - loss: 2.3193e-04 - accuracy: 2.3787e-04\n",
            "Epoch 515/1000\n",
            "132/132 [==============================] - 2s 19ms/step - loss: 2.1964e-04 - accuracy: 2.3787e-04\n",
            "Epoch 516/1000\n",
            "132/132 [==============================] - 2s 18ms/step - loss: 2.4681e-04 - accuracy: 2.3787e-04\n",
            "Epoch 517/1000\n",
            "132/132 [==============================] - 3s 19ms/step - loss: 2.3874e-04 - accuracy: 2.3787e-04\n",
            "Epoch 518/1000\n",
            "132/132 [==============================] - 3s 19ms/step - loss: 2.3606e-04 - accuracy: 2.3787e-04\n",
            "Epoch 519/1000\n",
            "132/132 [==============================] - 3s 19ms/step - loss: 2.4185e-04 - accuracy: 2.3787e-04\n",
            "Epoch 520/1000\n",
            "132/132 [==============================] - 3s 19ms/step - loss: 2.5508e-04 - accuracy: 2.3787e-04\n",
            "Epoch 521/1000\n",
            "132/132 [==============================] - 2s 19ms/step - loss: 2.3219e-04 - accuracy: 2.3787e-04\n",
            "Epoch 522/1000\n",
            "132/132 [==============================] - 3s 19ms/step - loss: 2.3497e-04 - accuracy: 2.3787e-04\n",
            "Epoch 523/1000\n",
            "132/132 [==============================] - 2s 18ms/step - loss: 2.2466e-04 - accuracy: 2.3787e-04\n",
            "Epoch 524/1000\n",
            "132/132 [==============================] - 2s 19ms/step - loss: 2.5838e-04 - accuracy: 2.3787e-04\n",
            "Epoch 525/1000\n",
            "132/132 [==============================] - 3s 19ms/step - loss: 2.2878e-04 - accuracy: 2.3787e-04\n",
            "Epoch 526/1000\n",
            "132/132 [==============================] - 2s 19ms/step - loss: 2.5148e-04 - accuracy: 2.3787e-04\n",
            "Epoch 527/1000\n",
            "132/132 [==============================] - 2s 18ms/step - loss: 2.4085e-04 - accuracy: 2.3787e-04\n",
            "Epoch 528/1000\n",
            "132/132 [==============================] - 2s 19ms/step - loss: 2.4526e-04 - accuracy: 2.3787e-04\n",
            "Epoch 529/1000\n",
            "132/132 [==============================] - 3s 19ms/step - loss: 2.4728e-04 - accuracy: 2.3787e-04\n",
            "Epoch 530/1000\n",
            "132/132 [==============================] - 2s 19ms/step - loss: 2.5208e-04 - accuracy: 2.3787e-04\n",
            "Epoch 531/1000\n",
            "132/132 [==============================] - 2s 18ms/step - loss: 2.3720e-04 - accuracy: 2.3787e-04\n",
            "Epoch 532/1000\n",
            "132/132 [==============================] - 2s 19ms/step - loss: 2.4749e-04 - accuracy: 2.3787e-04\n",
            "Epoch 533/1000\n",
            "132/132 [==============================] - 2s 18ms/step - loss: 2.5571e-04 - accuracy: 2.3787e-04\n",
            "Epoch 534/1000\n",
            "132/132 [==============================] - 3s 19ms/step - loss: 2.3292e-04 - accuracy: 2.3787e-04\n",
            "Epoch 535/1000\n",
            "132/132 [==============================] - 3s 20ms/step - loss: 2.3206e-04 - accuracy: 2.3787e-04\n",
            "Epoch 536/1000\n",
            "132/132 [==============================] - 3s 19ms/step - loss: 2.6731e-04 - accuracy: 2.3787e-04\n",
            "Epoch 537/1000\n",
            "132/132 [==============================] - 2s 18ms/step - loss: 2.5204e-04 - accuracy: 2.3787e-04\n",
            "Epoch 538/1000\n",
            "132/132 [==============================] - 3s 19ms/step - loss: 2.1805e-04 - accuracy: 2.3787e-04\n",
            "Epoch 539/1000\n",
            "132/132 [==============================] - 3s 19ms/step - loss: 2.3517e-04 - accuracy: 2.3787e-04\n",
            "Epoch 540/1000\n",
            "132/132 [==============================] - 2s 19ms/step - loss: 2.1413e-04 - accuracy: 2.3787e-04\n",
            "Epoch 541/1000\n",
            "132/132 [==============================] - 2s 19ms/step - loss: 2.2544e-04 - accuracy: 2.3787e-04\n",
            "Epoch 542/1000\n",
            "132/132 [==============================] - 3s 19ms/step - loss: 2.4920e-04 - accuracy: 2.3787e-04\n",
            "Epoch 543/1000\n",
            "132/132 [==============================] - 2s 19ms/step - loss: 2.2808e-04 - accuracy: 2.3787e-04\n",
            "Epoch 544/1000\n",
            "132/132 [==============================] - 2s 18ms/step - loss: 2.4921e-04 - accuracy: 2.3787e-04\n",
            "Epoch 545/1000\n",
            "132/132 [==============================] - 3s 20ms/step - loss: 2.4176e-04 - accuracy: 2.3787e-04\n",
            "Epoch 546/1000\n",
            "132/132 [==============================] - 3s 20ms/step - loss: 2.3691e-04 - accuracy: 2.3787e-04\n",
            "Epoch 547/1000\n",
            "132/132 [==============================] - 3s 19ms/step - loss: 2.5611e-04 - accuracy: 2.3787e-04\n",
            "Epoch 548/1000\n",
            "132/132 [==============================] - 2s 19ms/step - loss: 2.4843e-04 - accuracy: 2.3787e-04\n",
            "Epoch 549/1000\n",
            "132/132 [==============================] - 2s 18ms/step - loss: 2.3994e-04 - accuracy: 2.3787e-04\n",
            "Epoch 550/1000\n",
            "132/132 [==============================] - 2s 19ms/step - loss: 2.3740e-04 - accuracy: 2.3787e-04\n",
            "Epoch 551/1000\n",
            "132/132 [==============================] - 2s 18ms/step - loss: 2.5003e-04 - accuracy: 2.3787e-04\n",
            "Epoch 552/1000\n",
            "132/132 [==============================] - 2s 18ms/step - loss: 2.4934e-04 - accuracy: 2.3787e-04\n",
            "Epoch 553/1000\n",
            "132/132 [==============================] - 3s 19ms/step - loss: 2.2252e-04 - accuracy: 2.3787e-04\n",
            "Epoch 554/1000\n",
            "132/132 [==============================] - 3s 20ms/step - loss: 2.4625e-04 - accuracy: 2.3787e-04\n",
            "Epoch 555/1000\n",
            "132/132 [==============================] - 2s 19ms/step - loss: 2.5530e-04 - accuracy: 2.3787e-04\n",
            "Epoch 556/1000\n",
            "132/132 [==============================] - 2s 18ms/step - loss: 2.2975e-04 - accuracy: 2.3787e-04\n",
            "Epoch 557/1000\n",
            "132/132 [==============================] - 3s 20ms/step - loss: 2.5527e-04 - accuracy: 2.3787e-04\n",
            "Epoch 558/1000\n",
            "132/132 [==============================] - 2s 18ms/step - loss: 2.2142e-04 - accuracy: 2.3787e-04\n",
            "Epoch 559/1000\n",
            "132/132 [==============================] - 2s 19ms/step - loss: 2.2219e-04 - accuracy: 2.3787e-04\n",
            "Epoch 560/1000\n",
            "132/132 [==============================] - 2s 19ms/step - loss: 2.4624e-04 - accuracy: 2.3787e-04\n",
            "Epoch 561/1000\n",
            "132/132 [==============================] - 2s 19ms/step - loss: 2.5258e-04 - accuracy: 2.3787e-04\n",
            "Epoch 562/1000\n",
            "132/132 [==============================] - 3s 19ms/step - loss: 2.5272e-04 - accuracy: 2.3787e-04\n",
            "Epoch 563/1000\n",
            "132/132 [==============================] - 3s 19ms/step - loss: 2.2624e-04 - accuracy: 2.3787e-04\n",
            "Epoch 564/1000\n",
            "132/132 [==============================] - 2s 19ms/step - loss: 2.3251e-04 - accuracy: 2.3787e-04\n",
            "Epoch 565/1000\n",
            "132/132 [==============================] - 2s 19ms/step - loss: 2.4037e-04 - accuracy: 2.3787e-04\n",
            "Epoch 566/1000\n",
            "132/132 [==============================] - 2s 18ms/step - loss: 2.2928e-04 - accuracy: 2.3787e-04\n",
            "Epoch 567/1000\n",
            "132/132 [==============================] - 3s 19ms/step - loss: 2.2581e-04 - accuracy: 2.3787e-04\n",
            "Epoch 568/1000\n",
            "132/132 [==============================] - 2s 18ms/step - loss: 2.2850e-04 - accuracy: 2.3787e-04\n",
            "Epoch 569/1000\n",
            "132/132 [==============================] - 2s 18ms/step - loss: 2.2185e-04 - accuracy: 2.3787e-04\n",
            "Epoch 570/1000\n",
            "132/132 [==============================] - 2s 19ms/step - loss: 2.2695e-04 - accuracy: 2.3787e-04\n",
            "Epoch 571/1000\n",
            "132/132 [==============================] - 2s 18ms/step - loss: 2.2875e-04 - accuracy: 2.3787e-04\n",
            "Epoch 572/1000\n",
            "132/132 [==============================] - 3s 19ms/step - loss: 2.3806e-04 - accuracy: 2.3787e-04\n",
            "Epoch 573/1000\n",
            "132/132 [==============================] - 2s 18ms/step - loss: 2.4343e-04 - accuracy: 2.3787e-04\n",
            "Epoch 574/1000\n",
            "132/132 [==============================] - 2s 19ms/step - loss: 2.4308e-04 - accuracy: 2.3787e-04\n",
            "Epoch 575/1000\n",
            "132/132 [==============================] - 2s 19ms/step - loss: 2.5752e-04 - accuracy: 2.3787e-04\n",
            "Epoch 576/1000\n",
            "132/132 [==============================] - 2s 19ms/step - loss: 2.2813e-04 - accuracy: 2.3787e-04\n",
            "Epoch 577/1000\n",
            "132/132 [==============================] - 2s 19ms/step - loss: 2.4464e-04 - accuracy: 2.3787e-04\n",
            "Epoch 578/1000\n",
            "132/132 [==============================] - 3s 20ms/step - loss: 2.5639e-04 - accuracy: 2.3787e-04\n",
            "Epoch 579/1000\n",
            "132/132 [==============================] - 3s 19ms/step - loss: 2.3235e-04 - accuracy: 2.3787e-04\n",
            "Epoch 580/1000\n",
            "132/132 [==============================] - 2s 19ms/step - loss: 2.4901e-04 - accuracy: 2.3787e-04\n",
            "Epoch 581/1000\n",
            "132/132 [==============================] - 2s 19ms/step - loss: 2.3984e-04 - accuracy: 2.3787e-04\n",
            "Epoch 582/1000\n",
            "132/132 [==============================] - 3s 19ms/step - loss: 2.2768e-04 - accuracy: 2.3787e-04\n",
            "Epoch 583/1000\n",
            "132/132 [==============================] - 2s 18ms/step - loss: 2.1410e-04 - accuracy: 2.3787e-04\n",
            "Epoch 584/1000\n",
            "132/132 [==============================] - 2s 19ms/step - loss: 2.5009e-04 - accuracy: 2.3787e-04\n",
            "Epoch 585/1000\n",
            "132/132 [==============================] - 2s 19ms/step - loss: 2.2188e-04 - accuracy: 2.3787e-04\n",
            "Epoch 586/1000\n",
            "132/132 [==============================] - 3s 19ms/step - loss: 2.4306e-04 - accuracy: 2.3787e-04\n",
            "Epoch 587/1000\n",
            "132/132 [==============================] - 2s 19ms/step - loss: 2.2783e-04 - accuracy: 2.3787e-04\n",
            "Epoch 588/1000\n",
            "132/132 [==============================] - 3s 19ms/step - loss: 2.3813e-04 - accuracy: 2.3787e-04\n",
            "Epoch 589/1000\n",
            "132/132 [==============================] - 2s 18ms/step - loss: 2.2175e-04 - accuracy: 2.3787e-04\n",
            "Epoch 590/1000\n",
            "132/132 [==============================] - 2s 18ms/step - loss: 2.5062e-04 - accuracy: 2.3787e-04\n",
            "Epoch 591/1000\n",
            "132/132 [==============================] - 2s 19ms/step - loss: 2.4693e-04 - accuracy: 2.3787e-04\n",
            "Epoch 592/1000\n",
            "132/132 [==============================] - 2s 19ms/step - loss: 2.4252e-04 - accuracy: 2.3787e-04\n",
            "Epoch 593/1000\n",
            "132/132 [==============================] - 2s 18ms/step - loss: 2.2324e-04 - accuracy: 2.3787e-04\n",
            "Epoch 594/1000\n",
            "132/132 [==============================] - 3s 19ms/step - loss: 2.2914e-04 - accuracy: 2.3787e-04\n",
            "Epoch 595/1000\n",
            "132/132 [==============================] - 3s 20ms/step - loss: 2.2923e-04 - accuracy: 2.3787e-04\n",
            "Epoch 596/1000\n",
            "132/132 [==============================] - 3s 19ms/step - loss: 2.2913e-04 - accuracy: 2.3787e-04\n",
            "Epoch 597/1000\n",
            "132/132 [==============================] - 2s 18ms/step - loss: 2.3190e-04 - accuracy: 2.3787e-04\n",
            "Epoch 598/1000\n",
            "132/132 [==============================] - 2s 19ms/step - loss: 2.2253e-04 - accuracy: 2.3787e-04\n",
            "Epoch 599/1000\n",
            "132/132 [==============================] - 2s 19ms/step - loss: 2.3227e-04 - accuracy: 2.3787e-04\n",
            "Epoch 600/1000\n",
            "132/132 [==============================] - 2s 19ms/step - loss: 2.2997e-04 - accuracy: 2.3787e-04\n",
            "Epoch 601/1000\n",
            "132/132 [==============================] - 2s 19ms/step - loss: 2.3011e-04 - accuracy: 2.3787e-04\n",
            "Epoch 602/1000\n",
            "132/132 [==============================] - 2s 19ms/step - loss: 2.4014e-04 - accuracy: 2.3787e-04\n",
            "Epoch 603/1000\n",
            "132/132 [==============================] - 2s 19ms/step - loss: 2.5912e-04 - accuracy: 2.3787e-04\n",
            "Epoch 604/1000\n",
            "132/132 [==============================] - 2s 18ms/step - loss: 2.3665e-04 - accuracy: 2.3787e-04\n",
            "Epoch 605/1000\n",
            "132/132 [==============================] - 2s 19ms/step - loss: 2.2486e-04 - accuracy: 2.3787e-04\n",
            "Epoch 606/1000\n",
            "132/132 [==============================] - 2s 19ms/step - loss: 2.2024e-04 - accuracy: 2.3787e-04\n",
            "Epoch 607/1000\n",
            "132/132 [==============================] - 2s 19ms/step - loss: 2.4599e-04 - accuracy: 2.3787e-04\n",
            "Epoch 608/1000\n",
            "132/132 [==============================] - 2s 19ms/step - loss: 2.2537e-04 - accuracy: 2.3787e-04\n",
            "Epoch 609/1000\n",
            "132/132 [==============================] - 2s 18ms/step - loss: 2.3742e-04 - accuracy: 2.3787e-04\n",
            "Epoch 610/1000\n",
            "132/132 [==============================] - 3s 20ms/step - loss: 2.1892e-04 - accuracy: 2.3787e-04\n",
            "Epoch 611/1000\n",
            "132/132 [==============================] - 3s 19ms/step - loss: 2.2568e-04 - accuracy: 2.3787e-04\n",
            "Epoch 612/1000\n",
            "132/132 [==============================] - 2s 19ms/step - loss: 2.1787e-04 - accuracy: 2.3787e-04\n",
            "Epoch 613/1000\n",
            "132/132 [==============================] - 2s 19ms/step - loss: 2.3863e-04 - accuracy: 2.3787e-04\n",
            "Epoch 614/1000\n",
            "132/132 [==============================] - 2s 18ms/step - loss: 2.5002e-04 - accuracy: 2.3787e-04\n",
            "Epoch 615/1000\n",
            "132/132 [==============================] - 3s 19ms/step - loss: 2.3391e-04 - accuracy: 2.3787e-04\n",
            "Epoch 616/1000\n",
            "132/132 [==============================] - 3s 20ms/step - loss: 2.1907e-04 - accuracy: 2.3787e-04\n",
            "Epoch 617/1000\n",
            "132/132 [==============================] - 3s 19ms/step - loss: 2.2580e-04 - accuracy: 2.3787e-04\n",
            "Epoch 618/1000\n",
            "132/132 [==============================] - 2s 19ms/step - loss: 2.1913e-04 - accuracy: 2.3787e-04\n",
            "Epoch 619/1000\n",
            "132/132 [==============================] - 2s 18ms/step - loss: 2.3461e-04 - accuracy: 2.3787e-04\n",
            "Epoch 620/1000\n",
            "132/132 [==============================] - 2s 19ms/step - loss: 2.3849e-04 - accuracy: 2.3787e-04\n",
            "Epoch 621/1000\n",
            "132/132 [==============================] - 2s 18ms/step - loss: 2.3136e-04 - accuracy: 2.3787e-04\n",
            "Epoch 622/1000\n",
            "132/132 [==============================] - 2s 19ms/step - loss: 2.3848e-04 - accuracy: 2.3787e-04\n",
            "Epoch 623/1000\n",
            "132/132 [==============================] - 2s 19ms/step - loss: 2.3501e-04 - accuracy: 2.3787e-04\n",
            "Epoch 624/1000\n",
            "132/132 [==============================] - 2s 18ms/step - loss: 2.2421e-04 - accuracy: 2.3787e-04\n",
            "Epoch 625/1000\n",
            "132/132 [==============================] - 2s 19ms/step - loss: 2.0548e-04 - accuracy: 2.3787e-04\n",
            "Epoch 626/1000\n",
            "132/132 [==============================] - 2s 19ms/step - loss: 2.3883e-04 - accuracy: 2.3787e-04\n",
            "Epoch 627/1000\n",
            "132/132 [==============================] - 2s 18ms/step - loss: 2.3004e-04 - accuracy: 2.3787e-04\n",
            "Epoch 628/1000\n",
            "132/132 [==============================] - 2s 19ms/step - loss: 2.4527e-04 - accuracy: 2.3787e-04\n",
            "Epoch 629/1000\n",
            "132/132 [==============================] - 3s 19ms/step - loss: 2.3217e-04 - accuracy: 2.3787e-04\n",
            "Epoch 630/1000\n",
            "132/132 [==============================] - 3s 19ms/step - loss: 2.3560e-04 - accuracy: 2.3787e-04\n",
            "Epoch 631/1000\n",
            "132/132 [==============================] - 3s 19ms/step - loss: 2.3006e-04 - accuracy: 2.3787e-04\n",
            "Epoch 632/1000\n",
            "132/132 [==============================] - 2s 18ms/step - loss: 2.2647e-04 - accuracy: 2.3787e-04\n",
            "Epoch 633/1000\n",
            "132/132 [==============================] - 2s 18ms/step - loss: 2.3792e-04 - accuracy: 2.3787e-04\n",
            "Epoch 634/1000\n",
            "132/132 [==============================] - 2s 19ms/step - loss: 2.2980e-04 - accuracy: 2.3787e-04\n",
            "Epoch 635/1000\n",
            "132/132 [==============================] - 2s 18ms/step - loss: 2.2255e-04 - accuracy: 2.3787e-04\n",
            "Epoch 636/1000\n",
            "132/132 [==============================] - 2s 18ms/step - loss: 2.3837e-04 - accuracy: 2.3787e-04\n",
            "Epoch 637/1000\n",
            "132/132 [==============================] - 3s 19ms/step - loss: 2.3888e-04 - accuracy: 2.3787e-04\n",
            "Epoch 638/1000\n",
            "132/132 [==============================] - 2s 18ms/step - loss: 2.0834e-04 - accuracy: 2.3787e-04\n",
            "Epoch 639/1000\n",
            "132/132 [==============================] - 2s 19ms/step - loss: 2.3566e-04 - accuracy: 2.3787e-04\n",
            "Epoch 640/1000\n",
            "132/132 [==============================] - 2s 18ms/step - loss: 2.2845e-04 - accuracy: 2.3787e-04\n",
            "Epoch 641/1000\n",
            "132/132 [==============================] - 2s 18ms/step - loss: 2.1081e-04 - accuracy: 2.3787e-04\n",
            "Epoch 642/1000\n",
            "132/132 [==============================] - 3s 19ms/step - loss: 2.1907e-04 - accuracy: 2.3787e-04\n",
            "Epoch 643/1000\n",
            "132/132 [==============================] - 2s 19ms/step - loss: 2.1815e-04 - accuracy: 2.3787e-04\n",
            "Epoch 644/1000\n",
            "132/132 [==============================] - 2s 19ms/step - loss: 2.4212e-04 - accuracy: 2.3787e-04\n",
            "Epoch 645/1000\n",
            "132/132 [==============================] - 2s 18ms/step - loss: 2.4893e-04 - accuracy: 2.3787e-04\n",
            "Epoch 646/1000\n",
            "132/132 [==============================] - 2s 18ms/step - loss: 2.2448e-04 - accuracy: 2.3787e-04\n",
            "Epoch 647/1000\n",
            "132/132 [==============================] - 2s 18ms/step - loss: 2.2147e-04 - accuracy: 2.3787e-04\n",
            "Epoch 648/1000\n",
            "132/132 [==============================] - 3s 19ms/step - loss: 2.1644e-04 - accuracy: 2.3787e-04\n",
            "Epoch 649/1000\n",
            "132/132 [==============================] - 3s 19ms/step - loss: 2.3740e-04 - accuracy: 2.3787e-04\n",
            "Epoch 650/1000\n",
            "132/132 [==============================] - 3s 19ms/step - loss: 2.3131e-04 - accuracy: 2.3787e-04\n",
            "Epoch 651/1000\n",
            "132/132 [==============================] - 2s 19ms/step - loss: 2.5054e-04 - accuracy: 2.3787e-04\n",
            "Epoch 652/1000\n",
            "132/132 [==============================] - 2s 18ms/step - loss: 2.2782e-04 - accuracy: 2.3787e-04\n",
            "Epoch 653/1000\n",
            "132/132 [==============================] - 2s 19ms/step - loss: 2.4327e-04 - accuracy: 2.3787e-04\n",
            "Epoch 654/1000\n",
            "132/132 [==============================] - 2s 18ms/step - loss: 2.3297e-04 - accuracy: 2.3787e-04\n",
            "Epoch 655/1000\n",
            "132/132 [==============================] - 3s 19ms/step - loss: 2.1650e-04 - accuracy: 2.3787e-04\n",
            "Epoch 656/1000\n",
            "132/132 [==============================] - 3s 20ms/step - loss: 2.5258e-04 - accuracy: 2.3787e-04\n",
            "Epoch 657/1000\n",
            "132/132 [==============================] - 2s 19ms/step - loss: 2.2560e-04 - accuracy: 2.3787e-04\n",
            "Epoch 658/1000\n",
            "132/132 [==============================] - 3s 19ms/step - loss: 2.3195e-04 - accuracy: 2.3787e-04\n",
            "Epoch 659/1000\n",
            "132/132 [==============================] - 2s 19ms/step - loss: 2.2150e-04 - accuracy: 2.3787e-04\n",
            "Epoch 660/1000\n",
            "132/132 [==============================] - 2s 19ms/step - loss: 2.1236e-04 - accuracy: 2.3787e-04\n",
            "Epoch 661/1000\n",
            "132/132 [==============================] - 2s 19ms/step - loss: 2.4625e-04 - accuracy: 2.3787e-04\n",
            "Epoch 662/1000\n",
            "132/132 [==============================] - 2s 18ms/step - loss: 2.2384e-04 - accuracy: 2.3787e-04\n",
            "Epoch 663/1000\n",
            "132/132 [==============================] - 2s 18ms/step - loss: 2.1890e-04 - accuracy: 2.3787e-04\n",
            "Epoch 664/1000\n",
            "132/132 [==============================] - 2s 19ms/step - loss: 2.1763e-04 - accuracy: 2.3787e-04\n",
            "Epoch 665/1000\n",
            "132/132 [==============================] - 2s 19ms/step - loss: 2.2934e-04 - accuracy: 2.3787e-04\n",
            "Epoch 666/1000\n",
            "132/132 [==============================] - 2s 19ms/step - loss: 2.3708e-04 - accuracy: 2.3787e-04\n",
            "Epoch 667/1000\n",
            "132/132 [==============================] - 2s 19ms/step - loss: 2.2388e-04 - accuracy: 2.3787e-04\n",
            "Epoch 668/1000\n",
            "132/132 [==============================] - 3s 19ms/step - loss: 2.0140e-04 - accuracy: 2.3787e-04\n",
            "Epoch 669/1000\n",
            "132/132 [==============================] - 3s 19ms/step - loss: 2.2800e-04 - accuracy: 2.3787e-04\n",
            "Epoch 670/1000\n",
            "132/132 [==============================] - 2s 19ms/step - loss: 2.3936e-04 - accuracy: 2.3787e-04\n",
            "Epoch 671/1000\n",
            "132/132 [==============================] - 3s 19ms/step - loss: 2.1316e-04 - accuracy: 2.3787e-04\n",
            "Epoch 672/1000\n",
            "132/132 [==============================] - 2s 19ms/step - loss: 2.2897e-04 - accuracy: 2.3787e-04\n",
            "Epoch 673/1000\n",
            "132/132 [==============================] - 2s 19ms/step - loss: 2.2923e-04 - accuracy: 2.3787e-04\n",
            "Epoch 674/1000\n",
            "132/132 [==============================] - 3s 19ms/step - loss: 2.3146e-04 - accuracy: 2.3787e-04\n",
            "Epoch 675/1000\n",
            "132/132 [==============================] - 2s 19ms/step - loss: 2.5844e-04 - accuracy: 2.3787e-04\n",
            "Epoch 676/1000\n",
            "132/132 [==============================] - 3s 19ms/step - loss: 2.0829e-04 - accuracy: 2.3787e-04\n",
            "Epoch 677/1000\n",
            "132/132 [==============================] - 2s 19ms/step - loss: 2.1132e-04 - accuracy: 2.3787e-04\n",
            "Epoch 678/1000\n",
            "132/132 [==============================] - 2s 19ms/step - loss: 2.3900e-04 - accuracy: 2.3787e-04\n",
            "Epoch 679/1000\n",
            "132/132 [==============================] - 2s 18ms/step - loss: 2.5242e-04 - accuracy: 2.3787e-04\n",
            "Epoch 680/1000\n",
            "132/132 [==============================] - 3s 19ms/step - loss: 2.2109e-04 - accuracy: 2.3787e-04\n",
            "Epoch 681/1000\n",
            "132/132 [==============================] - 2s 18ms/step - loss: 2.3479e-04 - accuracy: 2.3787e-04\n",
            "Epoch 682/1000\n",
            "132/132 [==============================] - 2s 19ms/step - loss: 2.2421e-04 - accuracy: 2.3787e-04\n",
            "Epoch 683/1000\n",
            "132/132 [==============================] - 2s 19ms/step - loss: 2.2554e-04 - accuracy: 2.3787e-04\n",
            "Epoch 684/1000\n",
            "132/132 [==============================] - 2s 19ms/step - loss: 2.4577e-04 - accuracy: 2.3787e-04\n",
            "Epoch 685/1000\n",
            "132/132 [==============================] - 2s 19ms/step - loss: 2.4422e-04 - accuracy: 2.3787e-04\n",
            "Epoch 686/1000\n",
            "132/132 [==============================] - 2s 19ms/step - loss: 2.2410e-04 - accuracy: 2.3787e-04\n",
            "Epoch 687/1000\n",
            "132/132 [==============================] - 2s 19ms/step - loss: 2.0782e-04 - accuracy: 2.3787e-04\n",
            "Epoch 688/1000\n",
            "132/132 [==============================] - 2s 19ms/step - loss: 2.4779e-04 - accuracy: 2.3787e-04\n",
            "Epoch 689/1000\n",
            "132/132 [==============================] - 2s 19ms/step - loss: 2.4184e-04 - accuracy: 2.3787e-04\n",
            "Epoch 690/1000\n",
            "132/132 [==============================] - 3s 20ms/step - loss: 2.4025e-04 - accuracy: 2.3787e-04\n",
            "Epoch 691/1000\n",
            "132/132 [==============================] - 2s 19ms/step - loss: 2.1754e-04 - accuracy: 2.3787e-04\n",
            "Epoch 692/1000\n",
            "132/132 [==============================] - 2s 19ms/step - loss: 2.2936e-04 - accuracy: 2.3787e-04\n",
            "Epoch 693/1000\n",
            "132/132 [==============================] - 2s 19ms/step - loss: 2.2541e-04 - accuracy: 2.3787e-04\n",
            "Epoch 694/1000\n",
            "132/132 [==============================] - 3s 19ms/step - loss: 2.1053e-04 - accuracy: 2.3787e-04\n",
            "Epoch 695/1000\n",
            "132/132 [==============================] - 3s 19ms/step - loss: 2.1976e-04 - accuracy: 2.3787e-04\n",
            "Epoch 696/1000\n",
            "132/132 [==============================] - 2s 19ms/step - loss: 2.2533e-04 - accuracy: 2.3787e-04\n",
            "Epoch 697/1000\n",
            "132/132 [==============================] - 2s 19ms/step - loss: 2.3688e-04 - accuracy: 2.3787e-04\n",
            "Epoch 698/1000\n",
            "132/132 [==============================] - 2s 19ms/step - loss: 2.4014e-04 - accuracy: 2.3787e-04\n",
            "Epoch 699/1000\n",
            "132/132 [==============================] - 3s 19ms/step - loss: 2.3459e-04 - accuracy: 2.3787e-04\n",
            "Epoch 700/1000\n",
            "132/132 [==============================] - 3s 19ms/step - loss: 2.2502e-04 - accuracy: 2.3787e-04\n",
            "Epoch 701/1000\n",
            "132/132 [==============================] - 3s 20ms/step - loss: 2.2068e-04 - accuracy: 2.3787e-04\n",
            "Epoch 702/1000\n",
            "132/132 [==============================] - 3s 19ms/step - loss: 2.2869e-04 - accuracy: 2.3787e-04\n",
            "Epoch 703/1000\n",
            "132/132 [==============================] - 2s 19ms/step - loss: 2.2998e-04 - accuracy: 2.3787e-04\n",
            "Epoch 704/1000\n",
            "132/132 [==============================] - 2s 19ms/step - loss: 2.1375e-04 - accuracy: 2.3787e-04\n",
            "Epoch 705/1000\n",
            "132/132 [==============================] - 2s 19ms/step - loss: 2.3563e-04 - accuracy: 2.3787e-04\n",
            "Epoch 706/1000\n",
            "132/132 [==============================] - 2s 19ms/step - loss: 2.3625e-04 - accuracy: 2.3787e-04\n",
            "Epoch 707/1000\n",
            "132/132 [==============================] - 2s 19ms/step - loss: 2.2834e-04 - accuracy: 2.3787e-04\n",
            "Epoch 708/1000\n",
            "132/132 [==============================] - 2s 19ms/step - loss: 2.2929e-04 - accuracy: 2.3787e-04\n",
            "Epoch 709/1000\n",
            "132/132 [==============================] - 3s 19ms/step - loss: 2.4740e-04 - accuracy: 2.3787e-04\n",
            "Epoch 710/1000\n",
            "132/132 [==============================] - 3s 19ms/step - loss: 2.1917e-04 - accuracy: 2.3787e-04\n",
            "Epoch 711/1000\n",
            "132/132 [==============================] - 2s 19ms/step - loss: 2.3546e-04 - accuracy: 2.3787e-04\n",
            "Epoch 712/1000\n",
            "132/132 [==============================] - 3s 19ms/step - loss: 2.2464e-04 - accuracy: 2.3787e-04\n",
            "Epoch 713/1000\n",
            "132/132 [==============================] - 2s 19ms/step - loss: 2.1450e-04 - accuracy: 2.3787e-04\n",
            "Epoch 714/1000\n",
            "132/132 [==============================] - 2s 19ms/step - loss: 2.2986e-04 - accuracy: 2.3787e-04\n",
            "Epoch 715/1000\n",
            "132/132 [==============================] - 3s 20ms/step - loss: 2.3278e-04 - accuracy: 2.3787e-04\n",
            "Epoch 716/1000\n",
            "132/132 [==============================] - 2s 19ms/step - loss: 2.2948e-04 - accuracy: 2.3787e-04\n",
            "Epoch 717/1000\n",
            "132/132 [==============================] - 2s 18ms/step - loss: 2.3515e-04 - accuracy: 2.3787e-04\n",
            "Epoch 718/1000\n",
            "132/132 [==============================] - 3s 20ms/step - loss: 2.0967e-04 - accuracy: 2.3787e-04\n",
            "Epoch 719/1000\n",
            "132/132 [==============================] - 3s 20ms/step - loss: 2.1105e-04 - accuracy: 2.3787e-04\n",
            "Epoch 720/1000\n",
            "132/132 [==============================] - 3s 20ms/step - loss: 2.0950e-04 - accuracy: 2.3787e-04\n",
            "Epoch 721/1000\n",
            "132/132 [==============================] - 3s 19ms/step - loss: 2.1097e-04 - accuracy: 2.3787e-04\n",
            "Epoch 722/1000\n",
            "132/132 [==============================] - 3s 20ms/step - loss: 2.1331e-04 - accuracy: 2.3787e-04\n",
            "Epoch 723/1000\n",
            "132/132 [==============================] - 3s 20ms/step - loss: 2.2502e-04 - accuracy: 2.3787e-04\n",
            "Epoch 724/1000\n",
            "132/132 [==============================] - 2s 19ms/step - loss: 2.1362e-04 - accuracy: 2.3787e-04\n",
            "Epoch 725/1000\n",
            "132/132 [==============================] - 2s 19ms/step - loss: 2.2577e-04 - accuracy: 2.3787e-04\n",
            "Epoch 726/1000\n",
            "132/132 [==============================] - 2s 19ms/step - loss: 2.3034e-04 - accuracy: 2.3787e-04\n",
            "Epoch 727/1000\n",
            "132/132 [==============================] - 2s 19ms/step - loss: 2.4369e-04 - accuracy: 2.3787e-04\n",
            "Epoch 728/1000\n",
            "132/132 [==============================] - 2s 19ms/step - loss: 2.2028e-04 - accuracy: 2.3787e-04\n",
            "Epoch 729/1000\n",
            "132/132 [==============================] - 3s 19ms/step - loss: 2.3211e-04 - accuracy: 2.3787e-04\n",
            "Epoch 730/1000\n",
            "132/132 [==============================] - 2s 19ms/step - loss: 2.2402e-04 - accuracy: 2.3787e-04\n",
            "Epoch 731/1000\n",
            "132/132 [==============================] - 3s 19ms/step - loss: 2.2789e-04 - accuracy: 2.3787e-04\n",
            "Epoch 732/1000\n",
            "132/132 [==============================] - 3s 20ms/step - loss: 2.2457e-04 - accuracy: 2.3787e-04\n",
            "Epoch 733/1000\n",
            "132/132 [==============================] - 3s 19ms/step - loss: 2.2638e-04 - accuracy: 2.3787e-04\n",
            "Epoch 734/1000\n",
            "132/132 [==============================] - 2s 19ms/step - loss: 2.2732e-04 - accuracy: 2.3787e-04\n",
            "Epoch 735/1000\n",
            "132/132 [==============================] - 3s 20ms/step - loss: 2.1191e-04 - accuracy: 2.3787e-04\n",
            "Epoch 736/1000\n",
            "132/132 [==============================] - 2s 19ms/step - loss: 2.2448e-04 - accuracy: 2.3787e-04\n",
            "Epoch 737/1000\n",
            "132/132 [==============================] - 3s 19ms/step - loss: 2.1987e-04 - accuracy: 2.3787e-04\n",
            "Epoch 738/1000\n",
            "132/132 [==============================] - 2s 19ms/step - loss: 2.2482e-04 - accuracy: 2.3787e-04\n",
            "Epoch 739/1000\n",
            "132/132 [==============================] - 2s 19ms/step - loss: 2.3429e-04 - accuracy: 2.3787e-04\n",
            "Epoch 740/1000\n",
            "132/132 [==============================] - 2s 19ms/step - loss: 2.0742e-04 - accuracy: 2.3787e-04\n",
            "Epoch 741/1000\n",
            "132/132 [==============================] - 2s 19ms/step - loss: 2.2770e-04 - accuracy: 2.3787e-04\n",
            "Epoch 742/1000\n",
            "132/132 [==============================] - 3s 20ms/step - loss: 2.3143e-04 - accuracy: 2.3787e-04\n",
            "Epoch 743/1000\n",
            "132/132 [==============================] - 2s 19ms/step - loss: 2.2753e-04 - accuracy: 2.3787e-04\n",
            "Epoch 744/1000\n",
            "132/132 [==============================] - 3s 19ms/step - loss: 2.2844e-04 - accuracy: 2.3787e-04\n",
            "Epoch 745/1000\n",
            "132/132 [==============================] - 2s 18ms/step - loss: 2.3288e-04 - accuracy: 2.3787e-04\n",
            "Epoch 746/1000\n",
            "132/132 [==============================] - 2s 19ms/step - loss: 2.2093e-04 - accuracy: 2.3787e-04\n",
            "Epoch 747/1000\n",
            "132/132 [==============================] - 2s 19ms/step - loss: 2.2344e-04 - accuracy: 2.3787e-04\n",
            "Epoch 748/1000\n",
            "132/132 [==============================] - 2s 19ms/step - loss: 2.3815e-04 - accuracy: 2.3787e-04\n",
            "Epoch 749/1000\n",
            "132/132 [==============================] - 2s 19ms/step - loss: 2.2792e-04 - accuracy: 2.3787e-04\n",
            "Epoch 750/1000\n",
            "132/132 [==============================] - 2s 19ms/step - loss: 2.1906e-04 - accuracy: 2.3787e-04\n",
            "Epoch 751/1000\n",
            "132/132 [==============================] - 2s 18ms/step - loss: 2.1513e-04 - accuracy: 2.3787e-04\n",
            "Epoch 752/1000\n",
            "132/132 [==============================] - 3s 19ms/step - loss: 2.3222e-04 - accuracy: 2.3787e-04\n",
            "Epoch 753/1000\n",
            "132/132 [==============================] - 3s 20ms/step - loss: 2.1935e-04 - accuracy: 2.3787e-04\n",
            "Epoch 754/1000\n",
            "132/132 [==============================] - 3s 19ms/step - loss: 2.1895e-04 - accuracy: 2.3787e-04\n",
            "Epoch 755/1000\n",
            "132/132 [==============================] - 2s 19ms/step - loss: 2.1641e-04 - accuracy: 2.3787e-04\n",
            "Epoch 756/1000\n",
            "132/132 [==============================] - 3s 19ms/step - loss: 2.4636e-04 - accuracy: 2.3787e-04\n",
            "Epoch 757/1000\n",
            "132/132 [==============================] - 2s 19ms/step - loss: 2.1228e-04 - accuracy: 2.3787e-04\n",
            "Epoch 758/1000\n",
            "132/132 [==============================] - 2s 19ms/step - loss: 2.1807e-04 - accuracy: 2.3787e-04\n",
            "Epoch 759/1000\n",
            "132/132 [==============================] - 2s 19ms/step - loss: 2.1992e-04 - accuracy: 2.3787e-04\n",
            "Epoch 760/1000\n",
            "132/132 [==============================] - 2s 19ms/step - loss: 2.4489e-04 - accuracy: 2.3787e-04\n",
            "Epoch 761/1000\n",
            "132/132 [==============================] - 3s 19ms/step - loss: 2.3206e-04 - accuracy: 2.3787e-04\n",
            "Epoch 762/1000\n",
            "132/132 [==============================] - 2s 19ms/step - loss: 2.4155e-04 - accuracy: 2.3787e-04\n",
            "Epoch 763/1000\n",
            "132/132 [==============================] - 3s 19ms/step - loss: 2.2965e-04 - accuracy: 2.3787e-04\n",
            "Epoch 764/1000\n",
            "132/132 [==============================] - 2s 19ms/step - loss: 2.1703e-04 - accuracy: 2.3787e-04\n",
            "Epoch 765/1000\n",
            "132/132 [==============================] - 3s 19ms/step - loss: 2.1911e-04 - accuracy: 2.3787e-04\n",
            "Epoch 766/1000\n",
            "132/132 [==============================] - 3s 19ms/step - loss: 2.2524e-04 - accuracy: 2.3787e-04\n",
            "Epoch 767/1000\n",
            "132/132 [==============================] - 3s 20ms/step - loss: 2.2870e-04 - accuracy: 2.3787e-04\n",
            "Epoch 768/1000\n",
            "132/132 [==============================] - 3s 19ms/step - loss: 2.1638e-04 - accuracy: 2.3787e-04\n",
            "Epoch 769/1000\n",
            "132/132 [==============================] - 3s 19ms/step - loss: 2.1597e-04 - accuracy: 2.3787e-04\n",
            "Epoch 770/1000\n",
            "132/132 [==============================] - 3s 19ms/step - loss: 2.9030e-04 - accuracy: 2.3787e-04\n",
            "Epoch 771/1000\n",
            "132/132 [==============================] - 3s 19ms/step - loss: 2.2344e-04 - accuracy: 2.3787e-04\n",
            "Epoch 772/1000\n",
            "132/132 [==============================] - 2s 19ms/step - loss: 2.2855e-04 - accuracy: 2.3787e-04\n",
            "Epoch 773/1000\n",
            "132/132 [==============================] - 3s 19ms/step - loss: 2.2868e-04 - accuracy: 2.3787e-04\n",
            "Epoch 774/1000\n",
            "132/132 [==============================] - 2s 19ms/step - loss: 2.0825e-04 - accuracy: 2.3787e-04\n",
            "Epoch 775/1000\n",
            "132/132 [==============================] - 2s 19ms/step - loss: 2.1979e-04 - accuracy: 2.3787e-04\n",
            "Epoch 776/1000\n",
            "132/132 [==============================] - 2s 19ms/step - loss: 2.2399e-04 - accuracy: 2.3787e-04\n",
            "Epoch 777/1000\n",
            "132/132 [==============================] - 3s 19ms/step - loss: 2.2442e-04 - accuracy: 2.3787e-04\n",
            "Epoch 778/1000\n",
            "132/132 [==============================] - 2s 19ms/step - loss: 2.1329e-04 - accuracy: 2.3787e-04\n",
            "Epoch 779/1000\n",
            "132/132 [==============================] - 3s 20ms/step - loss: 2.2494e-04 - accuracy: 2.3787e-04\n",
            "Epoch 780/1000\n",
            "132/132 [==============================] - 3s 19ms/step - loss: 2.2870e-04 - accuracy: 2.3787e-04\n",
            "Epoch 781/1000\n",
            "132/132 [==============================] - 3s 19ms/step - loss: 2.3008e-04 - accuracy: 2.3787e-04\n",
            "Epoch 782/1000\n",
            "132/132 [==============================] - 3s 19ms/step - loss: 2.0876e-04 - accuracy: 2.3787e-04\n",
            "Epoch 783/1000\n",
            "132/132 [==============================] - 3s 19ms/step - loss: 2.2169e-04 - accuracy: 2.3787e-04\n",
            "Epoch 784/1000\n",
            "132/132 [==============================] - 2s 19ms/step - loss: 2.1631e-04 - accuracy: 2.3787e-04\n",
            "Epoch 785/1000\n",
            "132/132 [==============================] - 3s 19ms/step - loss: 2.2920e-04 - accuracy: 2.3787e-04\n",
            "Epoch 786/1000\n",
            "132/132 [==============================] - 2s 19ms/step - loss: 2.1607e-04 - accuracy: 2.3787e-04\n",
            "Epoch 787/1000\n",
            "132/132 [==============================] - 3s 19ms/step - loss: 2.2416e-04 - accuracy: 2.3787e-04\n",
            "Epoch 788/1000\n",
            "132/132 [==============================] - 2s 19ms/step - loss: 2.2385e-04 - accuracy: 2.3787e-04\n",
            "Epoch 789/1000\n",
            "132/132 [==============================] - 2s 19ms/step - loss: 2.3206e-04 - accuracy: 2.3787e-04\n",
            "Epoch 790/1000\n",
            "132/132 [==============================] - 3s 19ms/step - loss: 2.1674e-04 - accuracy: 2.3787e-04\n",
            "Epoch 791/1000\n",
            "132/132 [==============================] - 2s 19ms/step - loss: 2.1209e-04 - accuracy: 2.3787e-04\n",
            "Epoch 792/1000\n",
            "132/132 [==============================] - 3s 20ms/step - loss: 2.1910e-04 - accuracy: 2.3787e-04\n",
            "Epoch 793/1000\n",
            "132/132 [==============================] - 3s 19ms/step - loss: 2.2762e-04 - accuracy: 2.3787e-04\n",
            "Epoch 794/1000\n",
            "132/132 [==============================] - 3s 21ms/step - loss: 2.2695e-04 - accuracy: 2.3787e-04\n",
            "Epoch 795/1000\n",
            "132/132 [==============================] - 3s 19ms/step - loss: 2.3507e-04 - accuracy: 2.3787e-04\n",
            "Epoch 796/1000\n",
            "132/132 [==============================] - 2s 19ms/step - loss: 2.2032e-04 - accuracy: 2.3787e-04\n",
            "Epoch 797/1000\n",
            "132/132 [==============================] - 2s 19ms/step - loss: 2.0507e-04 - accuracy: 2.3787e-04\n",
            "Epoch 798/1000\n",
            "132/132 [==============================] - 3s 19ms/step - loss: 2.2422e-04 - accuracy: 2.3787e-04\n",
            "Epoch 799/1000\n",
            "132/132 [==============================] - 3s 19ms/step - loss: 2.2107e-04 - accuracy: 2.3787e-04\n",
            "Epoch 800/1000\n",
            "132/132 [==============================] - 3s 19ms/step - loss: 2.2875e-04 - accuracy: 2.3787e-04\n",
            "Epoch 801/1000\n",
            "132/132 [==============================] - 3s 19ms/step - loss: 2.3866e-04 - accuracy: 2.3787e-04\n",
            "Epoch 802/1000\n",
            "132/132 [==============================] - 3s 20ms/step - loss: 1.9774e-04 - accuracy: 2.3787e-04\n",
            "Epoch 803/1000\n",
            "132/132 [==============================] - 2s 19ms/step - loss: 2.2412e-04 - accuracy: 2.3787e-04\n",
            "Epoch 804/1000\n",
            "132/132 [==============================] - 3s 19ms/step - loss: 2.3101e-04 - accuracy: 2.3787e-04\n",
            "Epoch 805/1000\n",
            "132/132 [==============================] - 3s 19ms/step - loss: 2.4176e-04 - accuracy: 2.3787e-04\n",
            "Epoch 806/1000\n",
            "132/132 [==============================] - 3s 19ms/step - loss: 2.1901e-04 - accuracy: 2.3787e-04\n",
            "Epoch 807/1000\n",
            "132/132 [==============================] - 3s 19ms/step - loss: 2.1224e-04 - accuracy: 2.3787e-04\n",
            "Epoch 808/1000\n",
            "132/132 [==============================] - 3s 19ms/step - loss: 2.1769e-04 - accuracy: 2.3787e-04\n",
            "Epoch 809/1000\n",
            "132/132 [==============================] - 2s 19ms/step - loss: 2.3254e-04 - accuracy: 2.3787e-04\n",
            "Epoch 810/1000\n",
            "132/132 [==============================] - 3s 19ms/step - loss: 2.2378e-04 - accuracy: 2.3787e-04\n",
            "Epoch 811/1000\n",
            "132/132 [==============================] - 3s 19ms/step - loss: 2.1921e-04 - accuracy: 2.3787e-04\n",
            "Epoch 812/1000\n",
            "132/132 [==============================] - 3s 19ms/step - loss: 2.2487e-04 - accuracy: 2.3787e-04\n",
            "Epoch 813/1000\n",
            "132/132 [==============================] - 3s 20ms/step - loss: 2.1066e-04 - accuracy: 2.3787e-04\n",
            "Epoch 814/1000\n",
            "132/132 [==============================] - 3s 19ms/step - loss: 2.3298e-04 - accuracy: 2.3787e-04\n",
            "Epoch 815/1000\n",
            "132/132 [==============================] - 3s 20ms/step - loss: 2.3137e-04 - accuracy: 2.3787e-04\n",
            "Epoch 816/1000\n",
            "132/132 [==============================] - 3s 20ms/step - loss: 2.1065e-04 - accuracy: 2.3787e-04\n",
            "Epoch 817/1000\n",
            "132/132 [==============================] - 3s 19ms/step - loss: 2.2008e-04 - accuracy: 2.3787e-04\n",
            "Epoch 818/1000\n",
            "132/132 [==============================] - 3s 19ms/step - loss: 2.1019e-04 - accuracy: 2.3787e-04\n",
            "Epoch 819/1000\n",
            "132/132 [==============================] - 3s 19ms/step - loss: 2.0719e-04 - accuracy: 2.3787e-04\n",
            "Epoch 820/1000\n",
            "132/132 [==============================] - 3s 19ms/step - loss: 2.1893e-04 - accuracy: 2.3787e-04\n",
            "Epoch 821/1000\n",
            "132/132 [==============================] - 3s 19ms/step - loss: 2.1671e-04 - accuracy: 2.3787e-04\n",
            "Epoch 822/1000\n",
            "132/132 [==============================] - 3s 20ms/step - loss: 2.2010e-04 - accuracy: 2.3787e-04\n",
            "Epoch 823/1000\n",
            "132/132 [==============================] - 3s 20ms/step - loss: 2.2801e-04 - accuracy: 2.3787e-04\n",
            "Epoch 824/1000\n",
            "132/132 [==============================] - 3s 19ms/step - loss: 2.2590e-04 - accuracy: 2.3787e-04\n",
            "Epoch 825/1000\n",
            "132/132 [==============================] - 3s 19ms/step - loss: 2.0963e-04 - accuracy: 2.3787e-04\n",
            "Epoch 826/1000\n",
            "132/132 [==============================] - 3s 20ms/step - loss: 2.1633e-04 - accuracy: 2.3787e-04\n",
            "Epoch 827/1000\n",
            "132/132 [==============================] - 3s 19ms/step - loss: 2.1679e-04 - accuracy: 2.3787e-04\n",
            "Epoch 828/1000\n",
            "132/132 [==============================] - 3s 19ms/step - loss: 2.2622e-04 - accuracy: 2.3787e-04\n",
            "Epoch 829/1000\n",
            "132/132 [==============================] - 2s 19ms/step - loss: 2.1982e-04 - accuracy: 2.3787e-04\n",
            "Epoch 830/1000\n",
            "132/132 [==============================] - 3s 19ms/step - loss: 2.1492e-04 - accuracy: 2.3787e-04\n",
            "Epoch 831/1000\n",
            "132/132 [==============================] - 3s 19ms/step - loss: 2.2046e-04 - accuracy: 2.3787e-04\n",
            "Epoch 832/1000\n",
            "132/132 [==============================] - 2s 19ms/step - loss: 2.2355e-04 - accuracy: 2.3787e-04\n",
            "Epoch 833/1000\n",
            "132/132 [==============================] - 3s 20ms/step - loss: 2.0657e-04 - accuracy: 2.3787e-04\n",
            "Epoch 834/1000\n",
            "132/132 [==============================] - 3s 19ms/step - loss: 2.1455e-04 - accuracy: 2.3787e-04\n",
            "Epoch 835/1000\n",
            "132/132 [==============================] - 2s 19ms/step - loss: 2.1815e-04 - accuracy: 2.3787e-04\n",
            "Epoch 836/1000\n",
            "132/132 [==============================] - 2s 19ms/step - loss: 2.0664e-04 - accuracy: 2.3787e-04\n",
            "Epoch 837/1000\n",
            "132/132 [==============================] - 3s 19ms/step - loss: 2.1904e-04 - accuracy: 2.3787e-04\n",
            "Epoch 838/1000\n",
            "132/132 [==============================] - 2s 19ms/step - loss: 2.1932e-04 - accuracy: 2.3787e-04\n",
            "Epoch 839/1000\n",
            "132/132 [==============================] - 3s 20ms/step - loss: 2.2816e-04 - accuracy: 2.3787e-04\n",
            "Epoch 840/1000\n",
            "132/132 [==============================] - 2s 19ms/step - loss: 2.1259e-04 - accuracy: 2.3787e-04\n",
            "Epoch 841/1000\n",
            "132/132 [==============================] - 3s 20ms/step - loss: 2.1427e-04 - accuracy: 2.3787e-04\n",
            "Epoch 842/1000\n",
            "132/132 [==============================] - 3s 19ms/step - loss: 2.3112e-04 - accuracy: 2.3787e-04\n",
            "Epoch 843/1000\n",
            "132/132 [==============================] - 3s 19ms/step - loss: 2.3147e-04 - accuracy: 2.3787e-04\n",
            "Epoch 844/1000\n",
            "132/132 [==============================] - 3s 20ms/step - loss: 2.2815e-04 - accuracy: 2.3787e-04\n",
            "Epoch 845/1000\n",
            "132/132 [==============================] - 2s 19ms/step - loss: 2.1046e-04 - accuracy: 2.3787e-04\n",
            "Epoch 846/1000\n",
            "132/132 [==============================] - 3s 20ms/step - loss: 2.2353e-04 - accuracy: 2.3787e-04\n",
            "Epoch 847/1000\n",
            "132/132 [==============================] - 3s 20ms/step - loss: 2.1978e-04 - accuracy: 2.3787e-04\n",
            "Epoch 848/1000\n",
            "132/132 [==============================] - 2s 19ms/step - loss: 2.1026e-04 - accuracy: 2.3787e-04\n",
            "Epoch 849/1000\n",
            "132/132 [==============================] - 3s 19ms/step - loss: 2.2790e-04 - accuracy: 2.3787e-04\n",
            "Epoch 850/1000\n",
            "132/132 [==============================] - 2s 19ms/step - loss: 2.0907e-04 - accuracy: 2.3787e-04\n",
            "Epoch 851/1000\n",
            "132/132 [==============================] - 3s 19ms/step - loss: 2.2102e-04 - accuracy: 2.3787e-04\n",
            "Epoch 852/1000\n",
            "132/132 [==============================] - 3s 19ms/step - loss: 2.0626e-04 - accuracy: 2.3787e-04\n",
            "Epoch 853/1000\n",
            "132/132 [==============================] - 2s 19ms/step - loss: 2.1869e-04 - accuracy: 2.3787e-04\n",
            "Epoch 854/1000\n",
            "132/132 [==============================] - 3s 19ms/step - loss: 2.1635e-04 - accuracy: 2.3787e-04\n",
            "Epoch 855/1000\n",
            "132/132 [==============================] - 3s 19ms/step - loss: 2.2062e-04 - accuracy: 2.3787e-04\n",
            "Epoch 856/1000\n",
            "132/132 [==============================] - 3s 19ms/step - loss: 2.1592e-04 - accuracy: 2.3787e-04\n",
            "Epoch 857/1000\n",
            "132/132 [==============================] - 3s 20ms/step - loss: 2.1339e-04 - accuracy: 2.3787e-04\n",
            "Epoch 858/1000\n",
            "132/132 [==============================] - 3s 19ms/step - loss: 2.3030e-04 - accuracy: 2.3787e-04\n",
            "Epoch 859/1000\n",
            "132/132 [==============================] - 2s 19ms/step - loss: 2.1402e-04 - accuracy: 2.3787e-04\n",
            "Epoch 860/1000\n",
            "132/132 [==============================] - 2s 19ms/step - loss: 2.2035e-04 - accuracy: 2.3787e-04\n",
            "Epoch 861/1000\n",
            "132/132 [==============================] - 3s 19ms/step - loss: 2.1166e-04 - accuracy: 2.3787e-04\n",
            "Epoch 862/1000\n",
            "132/132 [==============================] - 3s 20ms/step - loss: 2.1782e-04 - accuracy: 2.3787e-04\n",
            "Epoch 863/1000\n",
            "132/132 [==============================] - 3s 19ms/step - loss: 2.1463e-04 - accuracy: 2.3787e-04\n",
            "Epoch 864/1000\n",
            "132/132 [==============================] - 3s 19ms/step - loss: 2.1787e-04 - accuracy: 2.3787e-04\n",
            "Epoch 865/1000\n",
            "132/132 [==============================] - 3s 19ms/step - loss: 2.2039e-04 - accuracy: 2.3787e-04\n",
            "Epoch 866/1000\n",
            "132/132 [==============================] - 2s 19ms/step - loss: 2.1755e-04 - accuracy: 2.3787e-04\n",
            "Epoch 867/1000\n",
            "132/132 [==============================] - 3s 20ms/step - loss: 2.2107e-04 - accuracy: 2.3787e-04\n",
            "Epoch 868/1000\n",
            "132/132 [==============================] - 3s 19ms/step - loss: 2.2056e-04 - accuracy: 2.3787e-04\n",
            "Epoch 869/1000\n",
            "132/132 [==============================] - 2s 19ms/step - loss: 2.2051e-04 - accuracy: 2.3787e-04\n",
            "Epoch 870/1000\n",
            "132/132 [==============================] - 3s 19ms/step - loss: 2.2020e-04 - accuracy: 2.3787e-04\n",
            "Epoch 871/1000\n",
            "132/132 [==============================] - 2s 19ms/step - loss: 2.2383e-04 - accuracy: 2.3787e-04\n",
            "Epoch 872/1000\n",
            "132/132 [==============================] - 3s 19ms/step - loss: 2.2307e-04 - accuracy: 2.3787e-04\n",
            "Epoch 873/1000\n",
            "132/132 [==============================] - 3s 19ms/step - loss: 2.1296e-04 - accuracy: 2.3787e-04\n",
            "Epoch 874/1000\n",
            "132/132 [==============================] - 3s 19ms/step - loss: 2.1686e-04 - accuracy: 2.3787e-04\n",
            "Epoch 875/1000\n",
            "132/132 [==============================] - 3s 19ms/step - loss: 2.2133e-04 - accuracy: 2.3787e-04\n",
            "Epoch 876/1000\n",
            "132/132 [==============================] - 3s 19ms/step - loss: 2.0422e-04 - accuracy: 2.3787e-04\n",
            "Epoch 877/1000\n",
            "132/132 [==============================] - 3s 19ms/step - loss: 2.1870e-04 - accuracy: 2.3787e-04\n",
            "Epoch 878/1000\n",
            "132/132 [==============================] - 3s 20ms/step - loss: 2.2354e-04 - accuracy: 2.3787e-04\n",
            "Epoch 879/1000\n",
            "132/132 [==============================] - 2s 19ms/step - loss: 2.2427e-04 - accuracy: 2.3787e-04\n",
            "Epoch 880/1000\n",
            "132/132 [==============================] - 3s 20ms/step - loss: 0.0153 - accuracy: 2.3787e-04\n",
            "Epoch 881/1000\n",
            "132/132 [==============================] - 3s 20ms/step - loss: 0.0026 - accuracy: 2.3787e-04\n",
            "Epoch 882/1000\n",
            "132/132 [==============================] - 3s 20ms/step - loss: 0.0012 - accuracy: 2.3787e-04\n",
            "Epoch 883/1000\n",
            "132/132 [==============================] - 3s 19ms/step - loss: 9.3997e-04 - accuracy: 2.3787e-04\n",
            "Epoch 884/1000\n",
            "132/132 [==============================] - 3s 20ms/step - loss: 8.0102e-04 - accuracy: 2.3787e-04\n",
            "Epoch 885/1000\n",
            "132/132 [==============================] - 3s 20ms/step - loss: 7.1330e-04 - accuracy: 2.3787e-04\n",
            "Epoch 886/1000\n",
            "132/132 [==============================] - 3s 19ms/step - loss: 6.2041e-04 - accuracy: 2.3787e-04\n",
            "Epoch 887/1000\n",
            "132/132 [==============================] - 3s 19ms/step - loss: 6.7725e-04 - accuracy: 2.3787e-04\n",
            "Epoch 888/1000\n",
            "132/132 [==============================] - 3s 20ms/step - loss: 5.7943e-04 - accuracy: 2.3787e-04\n",
            "Epoch 889/1000\n",
            "132/132 [==============================] - 3s 20ms/step - loss: 6.8262e-04 - accuracy: 2.3787e-04\n",
            "Epoch 890/1000\n",
            "132/132 [==============================] - 3s 19ms/step - loss: 0.0064 - accuracy: 2.3787e-04\n",
            "Epoch 891/1000\n",
            "132/132 [==============================] - 3s 19ms/step - loss: 9.4029e-04 - accuracy: 2.3787e-04\n",
            "Epoch 892/1000\n",
            "132/132 [==============================] - 3s 20ms/step - loss: 6.4492e-04 - accuracy: 2.3787e-04\n",
            "Epoch 893/1000\n",
            "132/132 [==============================] - 3s 19ms/step - loss: 5.4575e-04 - accuracy: 2.3787e-04\n",
            "Epoch 894/1000\n",
            "132/132 [==============================] - 3s 20ms/step - loss: 5.8982e-04 - accuracy: 2.3787e-04\n",
            "Epoch 895/1000\n",
            "132/132 [==============================] - 3s 19ms/step - loss: 5.3066e-04 - accuracy: 2.3787e-04\n",
            "Epoch 896/1000\n",
            "132/132 [==============================] - 3s 20ms/step - loss: 5.3295e-04 - accuracy: 2.3787e-04\n",
            "Epoch 897/1000\n",
            "132/132 [==============================] - 3s 20ms/step - loss: 5.0915e-04 - accuracy: 2.3787e-04\n",
            "Epoch 898/1000\n",
            "132/132 [==============================] - 3s 19ms/step - loss: 4.7443e-04 - accuracy: 2.3787e-04\n",
            "Epoch 899/1000\n",
            "132/132 [==============================] - 3s 19ms/step - loss: 4.7820e-04 - accuracy: 2.3787e-04\n",
            "Epoch 900/1000\n",
            "132/132 [==============================] - 3s 19ms/step - loss: 4.3419e-04 - accuracy: 2.3787e-04\n",
            "Epoch 901/1000\n",
            "132/132 [==============================] - 3s 20ms/step - loss: 4.3593e-04 - accuracy: 2.3787e-04\n",
            "Epoch 902/1000\n",
            "132/132 [==============================] - 3s 20ms/step - loss: 4.4272e-04 - accuracy: 2.3787e-04\n",
            "Epoch 903/1000\n",
            "132/132 [==============================] - 3s 20ms/step - loss: 4.2983e-04 - accuracy: 2.3787e-04\n",
            "Epoch 904/1000\n",
            "132/132 [==============================] - 3s 19ms/step - loss: 4.1278e-04 - accuracy: 2.3787e-04\n",
            "Epoch 905/1000\n",
            "132/132 [==============================] - 2s 19ms/step - loss: 3.9364e-04 - accuracy: 2.3787e-04\n",
            "Epoch 906/1000\n",
            "132/132 [==============================] - 3s 20ms/step - loss: 4.2256e-04 - accuracy: 2.3787e-04\n",
            "Epoch 907/1000\n",
            "132/132 [==============================] - 3s 20ms/step - loss: 4.0421e-04 - accuracy: 2.3787e-04\n",
            "Epoch 908/1000\n",
            "132/132 [==============================] - 2s 19ms/step - loss: 3.7161e-04 - accuracy: 2.3787e-04\n",
            "Epoch 909/1000\n",
            "132/132 [==============================] - 3s 19ms/step - loss: 3.8242e-04 - accuracy: 2.3787e-04\n",
            "Epoch 910/1000\n",
            "132/132 [==============================] - 3s 20ms/step - loss: 3.9642e-04 - accuracy: 2.3787e-04\n",
            "Epoch 911/1000\n",
            "132/132 [==============================] - 3s 19ms/step - loss: 3.8679e-04 - accuracy: 2.3787e-04\n",
            "Epoch 912/1000\n",
            "132/132 [==============================] - 3s 20ms/step - loss: 3.9244e-04 - accuracy: 2.3787e-04\n",
            "Epoch 913/1000\n",
            "132/132 [==============================] - 3s 19ms/step - loss: 3.7394e-04 - accuracy: 2.3787e-04\n",
            "Epoch 914/1000\n",
            "132/132 [==============================] - 3s 20ms/step - loss: 3.7639e-04 - accuracy: 2.3787e-04\n",
            "Epoch 915/1000\n",
            "132/132 [==============================] - 3s 19ms/step - loss: 3.7427e-04 - accuracy: 2.3787e-04\n",
            "Epoch 916/1000\n",
            "132/132 [==============================] - 2s 19ms/step - loss: 4.0247e-04 - accuracy: 2.3787e-04\n",
            "Epoch 917/1000\n",
            "132/132 [==============================] - 3s 19ms/step - loss: 3.7681e-04 - accuracy: 2.3787e-04\n",
            "Epoch 918/1000\n",
            "132/132 [==============================] - 3s 19ms/step - loss: 3.5595e-04 - accuracy: 2.3787e-04\n",
            "Epoch 919/1000\n",
            "132/132 [==============================] - 3s 19ms/step - loss: 3.7652e-04 - accuracy: 2.3787e-04\n",
            "Epoch 920/1000\n",
            "132/132 [==============================] - 3s 20ms/step - loss: 3.4205e-04 - accuracy: 2.3787e-04\n",
            "Epoch 921/1000\n",
            "132/132 [==============================] - 3s 19ms/step - loss: 3.6787e-04 - accuracy: 2.3787e-04\n",
            "Epoch 922/1000\n",
            "132/132 [==============================] - 3s 19ms/step - loss: 3.7588e-04 - accuracy: 2.3787e-04\n",
            "Epoch 923/1000\n",
            "132/132 [==============================] - 3s 19ms/step - loss: 3.6009e-04 - accuracy: 2.3787e-04\n",
            "Epoch 924/1000\n",
            "132/132 [==============================] - 3s 19ms/step - loss: 3.6004e-04 - accuracy: 2.3787e-04\n",
            "Epoch 925/1000\n",
            "132/132 [==============================] - 3s 21ms/step - loss: 3.5199e-04 - accuracy: 2.3787e-04\n",
            "Epoch 926/1000\n",
            "132/132 [==============================] - 3s 20ms/step - loss: 3.3864e-04 - accuracy: 2.3787e-04\n",
            "Epoch 927/1000\n",
            "132/132 [==============================] - 3s 20ms/step - loss: 3.3542e-04 - accuracy: 2.3787e-04\n",
            "Epoch 928/1000\n",
            "132/132 [==============================] - 3s 19ms/step - loss: 3.4349e-04 - accuracy: 2.3787e-04\n",
            "Epoch 929/1000\n",
            "132/132 [==============================] - 3s 20ms/step - loss: 3.5003e-04 - accuracy: 2.3787e-04\n",
            "Epoch 930/1000\n",
            "132/132 [==============================] - 3s 19ms/step - loss: 3.4341e-04 - accuracy: 2.3787e-04\n",
            "Epoch 931/1000\n",
            "132/132 [==============================] - 3s 19ms/step - loss: 3.3286e-04 - accuracy: 2.3787e-04\n",
            "Epoch 932/1000\n",
            "132/132 [==============================] - 3s 19ms/step - loss: 3.4283e-04 - accuracy: 2.3787e-04\n",
            "Epoch 933/1000\n",
            "132/132 [==============================] - 3s 20ms/step - loss: 3.4157e-04 - accuracy: 2.3787e-04\n",
            "Epoch 934/1000\n",
            "132/132 [==============================] - 3s 19ms/step - loss: 3.4084e-04 - accuracy: 2.3787e-04\n",
            "Epoch 935/1000\n",
            "132/132 [==============================] - 3s 19ms/step - loss: 3.3105e-04 - accuracy: 2.3787e-04\n",
            "Epoch 936/1000\n",
            "132/132 [==============================] - 3s 20ms/step - loss: 3.4599e-04 - accuracy: 2.3787e-04\n",
            "Epoch 937/1000\n",
            "132/132 [==============================] - 3s 19ms/step - loss: 3.3516e-04 - accuracy: 2.3787e-04\n",
            "Epoch 938/1000\n",
            "132/132 [==============================] - 3s 19ms/step - loss: 3.7509e-04 - accuracy: 2.3787e-04\n",
            "Epoch 939/1000\n",
            "132/132 [==============================] - 3s 19ms/step - loss: 3.5645e-04 - accuracy: 2.3787e-04\n",
            "Epoch 940/1000\n",
            "132/132 [==============================] - 3s 19ms/step - loss: 3.7122e-04 - accuracy: 2.3787e-04\n",
            "Epoch 941/1000\n",
            "132/132 [==============================] - 3s 19ms/step - loss: 3.5321e-04 - accuracy: 2.3787e-04\n",
            "Epoch 942/1000\n",
            "132/132 [==============================] - 3s 19ms/step - loss: 3.2683e-04 - accuracy: 2.3787e-04\n",
            "Epoch 943/1000\n",
            "132/132 [==============================] - 3s 20ms/step - loss: 3.3796e-04 - accuracy: 2.3787e-04\n",
            "Epoch 944/1000\n",
            "132/132 [==============================] - 3s 20ms/step - loss: 3.4757e-04 - accuracy: 2.3787e-04\n",
            "Epoch 945/1000\n",
            "132/132 [==============================] - 3s 20ms/step - loss: 3.4119e-04 - accuracy: 2.3787e-04\n",
            "Epoch 946/1000\n",
            "132/132 [==============================] - 3s 19ms/step - loss: 3.4242e-04 - accuracy: 2.3787e-04\n",
            "Epoch 947/1000\n",
            "132/132 [==============================] - 3s 19ms/step - loss: 3.2554e-04 - accuracy: 2.3787e-04\n",
            "Epoch 948/1000\n",
            "132/132 [==============================] - 3s 19ms/step - loss: 3.4921e-04 - accuracy: 2.3787e-04\n",
            "Epoch 949/1000\n",
            "132/132 [==============================] - 3s 19ms/step - loss: 3.3841e-04 - accuracy: 2.3787e-04\n",
            "Epoch 950/1000\n",
            "132/132 [==============================] - 3s 19ms/step - loss: 3.5873e-04 - accuracy: 2.3787e-04\n",
            "Epoch 951/1000\n",
            "132/132 [==============================] - 3s 19ms/step - loss: 3.4267e-04 - accuracy: 2.3787e-04\n",
            "Epoch 952/1000\n",
            "132/132 [==============================] - 3s 19ms/step - loss: 3.2698e-04 - accuracy: 2.3787e-04\n",
            "Epoch 953/1000\n",
            "132/132 [==============================] - 3s 20ms/step - loss: 3.3759e-04 - accuracy: 2.3787e-04\n",
            "Epoch 954/1000\n",
            "132/132 [==============================] - 3s 20ms/step - loss: 3.4104e-04 - accuracy: 2.3787e-04\n",
            "Epoch 955/1000\n",
            "132/132 [==============================] - 3s 20ms/step - loss: 3.3466e-04 - accuracy: 2.3787e-04\n",
            "Epoch 956/1000\n",
            "132/132 [==============================] - 2s 19ms/step - loss: 3.4233e-04 - accuracy: 2.3787e-04\n",
            "Epoch 957/1000\n",
            "132/132 [==============================] - 3s 19ms/step - loss: 3.1704e-04 - accuracy: 2.3787e-04\n",
            "Epoch 958/1000\n",
            "132/132 [==============================] - 3s 19ms/step - loss: 3.1928e-04 - accuracy: 2.3787e-04\n",
            "Epoch 959/1000\n",
            "132/132 [==============================] - 3s 20ms/step - loss: 3.2902e-04 - accuracy: 2.3787e-04\n",
            "Epoch 960/1000\n",
            "132/132 [==============================] - 3s 19ms/step - loss: 3.2340e-04 - accuracy: 2.3787e-04\n",
            "Epoch 961/1000\n",
            "132/132 [==============================] - 3s 20ms/step - loss: 3.3025e-04 - accuracy: 2.3787e-04\n",
            "Epoch 962/1000\n",
            "132/132 [==============================] - 2s 19ms/step - loss: 3.3855e-04 - accuracy: 2.3787e-04\n",
            "Epoch 963/1000\n",
            "132/132 [==============================] - 3s 19ms/step - loss: 3.3539e-04 - accuracy: 2.3787e-04\n",
            "Epoch 964/1000\n",
            "132/132 [==============================] - 3s 19ms/step - loss: 2.9641e-04 - accuracy: 2.3787e-04\n",
            "Epoch 965/1000\n",
            "132/132 [==============================] - 3s 19ms/step - loss: 3.0728e-04 - accuracy: 2.3787e-04\n",
            "Epoch 966/1000\n",
            "132/132 [==============================] - 3s 19ms/step - loss: 3.0438e-04 - accuracy: 2.3787e-04\n",
            "Epoch 967/1000\n",
            "132/132 [==============================] - 3s 19ms/step - loss: 3.1051e-04 - accuracy: 2.3787e-04\n",
            "Epoch 968/1000\n",
            "132/132 [==============================] - 3s 19ms/step - loss: 3.1881e-04 - accuracy: 2.3787e-04\n",
            "Epoch 969/1000\n",
            "132/132 [==============================] - 2s 19ms/step - loss: 3.0350e-04 - accuracy: 2.3787e-04\n",
            "Epoch 970/1000\n",
            "132/132 [==============================] - 3s 19ms/step - loss: 3.1009e-04 - accuracy: 2.3787e-04\n",
            "Epoch 971/1000\n",
            "132/132 [==============================] - 3s 19ms/step - loss: 3.1584e-04 - accuracy: 2.3787e-04\n",
            "Epoch 972/1000\n",
            "132/132 [==============================] - 3s 20ms/step - loss: 2.9145e-04 - accuracy: 2.3787e-04\n",
            "Epoch 973/1000\n",
            "132/132 [==============================] - 3s 19ms/step - loss: 3.0931e-04 - accuracy: 2.3787e-04\n",
            "Epoch 974/1000\n",
            "132/132 [==============================] - 3s 19ms/step - loss: 3.0756e-04 - accuracy: 2.3787e-04\n",
            "Epoch 975/1000\n",
            "132/132 [==============================] - 3s 19ms/step - loss: 2.9997e-04 - accuracy: 2.3787e-04\n",
            "Epoch 976/1000\n",
            "132/132 [==============================] - 2s 19ms/step - loss: 3.0687e-04 - accuracy: 2.3787e-04\n",
            "Epoch 977/1000\n",
            "132/132 [==============================] - 3s 19ms/step - loss: 3.0306e-04 - accuracy: 2.3787e-04\n",
            "Epoch 978/1000\n",
            "132/132 [==============================] - 3s 19ms/step - loss: 3.0018e-04 - accuracy: 2.3787e-04\n",
            "Epoch 979/1000\n",
            "132/132 [==============================] - 3s 21ms/step - loss: 3.2598e-04 - accuracy: 2.3787e-04\n",
            "Epoch 980/1000\n",
            "132/132 [==============================] - 3s 20ms/step - loss: 3.0380e-04 - accuracy: 2.3787e-04\n",
            "Epoch 981/1000\n",
            "132/132 [==============================] - 3s 20ms/step - loss: 3.0209e-04 - accuracy: 2.3787e-04\n",
            "Epoch 982/1000\n",
            "132/132 [==============================] - 2s 19ms/step - loss: 3.1152e-04 - accuracy: 2.3787e-04\n",
            "Epoch 983/1000\n",
            "132/132 [==============================] - 3s 19ms/step - loss: 2.9088e-04 - accuracy: 2.3787e-04\n",
            "Epoch 984/1000\n",
            "132/132 [==============================] - 3s 19ms/step - loss: 2.8675e-04 - accuracy: 2.3787e-04\n",
            "Epoch 985/1000\n",
            "132/132 [==============================] - 3s 19ms/step - loss: 2.8071e-04 - accuracy: 2.3787e-04\n",
            "Epoch 986/1000\n",
            "132/132 [==============================] - 3s 19ms/step - loss: 3.0262e-04 - accuracy: 2.3787e-04\n",
            "Epoch 987/1000\n",
            "132/132 [==============================] - 3s 20ms/step - loss: 3.0392e-04 - accuracy: 2.3787e-04\n",
            "Epoch 988/1000\n",
            "132/132 [==============================] - 3s 19ms/step - loss: 2.7308e-04 - accuracy: 2.3787e-04\n",
            "Epoch 989/1000\n",
            "132/132 [==============================] - 3s 19ms/step - loss: 2.8317e-04 - accuracy: 2.3787e-04\n",
            "Epoch 990/1000\n",
            "132/132 [==============================] - 3s 19ms/step - loss: 3.0708e-04 - accuracy: 2.3787e-04\n",
            "Epoch 991/1000\n",
            "132/132 [==============================] - 3s 19ms/step - loss: 3.1614e-04 - accuracy: 2.3787e-04\n",
            "Epoch 992/1000\n",
            "132/132 [==============================] - 3s 19ms/step - loss: 2.9059e-04 - accuracy: 2.3787e-04\n",
            "Epoch 993/1000\n",
            "132/132 [==============================] - 3s 19ms/step - loss: 2.8170e-04 - accuracy: 2.3787e-04\n",
            "Epoch 994/1000\n",
            "132/132 [==============================] - 3s 19ms/step - loss: 2.8640e-04 - accuracy: 2.3787e-04\n",
            "Epoch 995/1000\n",
            "132/132 [==============================] - 3s 19ms/step - loss: 2.9514e-04 - accuracy: 2.3787e-04\n",
            "Epoch 996/1000\n",
            "132/132 [==============================] - 3s 20ms/step - loss: 3.0575e-04 - accuracy: 2.3787e-04\n",
            "Epoch 997/1000\n",
            "132/132 [==============================] - 3s 19ms/step - loss: 3.0938e-04 - accuracy: 2.3787e-04\n",
            "Epoch 998/1000\n",
            "132/132 [==============================] - 3s 19ms/step - loss: 2.9866e-04 - accuracy: 2.3787e-04\n",
            "Epoch 999/1000\n",
            "132/132 [==============================] - 3s 20ms/step - loss: 3.1819e-04 - accuracy: 2.3787e-04\n",
            "Epoch 1000/1000\n",
            "132/132 [==============================] - 3s 20ms/step - loss: 3.6774e-04 - accuracy: 2.3787e-04\n"
          ],
          "name": "stdout"
        },
        {
          "output_type": "execute_result",
          "data": {
            "text/plain": [
              "<tensorflow.python.keras.callbacks.History at 0x7f55ffa42f98>"
            ]
          },
          "metadata": {
            "tags": []
          },
          "execution_count": 150
        }
      ]
    },
    {
      "cell_type": "markdown",
      "metadata": {
        "id": "seEYqIS9NAPB"
      },
      "source": [
        "## Part 3 - Making the predictions and visualising the results "
      ]
    },
    {
      "cell_type": "markdown",
      "metadata": {
        "id": "OVzy1vXYNAPB"
      },
      "source": [
        "### Getting the real stock price  "
      ]
    },
    {
      "cell_type": "code",
      "metadata": {
        "id": "9Lxwk3h7NAPG",
        "colab": {
          "base_uri": "https://localhost:8080/"
        },
        "outputId": "b2ec27c4-e42b-43ca-9d3f-cff360ac41d3"
      },
      "source": [
        "real_stock_price = testing_set\n",
        "len(real_stock_price)\n",
        "# plot(real_stock_price)"
      ],
      "execution_count": null,
      "outputs": [
        {
          "output_type": "execute_result",
          "data": {
            "text/plain": [
              "21"
            ]
          },
          "metadata": {
            "tags": []
          },
          "execution_count": 152
        }
      ]
    },
    {
      "cell_type": "code",
      "metadata": {
        "id": "ngBs1KDUNAPI",
        "colab": {
          "base_uri": "https://localhost:8080/"
        },
        "outputId": "85e8f5e6-de9c-494f-f06f-514cb1a60b5e"
      },
      "source": [
        "dataset.iloc[0:4284, 8:9].shape"
      ],
      "execution_count": null,
      "outputs": [
        {
          "output_type": "execute_result",
          "data": {
            "text/plain": [
              "(4284, 1)"
            ]
          },
          "metadata": {
            "tags": []
          },
          "execution_count": 153
        }
      ]
    },
    {
      "cell_type": "code",
      "metadata": {
        "id": "fyoTw4hSNAPK",
        "colab": {
          "base_uri": "https://localhost:8080/"
        },
        "outputId": "4eedf582-e188-4ab3-9ac5-661532f3cb09"
      },
      "source": [
        "dataset['Close'].shape"
      ],
      "execution_count": null,
      "outputs": [
        {
          "output_type": "execute_result",
          "data": {
            "text/plain": [
              "(4305,)"
            ]
          },
          "metadata": {
            "tags": []
          },
          "execution_count": 154
        }
      ]
    },
    {
      "cell_type": "code",
      "metadata": {
        "id": "12esKZzBNAPL"
      },
      "source": [
        "dataset_total = pd.concat((dataset.iloc[0:4284, 8:9],dataset.iloc[4284:, 8:9]), axis = 0)"
      ],
      "execution_count": null,
      "outputs": []
    },
    {
      "cell_type": "code",
      "metadata": {
        "id": "51NKP57ZNAPN",
        "colab": {
          "base_uri": "https://localhost:8080/"
        },
        "outputId": "2eff9018-1046-4047-8ef6-4ca17db2afb3"
      },
      "source": [
        "type(dataset_total['Close'])\n"
      ],
      "execution_count": null,
      "outputs": [
        {
          "output_type": "execute_result",
          "data": {
            "text/plain": [
              "pandas.core.series.Series"
            ]
          },
          "metadata": {
            "tags": []
          },
          "execution_count": 156
        }
      ]
    },
    {
      "cell_type": "code",
      "metadata": {
        "id": "f1cd2t7pNAPQ",
        "colab": {
          "base_uri": "https://localhost:8080/"
        },
        "outputId": "1d80d97e-c265-4c7b-f79e-208a633d363d"
      },
      "source": [
        "type(dataset_total)"
      ],
      "execution_count": null,
      "outputs": [
        {
          "output_type": "execute_result",
          "data": {
            "text/plain": [
              "pandas.core.frame.DataFrame"
            ]
          },
          "metadata": {
            "tags": []
          },
          "execution_count": 157
        }
      ]
    },
    {
      "cell_type": "code",
      "metadata": {
        "id": "JRhM6WsmNAPT",
        "colab": {
          "base_uri": "https://localhost:8080/"
        },
        "outputId": "ac924948-6c0b-49ed-cd9b-ea31ca07e09d"
      },
      "source": [
        "dataset['Close'][len(dataset) - len(real_stock_price) - 80:].values"
      ],
      "execution_count": null,
      "outputs": [
        {
          "output_type": "execute_result",
          "data": {
            "text/plain": [
              "array([5426.15, 5561.75, 5475.75, 5502.2 , 5726.2 , 5714.4 , 5897.35,\n",
              "       5896.  , 5886.5 , 5755.35, 5762.3 , 5754.9 , 5678.7 , 5838.3 ,\n",
              "       5803.1 , 5948.45, 5932.1 , 6123.6 , 6226.75, 6044.4 , 6002.35,\n",
              "       5955.65, 5988.85, 5771.75, 5801.3 , 5875.35, 5919.5 , 5867.5 ,\n",
              "       6130.85, 6003.4 , 6065.95, 6000.7 , 6043.3 , 6282.8 , 6185.15,\n",
              "       6265.4 , 6262.75, 6165.2 , 6358.95, 6526.25, 6555.75, 6679.  ,\n",
              "       6608.9 , 6649.2 , 6730.3 , 6731.65, 6588.2 , 6768.4 , 6893.1 ,\n",
              "       6990.3 , 6974.7 , 6973.  , 7082.5 , 7109.95, 7008.65, 7098.  ,\n",
              "       7104.1 , 6839.95, 6905.65, 6920.75, 7072.6 , 7190.1 , 7209.15,\n",
              "       7224.  , 7215.25, 7231.65, 7193.6 , 7128.85, 7052.8 , 7057.95,\n",
              "       7085.85, 6964.75, 6626.95, 6440.55, 6501.3 , 6297.7 , 6497.7 ,\n",
              "       6703.  , 6742.75, 6743.45, 6796.3 , 6818.85, 6892.4 , 7046.9 ,\n",
              "       7079.85, 7062.4 , 7136.65, 7032.9 , 7002.35, 6892.6 , 6894.9 ,\n",
              "       6851.95, 6844.6 , 6861.85, 6811.55, 7103.25, 7054.8 , 7158.4 ,\n",
              "       7186.05, 7117.7 , 6965.15])"
            ]
          },
          "metadata": {
            "tags": []
          },
          "execution_count": 158
        }
      ]
    },
    {
      "cell_type": "code",
      "metadata": {
        "id": "ghJZKmZsNAPV",
        "colab": {
          "base_uri": "https://localhost:8080/"
        },
        "outputId": "dd35f105-8dfb-4909-f086-5c2dc9dbea79"
      },
      "source": [
        "dataset_total[len(dataset_total) - len(real_stock_price)  - 80:].values"
      ],
      "execution_count": null,
      "outputs": [
        {
          "output_type": "execute_result",
          "data": {
            "text/plain": [
              "array([[5426.15],\n",
              "       [5561.75],\n",
              "       [5475.75],\n",
              "       [5502.2 ],\n",
              "       [5726.2 ],\n",
              "       [5714.4 ],\n",
              "       [5897.35],\n",
              "       [5896.  ],\n",
              "       [5886.5 ],\n",
              "       [5755.35],\n",
              "       [5762.3 ],\n",
              "       [5754.9 ],\n",
              "       [5678.7 ],\n",
              "       [5838.3 ],\n",
              "       [5803.1 ],\n",
              "       [5948.45],\n",
              "       [5932.1 ],\n",
              "       [6123.6 ],\n",
              "       [6226.75],\n",
              "       [6044.4 ],\n",
              "       [6002.35],\n",
              "       [5955.65],\n",
              "       [5988.85],\n",
              "       [5771.75],\n",
              "       [5801.3 ],\n",
              "       [5875.35],\n",
              "       [5919.5 ],\n",
              "       [5867.5 ],\n",
              "       [6130.85],\n",
              "       [6003.4 ],\n",
              "       [6065.95],\n",
              "       [6000.7 ],\n",
              "       [6043.3 ],\n",
              "       [6282.8 ],\n",
              "       [6185.15],\n",
              "       [6265.4 ],\n",
              "       [6262.75],\n",
              "       [6165.2 ],\n",
              "       [6358.95],\n",
              "       [6526.25],\n",
              "       [6555.75],\n",
              "       [6679.  ],\n",
              "       [6608.9 ],\n",
              "       [6649.2 ],\n",
              "       [6730.3 ],\n",
              "       [6731.65],\n",
              "       [6588.2 ],\n",
              "       [6768.4 ],\n",
              "       [6893.1 ],\n",
              "       [6990.3 ],\n",
              "       [6974.7 ],\n",
              "       [6973.  ],\n",
              "       [7082.5 ],\n",
              "       [7109.95],\n",
              "       [7008.65],\n",
              "       [7098.  ],\n",
              "       [7104.1 ],\n",
              "       [6839.95],\n",
              "       [6905.65],\n",
              "       [6920.75],\n",
              "       [7072.6 ],\n",
              "       [7190.1 ],\n",
              "       [7209.15],\n",
              "       [7224.  ],\n",
              "       [7215.25],\n",
              "       [7231.65],\n",
              "       [7193.6 ],\n",
              "       [7128.85],\n",
              "       [7052.8 ],\n",
              "       [7057.95],\n",
              "       [7085.85],\n",
              "       [6964.75],\n",
              "       [6626.95],\n",
              "       [6440.55],\n",
              "       [6501.3 ],\n",
              "       [6297.7 ],\n",
              "       [6497.7 ],\n",
              "       [6703.  ],\n",
              "       [6742.75],\n",
              "       [6743.45],\n",
              "       [6796.3 ],\n",
              "       [6818.85],\n",
              "       [6892.4 ],\n",
              "       [7046.9 ],\n",
              "       [7079.85],\n",
              "       [7062.4 ],\n",
              "       [7136.65],\n",
              "       [7032.9 ],\n",
              "       [7002.35],\n",
              "       [6892.6 ],\n",
              "       [6894.9 ],\n",
              "       [6851.95],\n",
              "       [6844.6 ],\n",
              "       [6861.85],\n",
              "       [6811.55],\n",
              "       [7103.25],\n",
              "       [7054.8 ],\n",
              "       [7158.4 ],\n",
              "       [7186.05],\n",
              "       [7117.7 ],\n",
              "       [6965.15]])"
            ]
          },
          "metadata": {
            "tags": []
          },
          "execution_count": 159
        }
      ]
    },
    {
      "cell_type": "markdown",
      "metadata": {
        "id": "bWbltmVWNAPX"
      },
      "source": [
        "### Getting the predicted stock price "
      ]
    },
    {
      "cell_type": "code",
      "metadata": {
        "id": "IStDMW96NAPX"
      },
      "source": [
        "# dataset_total = pd.concat((dataset_train['close'], dataset_test['close']), axis = 0)\n",
        "dataset_total = dataset['Close']\n",
        "inputs = dataset_total[len(dataset_total) - len(real_stock_price) - 80:].values\n",
        "inputs = inputs.reshape(-1,1)\n",
        "inputs = sc.transform(inputs)\n",
        "X_test = []\n",
        "for i in range(80, 101):\n",
        "    X_test.append(inputs[i-79:i+1, 0])\n",
        "X_test = np.array(X_test)\n",
        "X_test = np.reshape(X_test, (X_test.shape[0], X_test.shape[1], 1))\n",
        "predicted_stock_price = regressor.predict(X_test)\n",
        "predicted_stock_price = sc.inverse_transform(predicted_stock_price)"
      ],
      "execution_count": null,
      "outputs": []
    },
    {
      "cell_type": "markdown",
      "metadata": {
        "id": "GMLblvEmNAPZ"
      },
      "source": [
        "## Visualising the results"
      ]
    },
    {
      "cell_type": "code",
      "metadata": {
        "id": "Tc9GNpArNAPa",
        "colab": {
          "base_uri": "https://localhost:8080/",
          "height": 481
        },
        "outputId": "06ed5cbb-47b9-4a37-d1e2-b388ed5a8b9f"
      },
      "source": [
        "plt.plot(real_stock_price, color = 'red', label = 'Real Maruti Stock Price')\n",
        "plt.plot(predicted_stock_price, color = 'blue', label = 'Predicted Maruti Stock Price')\n",
        "plt.title('Maruti Stock Price Prediction')\n",
        "plt.xlabel('Time')\n",
        "plt.ylabel('Maruti Stock Price')\n",
        "plt.legend()\n",
        "plt.show()"
      ],
      "execution_count": null,
      "outputs": [
        {
          "output_type": "display_data",
          "data": {
            "image/png": "[encoded data removed]",
            "text/plain": [
              "<Figure size 748.8x514.8 with 1 Axes>"
            ]
          },
          "metadata": {
            "tags": [],
            "needs_background": "light"
          }
        }
      ]
    },
    {
      "cell_type": "code",
      "metadata": {
        "id": "JeUD-rch3uql"
      },
      "source": [
        "import math\n",
        "from sklearn.metrics import mean_squared_error\n",
        "rmse = math.sqrt(mean_squared_error(real_stock_price, predicted_stock_price))"
      ],
      "execution_count": null,
      "outputs": []
    },
    {
      "cell_type": "code",
      "metadata": {
        "id": "3N4yRw2J4QEJ",
        "colab": {
          "base_uri": "https://localhost:8080/"
        },
        "outputId": "a79c92dd-ac66-4992-bf1b-18bd95c0b984"
      },
      "source": [
        "rmse"
      ],
      "execution_count": null,
      "outputs": [
        {
          "output_type": "execute_result",
          "data": {
            "text/plain": [
              "113.04825292058878"
            ]
          },
          "metadata": {
            "tags": []
          },
          "execution_count": 163
        }
      ]
    },
    {
      "cell_type": "code",
      "metadata": {
        "id": "tW9MmEwH4RNM",
        "colab": {
          "base_uri": "https://localhost:8080/"
        },
        "outputId": "eceb87d4-f5ab-4df0-bce2-975e4277ff66"
      },
      "source": [
        "rmse/7000"
      ],
      "execution_count": null,
      "outputs": [
        {
          "output_type": "execute_result",
          "data": {
            "text/plain": [
              "0.01614975041722697"
            ]
          },
          "metadata": {
            "tags": []
          },
          "execution_count": 164
        }
      ]
    },
    {
      "cell_type": "code",
      "metadata": {
        "id": "F5QlFT4KXjuY",
        "colab": {
          "base_uri": "https://localhost:8080/"
        },
        "outputId": "cc177f7d-59a1-4f3c-ba58-ab05c5db6876"
      },
      "source": [
        "rmse"
      ],
      "execution_count": null,
      "outputs": [
        {
          "output_type": "execute_result",
          "data": {
            "text/plain": [
              "113.04825292058878"
            ]
          },
          "metadata": {
            "tags": []
          },
          "execution_count": 165
        }
      ]
    },
    {
      "cell_type": "code",
      "metadata": {
        "id": "BT44OuTvjsoP",
        "colab": {
          "base_uri": "https://localhost:8080/"
        },
        "outputId": "96e0808d-ee32-4941-cd2d-4920595abd2a"
      },
      "source": [
        "loss = regressor.evaluate(X_train, Y_train, verbose=0)\n",
        "print(loss)\n"
      ],
      "execution_count": null,
      "outputs": [
        {
          "output_type": "stream",
          "text": [
            "[0.00015151208208408207, 0.00023786869132891297]\n"
          ],
          "name": "stdout"
        }
      ]
    },
    {
      "cell_type": "code",
      "metadata": {
        "id": "b5mh2KwRk-yY",
        "colab": {
          "base_uri": "https://localhost:8080/"
        },
        "outputId": "c6f4b75b-1f6b-4e56-bcdd-83c35ba464ab"
      },
      "source": [
        "9+8"
      ],
      "execution_count": null,
      "outputs": [
        {
          "output_type": "execute_result",
          "data": {
            "text/plain": [
              "17"
            ]
          },
          "metadata": {
            "tags": []
          },
          "execution_count": 167
        }
      ]
    },
    {
      "cell_type": "code",
      "metadata": {
        "id": "fobVIS2729WB"
      },
      "source": [
        ""
      ],
      "execution_count": null,
      "outputs": []
    }
  ]
}